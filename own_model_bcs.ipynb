{
 "cells": [
  {
   "cell_type": "code",
   "execution_count": 1,
   "metadata": {
    "colab": {},
    "colab_type": "code",
    "id": "x68BKZOJYvhB"
   },
   "outputs": [],
   "source": [
    "import torch\n",
    "import torch.nn as nn\n",
    "import torchvision\n",
    "import matplotlib.pyplot as plt\n",
    "import torchvision.transforms as transforms\n",
    "import numpy as np\n",
    "import math\n",
    "import pandas as pd"
   ]
  },
  {
   "cell_type": "code",
   "execution_count": 2,
   "metadata": {
    "colab": {},
    "colab_type": "code",
    "id": "eu-Ie-mZfRfK"
   },
   "outputs": [],
   "source": [
    "import scipy.io\n",
    "\n",
    "keys = ['names', 'images', 'drawings', 'offsets']\n",
    "\n",
    "def load_mat(file):\n",
    "\tmat = scipy.io.loadmat(file)\n",
    "\treturn mat\n",
    "\n",
    "mat_dict = load_mat(\"./data_background.mat\")\n",
    "\n",
    "names = []\n",
    "for i in range(len(mat_dict['names'])):\n",
    "\tnames.append(str(mat_dict['names'][i].tolist()[0][0]))\n",
    "\n",
    "character = {}\n",
    "for index, (name, drawings_dir, images_dir) in enumerate(zip(names, mat_dict['drawings'], mat_dict['images'])):\n",
    "\n",
    "\tdrawings_dir, images_dir = drawings_dir[0], images_dir[0]\n",
    "\n",
    "\t_dir = []\n",
    "\tfor drawings_subdir, images_subdir in zip(drawings_dir, images_dir):\n",
    "\t\tdrawings_subdir, images_subdir = drawings_subdir[0], images_subdir[0]\n",
    "\t\t_subdir = []\n",
    "\t\tfor drawings_img, images_img in zip(drawings_subdir, images_subdir):\n",
    "\t\t\tidrawings_img, images_img = drawings_img[0], images_img[0]\n",
    "\n",
    "\t\t\t_img = {}\n",
    "\t\t\t_img['data'] = images_img\n",
    "\t\t\t_img['strokes'] = []\n",
    "\t\t\tfor drawings_stroke in zip(drawings_img):\n",
    "\t\t\t\t_img['strokes'].append(drawings_stroke[0])\n",
    "\t\t\t_subdir.append(_img)\n",
    "\t\t_dir.append(_subdir)\n",
    "\n",
    "\tcharacter[name] = _dir"
   ]
  },
  {
   "cell_type": "code",
   "execution_count": 3,
   "metadata": {
    "colab": {
     "base_uri": "https://localhost:8080/",
     "height": 34
    },
    "colab_type": "code",
    "id": "p2jH7B0YfWBb",
    "outputId": "b481e3b3-30f7-4a79-a61c-ca0b6db2e976"
   },
   "outputs": [
    {
     "name": "stdout",
     "output_type": "stream",
     "text": [
      "25\n"
     ]
    }
   ],
   "source": [
    "print(len(character['Braille'][8][1]['strokes'][0][8][0]))"
   ]
  },
  {
   "cell_type": "code",
   "execution_count": 4,
   "metadata": {
    "colab": {},
    "colab_type": "code",
    "id": "H3Ncnraj5Dfa"
   },
   "outputs": [],
   "source": [
    "# primitives = character[<language>][<character>][<character number>]['strokes'][0][<primitive number>][0] --> (n,2) np array"
   ]
  },
  {
   "cell_type": "code",
   "execution_count": 5,
   "metadata": {
    "colab": {
     "base_uri": "https://localhost:8080/",
     "height": 34
    },
    "colab_type": "code",
    "id": "CzO8ZKUch65u",
    "outputId": "12f727dd-c3cc-4411-9a21-141f2c574c5d"
   },
   "outputs": [
    {
     "data": {
      "text/plain": [
       "(1,)"
      ]
     },
     "execution_count": 5,
     "metadata": {},
     "output_type": "execute_result"
    }
   ],
   "source": [
    "character['Hebrew'][8][1]['strokes'][0][2].shape"
   ]
  },
  {
   "cell_type": "code",
   "execution_count": 6,
   "metadata": {
    "colab": {
     "base_uri": "https://localhost:8080/",
     "height": 395
    },
    "colab_type": "code",
    "id": "hX3TDy_orpIE",
    "outputId": "5f794b3f-2514-4ffa-9418-89ac47f2f749"
   },
   "outputs": [
    {
     "name": "stdout",
     "output_type": "stream",
     "text": [
      "(53, 1) (53, 1)\n"
     ]
    }
   ],
   "source": [
    "x=character['Hebrew'][8][1]['strokes'][0][2][0][:,[0]]\n",
    "y=character['Hebrew'][8][1]['strokes'][0][2][0][:,[1]]\n",
    "print(x.shape,y.shape)"
   ]
  },
  {
   "cell_type": "code",
   "execution_count": 7,
   "metadata": {
    "colab": {
     "base_uri": "https://localhost:8080/",
     "height": 267
    },
    "colab_type": "code",
    "id": "iTJqSqZQrevP",
    "outputId": "6618696f-e988-4720-9b4c-0ca17079667b"
   },
   "outputs": [
    {
     "data": {
      "image/png": "[encoded data removed]",
      "text/plain": [
       "<Figure size 432x288 with 1 Axes>"
      ]
     },
     "metadata": {
      "needs_background": "light"
     },
     "output_type": "display_data"
    }
   ],
   "source": [
    "plt.plot(x,y,'b')\n",
    "plt.show()"
   ]
  },
  {
   "cell_type": "code",
   "execution_count": 8,
   "metadata": {
    "colab": {},
    "colab_type": "code",
    "id": "eNzaKtGy2j_Z"
   },
   "outputs": [],
   "source": [
    "from rdp import rdp"
   ]
  },
  {
   "cell_type": "code",
   "execution_count": 9,
   "metadata": {},
   "outputs": [],
   "source": [
    "mask = rdp(character['Hebrew'][8][1]['strokes'][0][2][0],epsilon=1,algo=\"iter\",return_mask=False)"
   ]
  },
  {
   "cell_type": "code",
   "execution_count": 10,
   "metadata": {},
   "outputs": [
    {
     "data": {
      "text/plain": [
       "7"
      ]
     },
     "execution_count": 10,
     "metadata": {},
     "output_type": "execute_result"
    }
   ],
   "source": [
    "mask.shape[0]"
   ]
  },
  {
   "cell_type": "code",
   "execution_count": 11,
   "metadata": {},
   "outputs": [
    {
     "data": {
      "text/plain": [
       "(53, 2)"
      ]
     },
     "execution_count": 11,
     "metadata": {},
     "output_type": "execute_result"
    }
   ],
   "source": [
    "character['Hebrew'][8][1]['strokes'][0][2][0].shape"
   ]
  },
  {
   "cell_type": "code",
   "execution_count": 12,
   "metadata": {},
   "outputs": [
    {
     "data": {
      "image/png": "[encoded data removed]",
      "text/plain": [
       "<Figure size 432x288 with 1 Axes>"
      ]
     },
     "metadata": {
      "needs_background": "light"
     },
     "output_type": "display_data"
    }
   ],
   "source": [
    "plt.plot(mask[:,[0]],mask[:,[1]],'ro')\n",
    "plt.plot(x,y,'b')\n",
    "plt.show()"
   ]
  },
  {
   "cell_type": "code",
   "execution_count": 13,
   "metadata": {},
   "outputs": [],
   "source": [
    "# rdp takes a (n,2) input, so I make a function and \n",
    "# iterate it until it gives me a 5 point representation of the spline."
   ]
  },
  {
   "cell_type": "code",
   "execution_count": 14,
   "metadata": {},
   "outputs": [],
   "source": [
    "def spline(prim):\n",
    "    \"\"\"\n",
    "    Args:\n",
    "        prim (np array): Numpy array of points in dimension (n,2), in the format (x,y).\n",
    "        \n",
    "    Return:\n",
    "        Numpy array (spline) of dimension (5,2).\n",
    "    \"\"\"\n",
    "    mask = rdp(prim,algo=\"iter\",return_mask=False)\n",
    "    ep=0\n",
    "    while mask.shape[0]!=5 :\n",
    "        ep+=0.1\n",
    "        mask=rdp(prim,epsilon=ep,algo=\"iter\",return_mask=False)\n",
    "    return mask"
   ]
  },
  {
   "cell_type": "code",
   "execution_count": 15,
   "metadata": {},
   "outputs": [],
   "source": [
    "sp=spline(character['Hebrew'][8][1]['strokes'][0][2][0])"
   ]
  },
  {
   "cell_type": "code",
   "execution_count": 16,
   "metadata": {},
   "outputs": [
    {
     "data": {
      "text/plain": [
       "[<matplotlib.lines.Line2D at 0x12905ca10>]"
      ]
     },
     "execution_count": 16,
     "metadata": {},
     "output_type": "execute_result"
    },
    {
     "data": {
      "image/png": "[encoded data removed]",
      "text/plain": [
       "<Figure size 432x288 with 1 Axes>"
      ]
     },
     "metadata": {
      "needs_background": "light"
     },
     "output_type": "display_data"
    }
   ],
   "source": [
    "plt.plot(x,y,'b')\n",
    "plt.plot(sp[:,[0]],sp[:,[1]],'ro')"
   ]
  },
  {
   "cell_type": "code",
   "execution_count": 17,
   "metadata": {},
   "outputs": [],
   "source": [
    "from scipy import interpolate"
   ]
  },
  {
   "cell_type": "code",
   "execution_count": 18,
   "metadata": {},
   "outputs": [
    {
     "name": "stdout",
     "output_type": "stream",
     "text": [
      "(53,) (53,)\n"
     ]
    }
   ],
   "source": [
    "print(x.reshape(-1).shape,y.reshape(-1).shape)"
   ]
  },
  {
   "cell_type": "code",
   "execution_count": 19,
   "metadata": {},
   "outputs": [
    {
     "data": {
      "image/png": "[encoded data removed]",
      "text/plain": [
       "<Figure size 432x288 with 1 Axes>"
      ]
     },
     "metadata": {
      "needs_background": "light"
     },
     "output_type": "display_data"
    }
   ],
   "source": [
    "# plt.plot(out1[0],out1[1],'r')\n",
    "plt.plot(sp[:,[0]],sp[:,[1]],'b')\n",
    "plt.show()"
   ]
  },
  {
   "cell_type": "code",
   "execution_count": 20,
   "metadata": {},
   "outputs": [
    {
     "data": {
      "image/png": "[encoded data removed]",
      "text/plain": [
       "<Figure size 432x288 with 1 Axes>"
      ]
     },
     "metadata": {
      "needs_background": "light"
     },
     "output_type": "display_data"
    }
   ],
   "source": [
    "# Method 1\n",
    "tck, u = interpolate.splprep([x.reshape(-1), y.reshape(-1)], s=0) #\n",
    "unew = np.arange(0,1.1,0.25) #\n",
    "out = interpolate.splev(unew, tck)#\n",
    "xn, yn = out[0], out[1] #\n",
    "tck, u = interpolate.splprep([xn, yn], s=0)\n",
    "unew2 = np.arange(0,1,0.05)\n",
    "out2 = interpolate.splev(unew2, tck)\n",
    "plt.plot(out2[0],out2[1],'b')\n",
    "plt.plot(xn,yn,'ro')\n",
    "plt.show()"
   ]
  },
  {
   "cell_type": "code",
   "execution_count": 21,
   "metadata": {},
   "outputs": [
    {
     "data": {
      "image/png": "[encoded data removed]",
      "text/plain": [
       "<Figure size 432x288 with 1 Axes>"
      ]
     },
     "metadata": {
      "needs_background": "light"
     },
     "output_type": "display_data"
    }
   ],
   "source": [
    "# Method 2\n",
    "xn, yn = sp[:, 0], sp[:, 1]\n",
    "tck, u = interpolate.splprep([xn, yn], s=0)\n",
    "unew2 = np.arange(0,1,0.05)\n",
    "out2 = interpolate.splev(unew2, tck)\n",
    "plt.plot(out2[0],out2[1],'b')\n",
    "plt.plot(xn,yn,'ro')\n",
    "plt.show()"
   ]
  },
  {
   "cell_type": "code",
   "execution_count": 22,
   "metadata": {},
   "outputs": [],
   "source": [
    "# I will use method 1, as recommended by Shashi.\n",
    "# Storing the primitives as 5-point splines for each and every character in the dataset.\n",
    "# primitives = character[<language>][<character>][<character number>]['strokes'][0][<primitive number>][0] --> (n,2) np array\n",
    "\n",
    "# Store in the form of primitives = prims[<language>][<character>][<char number>]['strokes'][<primitive number>] --> (5,2) np array"
   ]
  },
  {
   "cell_type": "code",
   "execution_count": 23,
   "metadata": {},
   "outputs": [
    {
     "data": {
      "text/plain": [
       "array([[ 0.24848655],\n",
       "       [-0.64643383],\n",
       "       [-0.64005269],\n",
       "       [ 0.01826258],\n",
       "       [ 0.04276882]])"
      ]
     },
     "execution_count": 23,
     "metadata": {},
     "output_type": "execute_result"
    }
   ],
   "source": [
    "np.random.normal(0,0.5,(5,1))"
   ]
  },
  {
   "cell_type": "code",
   "execution_count": 59,
   "metadata": {},
   "outputs": [],
   "source": [
    "def rep(arr):\n",
    "    last=arr[-1].reshape(-1,1)\n",
    "    for _ in range(5-arr.shape[0]):\n",
    "        arr=np.append(arr,last,axis=0)\n",
    "    return arr\n",
    "def spline_5(primitive):\n",
    "    \"\"\"\n",
    "    Args:\n",
    "        primitive (numpy array): The (n,2) np array of the primitive coordinates.\n",
    "    \"\"\"\n",
    "    xc=primitive[:,[0]]\n",
    "    yc=primitive[:,[1]]\n",
    "    d=xc.shape[0]\n",
    "    try :\n",
    "        if d>=5:\n",
    "            tck, u = interpolate.splprep([xc.reshape(-1), yc.reshape(-1)], s=0)\n",
    "            unew = np.arange(0,1.1,0.25)\n",
    "            out = interpolate.splev(unew, tck)\n",
    "\n",
    "            ## Comment out below 4 lines for outputting the spline\n",
    "            xn, yn = out[0], out[1]\n",
    "            tck, u = interpolate.splprep([xn, yn], s=0)\n",
    "            unew2 = np.arange(0,1,0.05)\n",
    "            out = interpolate.splev(unew2, tck)\n",
    "\n",
    "            return np.array(out).transpose((1,0))\n",
    "        else :\n",
    "            if d==1:\n",
    "                return np.concatenate((rep(xc),rep(yc)),axis=1)\n",
    "            tck, u = interpolate.splprep([xc.reshape(-1), yc.reshape(-1)], s=0,k=1)\n",
    "            unew = np.arange(0,1.1,0.25)\n",
    "            out = interpolate.splev(unew, tck)\n",
    "            return np.array(out).transpose((1,0))\n",
    "    except :\n",
    "        xc+=np.random.normal(0,0.5,(d,1))\n",
    "        yc+=np.random.normal(0,0.5,(d,1))\n",
    "        return spline_5(np.concatenate((xc,yc),axis=1))"
   ]
  },
  {
   "cell_type": "code",
   "execution_count": 101,
   "metadata": {},
   "outputs": [
    {
     "data": {
      "image/png": "[encoded data removed]",
      "text/plain": [
       "<Figure size 432x288 with 1 Axes>"
      ]
     },
     "metadata": {
      "needs_background": "light"
     },
     "output_type": "display_data"
    }
   ],
   "source": [
    "xm=character['Early Aramaic'][17][2]['strokes'][0]\n",
    "ym=character['Early Aramaic'][17][2]['strokes'][0]\n",
    "plt.plot(xm[0][0][:,[0]],ym[0][0][:,[1]],'b')\n",
    "plt.plot(xm[1][0][:,[0]],ym[1][0][:,[1]],'b')\n",
    "# plt.plot(xm[2][0][:,[0]],ym[2][0][:,[1]],'b')\n",
    "# plt.plot(xm[3][0][:,[0]],ym[3][0][:,[1]],'b')\n",
    "plt.plot(spline_5(np.concatenate((xm[0][0][:,[0]],ym[0][0][:,[1]]),axis=1))[:,[0]],spline_5(np.concatenate((xm[0][0][:,[0]],ym[0][0][:,[1]]),axis=1))[:,[1]],'r')\n",
    "plt.plot(spline_5(np.concatenate((xm[1][0][:,[0]],ym[1][0][:,[1]]),axis=1))[:,[0]],spline_5(np.concatenate((xm[1][0][:,[0]],ym[1][0][:,[1]]),axis=1))[:,[1]],'r')\n",
    "# plt.plot(spline_5(np.concatenate((xm[2][0][:,[0]],ym[2][0][:,[1]]),axis=1))[:,[0]],spline_5(np.concatenate((xm[2][0][:,[0]],ym[2][0][:,[1]]),axis=1))[:,[1]],'r')\n",
    "# plt.plot(spline_5(np.concatenate((xm[3][0][:,[0]],ym[3][0][:,[1]]),axis=1))[:,[0]],spline_5(np.concatenate((xm[3][0][:,[0]],ym[3][0][:,[1]]),axis=1))[:,[1]],'r')\n",
    "plt.axis('square')\n",
    "plt.show()"
   ]
  },
  {
   "cell_type": "code",
   "execution_count": 51,
   "metadata": {},
   "outputs": [
    {
     "data": {
      "text/plain": [
       "dict"
      ]
     },
     "execution_count": 51,
     "metadata": {},
     "output_type": "execute_result"
    }
   ],
   "source": [
    "prims={} # Initialized an empty dict first\n",
    "type(prims)"
   ]
  },
  {
   "cell_type": "code",
   "execution_count": null,
   "metadata": {
    "scrolled": false
   },
   "outputs": [],
   "source": [
    "# primitives = character[<language>][<character>][<character number>]['strokes'][0][<primitive number>][0] --> (n,2) np array\n",
    "for language in character:\n",
    "    for char in character[language]:\n",
    "        for char_num in char:\n",
    "            # char_num is a dict with key 'strokes'\n",
    "            for prim_num in char_num['strokes'][0]:\n",
    "                spline=spline_5(prim_num[0])"
   ]
  },
  {
   "cell_type": "code",
   "execution_count": null,
   "metadata": {
    "scrolled": true
   },
   "outputs": [],
   "source": []
  },
  {
   "cell_type": "code",
   "execution_count": null,
   "metadata": {},
   "outputs": [],
   "source": []
  }
 ],
 "metadata": {
  "colab": {
   "collapsed_sections": [],
   "name": "own-model-bcs.ipynb",
   "provenance": []
  },
  "kernelspec": {
   "display_name": "Python 3",
   "language": "python",
   "name": "python3"
  },
  "language_info": {
   "codemirror_mode": {
    "name": "ipython",
    "version": 3
   },
   "file_extension": ".py",
   "mimetype": "text/x-python",
   "name": "python",
   "nbconvert_exporter": "python",
   "pygments_lexer": "ipython3",
   "version": "3.7.4"
  }
 },
 "nbformat": 4,
 "nbformat_minor": 1
}
