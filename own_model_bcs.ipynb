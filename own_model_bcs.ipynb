{
 "cells": [
  {
   "cell_type": "code",
   "execution_count": 1,
   "metadata": {
    "colab": {},
    "colab_type": "code",
    "id": "x68BKZOJYvhB"
   },
   "outputs": [],
   "source": [
    "import torch\n",
    "import torch.nn as nn\n",
    "import torchvision\n",
    "import matplotlib.pyplot as plt\n",
    "import torchvision.transforms as transforms\n",
    "import numpy as np\n",
    "import math\n",
    "import pandas as pd"
   ]
  },
  {
   "cell_type": "code",
   "execution_count": 2,
   "metadata": {
    "colab": {},
    "colab_type": "code",
    "id": "eu-Ie-mZfRfK"
   },
   "outputs": [],
   "source": [
    "import scipy.io\n",
    "\n",
    "keys = ['names', 'images', 'drawings', 'offsets']\n",
    "\n",
    "def load_mat(file):\n",
    "\tmat = scipy.io.loadmat(file)\n",
    "\treturn mat\n",
    "\n",
    "mat_dict = load_mat(\"./data_background.mat\")\n",
    "\n",
    "names = []\n",
    "for i in range(len(mat_dict['names'])):\n",
    "\tnames.append(str(mat_dict['names'][i].tolist()[0][0]))\n",
    "\n",
    "character = {}\n",
    "for index, (name, drawings_dir, images_dir) in enumerate(zip(names, mat_dict['drawings'], mat_dict['images'])):\n",
    "\n",
    "\tdrawings_dir, images_dir = drawings_dir[0], images_dir[0]\n",
    "\n",
    "\t_dir = []\n",
    "\tfor drawings_subdir, images_subdir in zip(drawings_dir, images_dir):\n",
    "\t\tdrawings_subdir, images_subdir = drawings_subdir[0], images_subdir[0]\n",
    "\t\t_subdir = []\n",
    "\t\tfor drawings_img, images_img in zip(drawings_subdir, images_subdir):\n",
    "\t\t\tidrawings_img, images_img = drawings_img[0], images_img[0]\n",
    "\n",
    "\t\t\t_img = {}\n",
    "\t\t\t_img['data'] = images_img\n",
    "\t\t\t_img['strokes'] = []\n",
    "\t\t\tfor drawings_stroke in zip(drawings_img):\n",
    "\t\t\t\t_img['strokes'].append(drawings_stroke[0])\n",
    "\t\t\t_subdir.append(_img)\n",
    "\t\t_dir.append(_subdir)\n",
    "\n",
    "\tcharacter[name] = _dir"
   ]
  },
  {
   "cell_type": "code",
   "execution_count": 3,
   "metadata": {
    "colab": {
     "base_uri": "https://localhost:8080/",
     "height": 34
    },
    "colab_type": "code",
    "id": "p2jH7B0YfWBb",
    "outputId": "b481e3b3-30f7-4a79-a61c-ca0b6db2e976"
   },
   "outputs": [
    {
     "name": "stdout",
     "output_type": "stream",
     "text": [
      "25\n"
     ]
    }
   ],
   "source": [
    "print(len(character['Braille'][8][1]['strokes'][0][8][0]))"
   ]
  },
  {
   "cell_type": "code",
   "execution_count": 4,
   "metadata": {
    "colab": {},
    "colab_type": "code",
    "id": "H3Ncnraj5Dfa"
   },
   "outputs": [],
   "source": [
    "# primitives = character[<language>][<character>][<character number>]['strokes'][0][<primitive number>][0] --> (n,2) np array"
   ]
  },
  {
   "cell_type": "code",
   "execution_count": 5,
   "metadata": {
    "colab": {
     "base_uri": "https://localhost:8080/",
     "height": 34
    },
    "colab_type": "code",
    "id": "CzO8ZKUch65u",
    "outputId": "12f727dd-c3cc-4411-9a21-141f2c574c5d"
   },
   "outputs": [
    {
     "data": {
      "text/plain": [
       "(1,)"
      ]
     },
     "execution_count": 5,
     "metadata": {},
     "output_type": "execute_result"
    }
   ],
   "source": [
    "character['Hebrew'][8][1]['strokes'][0][2].shape"
   ]
  },
  {
   "cell_type": "code",
   "execution_count": 6,
   "metadata": {
    "colab": {
     "base_uri": "https://localhost:8080/",
     "height": 395
    },
    "colab_type": "code",
    "id": "hX3TDy_orpIE",
    "outputId": "5f794b3f-2514-4ffa-9418-89ac47f2f749"
   },
   "outputs": [
    {
     "name": "stdout",
     "output_type": "stream",
     "text": [
      "(53, 1) (53, 1)\n"
     ]
    }
   ],
   "source": [
    "x=character['Hebrew'][8][1]['strokes'][0][2][0][:,[0]]\n",
    "y=character['Hebrew'][8][1]['strokes'][0][2][0][:,[1]]\n",
    "print(x.shape,y.shape)"
   ]
  },
  {
   "cell_type": "code",
   "execution_count": 7,
   "metadata": {
    "colab": {
     "base_uri": "https://localhost:8080/",
     "height": 267
    },
    "colab_type": "code",
    "id": "iTJqSqZQrevP",
    "outputId": "6618696f-e988-4720-9b4c-0ca17079667b"
   },
   "outputs": [
    {
     "data": {
      "image/png": "[encoded data removed]",
      "text/plain": [
       "<Figure size 432x288 with 1 Axes>"
      ]
     },
     "metadata": {
      "needs_background": "light"
     },
     "output_type": "display_data"
    }
   ],
   "source": [
    "plt.plot(x,y,'b')\n",
    "plt.show()"
   ]
  },
  {
   "cell_type": "code",
   "execution_count": 8,
   "metadata": {
    "colab": {},
    "colab_type": "code",
    "id": "eNzaKtGy2j_Z"
   },
   "outputs": [],
   "source": [
    "from rdp import rdp"
   ]
  },
  {
   "cell_type": "code",
   "execution_count": 9,
   "metadata": {},
   "outputs": [],
   "source": [
    "mask = rdp(character['Hebrew'][8][1]['strokes'][0][2][0],epsilon=1,algo=\"iter\",return_mask=False)"
   ]
  },
  {
   "cell_type": "code",
   "execution_count": 10,
   "metadata": {},
   "outputs": [
    {
     "data": {
      "text/plain": [
       "7"
      ]
     },
     "execution_count": 10,
     "metadata": {},
     "output_type": "execute_result"
    }
   ],
   "source": [
    "mask.shape[0]"
   ]
  },
  {
   "cell_type": "code",
   "execution_count": 11,
   "metadata": {},
   "outputs": [
    {
     "data": {
      "text/plain": [
       "(53, 2)"
      ]
     },
     "execution_count": 11,
     "metadata": {},
     "output_type": "execute_result"
    }
   ],
   "source": [
    "character['Hebrew'][8][1]['strokes'][0][2][0].shape"
   ]
  },
  {
   "cell_type": "code",
   "execution_count": 12,
   "metadata": {},
   "outputs": [
    {
     "data": {
      "image/png": "[encoded data removed]",
      "text/plain": [
       "<Figure size 432x288 with 1 Axes>"
      ]
     },
     "metadata": {
      "needs_background": "light"
     },
     "output_type": "display_data"
    }
   ],
   "source": [
    "plt.plot(mask[:,[0]],mask[:,[1]],'ro')\n",
    "plt.plot(x,y,'b')\n",
    "plt.show()"
   ]
  },
  {
   "cell_type": "code",
   "execution_count": 13,
   "metadata": {},
   "outputs": [],
   "source": [
    "# rdp takes a (n,2) input, so I make a function and \n",
    "# iterate it until it gives me a 5 point representation of the spline."
   ]
  },
  {
   "cell_type": "code",
   "execution_count": 14,
   "metadata": {},
   "outputs": [],
   "source": [
    "def spline(prim):\n",
    "    \"\"\"\n",
    "    Args:\n",
    "        prim (np array): Numpy array of points in dimension (n,2), in the format (x,y).\n",
    "        \n",
    "    Return:\n",
    "        Numpy array (spline) of dimension (5,2).\n",
    "    \"\"\"\n",
    "    mask = rdp(prim,algo=\"iter\",return_mask=False)\n",
    "    ep=0\n",
    "    while mask.shape[0]!=5 :\n",
    "        ep+=0.1\n",
    "        mask=rdp(prim,epsilon=ep,algo=\"iter\",return_mask=False)\n",
    "    return mask"
   ]
  },
  {
   "cell_type": "code",
   "execution_count": 15,
   "metadata": {},
   "outputs": [],
   "source": [
    "sp=spline(character['Hebrew'][8][1]['strokes'][0][2][0])"
   ]
  },
  {
   "cell_type": "code",
   "execution_count": 16,
   "metadata": {},
   "outputs": [
    {
     "data": {
      "text/plain": [
       "[<matplotlib.lines.Line2D at 0x127561510>]"
      ]
     },
     "execution_count": 16,
     "metadata": {},
     "output_type": "execute_result"
    },
    {
     "data": {
      "image/png": "[encoded data removed]",
      "text/plain": [
       "<Figure size 432x288 with 1 Axes>"
      ]
     },
     "metadata": {
      "needs_background": "light"
     },
     "output_type": "display_data"
    }
   ],
   "source": [
    "plt.plot(x,y,'b')\n",
    "plt.plot(sp[:,[0]],sp[:,[1]],'ro')"
   ]
  },
  {
   "cell_type": "code",
   "execution_count": 17,
   "metadata": {},
   "outputs": [],
   "source": [
    "from scipy import interpolate"
   ]
  },
  {
   "cell_type": "code",
   "execution_count": 18,
   "metadata": {},
   "outputs": [
    {
     "name": "stdout",
     "output_type": "stream",
     "text": [
      "(53,) (53,)\n"
     ]
    }
   ],
   "source": [
    "print(x.reshape(-1).shape,y.reshape(-1).shape)"
   ]
  },
  {
   "cell_type": "code",
   "execution_count": 19,
   "metadata": {},
   "outputs": [
    {
     "data": {
      "image/png": "[encoded data removed]",
      "text/plain": [
       "<Figure size 432x288 with 1 Axes>"
      ]
     },
     "metadata": {
      "needs_background": "light"
     },
     "output_type": "display_data"
    }
   ],
   "source": [
    "# plt.plot(out1[0],out1[1],'r')\n",
    "plt.plot(sp[:,[0]],sp[:,[1]],'b')\n",
    "plt.show()"
   ]
  },
  {
   "cell_type": "code",
   "execution_count": 20,
   "metadata": {},
   "outputs": [
    {
     "data": {
      "image/png": "[encoded data removed]",
      "text/plain": [
       "<Figure size 432x288 with 1 Axes>"
      ]
     },
     "metadata": {
      "needs_background": "light"
     },
     "output_type": "display_data"
    }
   ],
   "source": [
    "# Method 1\n",
    "tck, u = interpolate.splprep([x.reshape(-1), y.reshape(-1)], s=0) #\n",
    "unew = np.arange(0,1.1,0.25) #\n",
    "out = interpolate.splev(unew, tck)#\n",
    "xn, yn = out[0], out[1] #\n",
    "tck, u = interpolate.splprep([xn, yn], s=0)\n",
    "unew2 = np.arange(0,1,0.05)\n",
    "out2 = interpolate.splev(unew2, tck)\n",
    "plt.plot(out2[0],out2[1],'b')\n",
    "plt.plot(xn,yn,'ro')\n",
    "plt.show()"
   ]
  },
  {
   "cell_type": "code",
   "execution_count": 21,
   "metadata": {},
   "outputs": [
    {
     "data": {
      "image/png": "[encoded data removed]",
      "text/plain": [
       "<Figure size 432x288 with 1 Axes>"
      ]
     },
     "metadata": {
      "needs_background": "light"
     },
     "output_type": "display_data"
    }
   ],
   "source": [
    "# Method 2\n",
    "xn, yn = sp[:, 0], sp[:, 1]\n",
    "tck, u = interpolate.splprep([xn, yn], s=0)\n",
    "unew2 = np.arange(0,1,0.05)\n",
    "out2 = interpolate.splev(unew2, tck)\n",
    "plt.plot(out2[0],out2[1],'b')\n",
    "plt.plot(xn,yn,'ro')\n",
    "plt.show()"
   ]
  },
  {
   "cell_type": "code",
   "execution_count": 22,
   "metadata": {},
   "outputs": [],
   "source": [
    "# I will use method 1, as recommended by Shashi.\n",
    "# Storing the primitives as 5-point splines for each and every character in the dataset.\n",
    "# primitives = character[<language>][<character>][<character number>]['strokes'][0][<primitive number>][0] --> (n,2) np array\n",
    "\n",
    "# Store in the form of primitives = prims[<language>][<character>][<char number>]['strokes'][<primitive number>] --> (5,2) np array"
   ]
  },
  {
   "cell_type": "code",
   "execution_count": 23,
   "metadata": {},
   "outputs": [
    {
     "data": {
      "text/plain": [
       "array([[ 0.85763678],\n",
       "       [-0.52226102],\n",
       "       [ 0.38643216],\n",
       "       [ 0.70084109],\n",
       "       [-0.42985466]])"
      ]
     },
     "execution_count": 23,
     "metadata": {},
     "output_type": "execute_result"
    }
   ],
   "source": [
    "np.random.normal(0,0.5,(5,1))"
   ]
  },
  {
   "cell_type": "code",
   "execution_count": 65,
   "metadata": {},
   "outputs": [],
   "source": [
    "def rep(arr):\n",
    "    last=arr[-1].reshape(-1,1)\n",
    "    for _ in range(5-arr.shape[0]):\n",
    "        arr=np.append(arr,last,axis=0)\n",
    "    return arr\n",
    "def spline_5(primitive):\n",
    "    \"\"\"\n",
    "    Args:\n",
    "        primitive (numpy array): The (n,2) np array of the primitive coordinates.\n",
    "    \"\"\"\n",
    "    xc=primitive[:,[0]]\n",
    "    yc=primitive[:,[1]]\n",
    "    d=xc.shape[0]\n",
    "    try :\n",
    "        if d>=5:\n",
    "            tck, u = interpolate.splprep([xc.reshape(-1), yc.reshape(-1)], s=0)\n",
    "            unew = np.arange(0,1.1,0.25)\n",
    "            out = interpolate.splev(unew, tck)\n",
    "\n",
    "            ## Comment out below 4 lines for outputting the spline\n",
    "#             xn, yn = out[0], out[1]\n",
    "#             tck, u = interpolate.splprep([xn, yn], s=0)\n",
    "#             unew2 = np.arange(0,1,0.05)\n",
    "#             out = interpolate.splev(unew2, tck)\n",
    "\n",
    "            return np.array(out).transpose((1,0))\n",
    "        else :\n",
    "            if d==1:\n",
    "                return np.concatenate((rep(xc),rep(yc)),axis=1)\n",
    "            tck, u = interpolate.splprep([xc.reshape(-1), yc.reshape(-1)], s=0,k=1)\n",
    "            unew = np.arange(0,1.1,0.25)\n",
    "            out = interpolate.splev(unew, tck)\n",
    "            return np.array(out).transpose((1,0))\n",
    "    except :\n",
    "        xc+=np.random.normal(0,0.5,(d,1))\n",
    "        yc+=np.random.normal(0,0.5,(d,1))\n",
    "        return spline_5(np.concatenate((xc,yc),axis=1))"
   ]
  },
  {
   "cell_type": "code",
   "execution_count": 66,
   "metadata": {},
   "outputs": [
    {
     "data": {
      "image/png": "[encoded data removed]",
      "text/plain": [
       "<Figure size 432x288 with 1 Axes>"
      ]
     },
     "metadata": {
      "needs_background": "light"
     },
     "output_type": "display_data"
    }
   ],
   "source": [
    "xm=character['Gujarati'][12][7]['strokes'][0]\n",
    "ym=character['Gujarati'][12][7]['strokes'][0]\n",
    "plt.plot(xm[0][0][:,[0]],ym[0][0][:,[1]],'b')\n",
    "plt.plot(xm[1][0][:,[0]],ym[1][0][:,[1]],'kx')\n",
    "plt.plot(xm[2][0][:,[0]],ym[2][0][:,[1]],'b')\n",
    "# plt.plot(xm[3][0][:,[0]],ym[3][0][:,[1]],'b')\n",
    "plt.plot(spline_5(np.concatenate((xm[0][0][:,[0]],ym[0][0][:,[1]]),axis=1))[:,[0]],spline_5(np.concatenate((xm[0][0][:,[0]],ym[0][0][:,[1]]),axis=1))[:,[1]],'r')\n",
    "plt.plot(spline_5(np.concatenate((xm[1][0][:,[0]],ym[1][0][:,[1]]),axis=1))[:,[0]],spline_5(np.concatenate((xm[1][0][:,[0]],ym[1][0][:,[1]]),axis=1))[:,[1]],'ro')\n",
    "plt.plot(spline_5(np.concatenate((xm[2][0][:,[0]],ym[2][0][:,[1]]),axis=1))[:,[0]],spline_5(np.concatenate((xm[2][0][:,[0]],ym[2][0][:,[1]]),axis=1))[:,[1]],'r')\n",
    "# plt.plot(spline_5(np.concatenate((xm[3][0][:,[0]],ym[3][0][:,[1]]),axis=1))[:,[0]],spline_5(np.concatenate((xm[3][0][:,[0]],ym[3][0][:,[1]]),axis=1))[:,[1]],'r')\n",
    "plt.axis('square')\n",
    "plt.show()"
   ]
  },
  {
   "cell_type": "code",
   "execution_count": 68,
   "metadata": {},
   "outputs": [
    {
     "data": {
      "image/png": "[encoded data removed]",
      "text/plain": [
       "<Figure size 432x288 with 1 Axes>"
      ]
     },
     "metadata": {
      "needs_background": "light"
     },
     "output_type": "display_data"
    }
   ],
   "source": [
    "chr=character['Gujarati'][12][7]['strokes'][0][1][0]\n",
    "plt.plot(chr[:,0],chr[:,1])\n",
    "plt.axis('square')\n",
    "plt.show()"
   ]
  },
  {
   "cell_type": "code",
   "execution_count": 80,
   "metadata": {},
   "outputs": [
    {
     "name": "stdout",
     "output_type": "stream",
     "text": [
      "p1: [ 54.80964467 -43.76255275]\n",
      "p2: [ 54.80964467 -44.66610605]\n",
      "p1-p2: [0.        0.9035533]\n",
      "[[ 27.70304569 -50.08742585]\n",
      " [ 27.70304569 -60.02651214]\n",
      " [ 28.60659898 -62.73717204]\n",
      " [ 28.60659898 -64.54427864]\n",
      " [ 28.60659898 -65.44783194]\n",
      " [ 29.51015228 -66.35138524]\n",
      " [ 29.51015228 -67.25493854]\n",
      " [ 30.41370558 -68.15849184]\n",
      " [ 31.31725888 -69.06204513]\n",
      " [ 32.22081218 -69.06204513]\n",
      " [ 33.12436548 -69.06204513]\n",
      " [ 34.02791878 -69.96559843]\n",
      " [ 34.93147208 -69.96559843]\n",
      " [ 35.83502538 -70.86915173]\n",
      " [ 36.73857868 -70.86915173]\n",
      " [ 37.64213198 -71.77270503]\n",
      " [ 38.54568528 -71.77270503]\n",
      " [ 39.44923858 -71.77270503]\n",
      " [ 40.35279188 -71.77270503]\n",
      " [ 41.25634518 -71.77270503]\n",
      " [ 42.15989848 -71.77270503]\n",
      " [ 43.06345178 -71.77270503]\n",
      " [ 43.96700508 -71.77270503]\n",
      " [ 44.87055838 -70.86915173]\n",
      " [ 45.77411168 -69.96559843]\n",
      " [ 46.67766497 -69.06204513]\n",
      " [ 48.48477157 -68.15849184]\n",
      " [ 49.38832487 -67.25493854]\n",
      " [ 50.29187817 -66.35138524]\n",
      " [ 51.19543147 -65.44783194]\n",
      " [ 52.09898477 -64.54427864]\n",
      " [ 53.00253807 -62.73717204]\n",
      " [ 53.00253807 -61.83361874]\n",
      " [ 53.90609137 -60.02651214]\n",
      " [ 53.90609137 -59.12295884]\n",
      " [ 53.90609137 -57.31585224]\n",
      " [ 53.90609137 -55.50874564]\n",
      " [ 53.90609137 -53.70163904]\n",
      " [ 53.90609137 -51.89453244]\n",
      " [ 53.90609137 -50.99097915]\n",
      " [ 53.90609137 -50.08742585]\n",
      " [ 53.90609137 -48.28031925]\n",
      " [ 53.90609137 -47.37676595]\n",
      " [ 53.90609137 -45.56965935]\n",
      " [ 53.90609137 -44.66610605]\n",
      " [ 54.80964467 -43.76255275]\n",
      " [ 54.80964467 -44.66610605]\n",
      " [ 53.90609137 -45.56965935]\n",
      " [ 53.90609137 -46.47321265]\n",
      " [ 53.00253807 -47.37676595]\n",
      " [ 53.00253807 -49.18387255]\n",
      " [ 53.00253807 -50.08742585]\n",
      " [ 53.00253807 -51.89453244]\n",
      " [ 53.00253807 -53.70163904]\n",
      " [ 53.00253807 -55.50874564]\n",
      " [ 53.00253807 -56.41229894]\n",
      " [ 53.00253807 -58.21940554]\n",
      " [ 53.00253807 -59.12295884]\n",
      " [ 53.00253807 -60.02651214]\n",
      " [ 53.90609137 -60.02651214]\n",
      " [ 53.90609137 -60.93006544]\n",
      " [ 54.80964467 -60.93006544]\n",
      " [ 55.71319797 -60.93006544]\n",
      " [ 56.61675127 -60.93006544]\n",
      " [ 57.52030457 -60.93006544]\n",
      " [ 58.42385787 -60.02651214]\n",
      " [ 59.32741117 -60.02651214]\n",
      " [ 59.32741117 -59.12295884]\n",
      " [ 60.23096447 -58.21940554]\n",
      " [ 61.13451777 -57.31585224]\n",
      " [ 62.03807107 -56.41229894]\n",
      " [ 62.03807107 -55.50874564]\n",
      " [ 62.94162437 -55.50874564]\n",
      " [ 62.94162437 -54.60519234]\n",
      " [ 63.84517766 -53.70163904]\n",
      " [ 64.74873096 -52.79808574]\n",
      " [ 64.74873096 -51.89453244]\n",
      " [ 65.65228426 -50.99097915]\n",
      " [ 66.55583756 -50.08742585]\n",
      " [ 66.55583756 -49.18387255]\n",
      " [ 67.45939086 -48.28031925]\n",
      " [ 67.45939086 -47.37676595]\n",
      " [ 68.36294416 -45.56965935]\n",
      " [ 68.36294416 -44.66610605]\n",
      " [ 68.36294416 -43.76255275]\n",
      " [ 68.36294416 -42.85899945]\n",
      " [ 69.26649746 -41.95544615]\n",
      " [ 69.26649746 -41.05189285]\n",
      " [ 69.26649746 -40.14833955]\n",
      " [ 69.26649746 -39.24478625]\n",
      " [ 69.26649746 -40.14833955]\n",
      " [ 69.26649746 -41.05189285]\n",
      " [ 69.26649746 -41.95544615]\n",
      " [ 69.26649746 -43.76255275]\n",
      " [ 69.26649746 -44.66610605]\n",
      " [ 69.26649746 -47.37676595]\n",
      " [ 69.26649746 -49.18387255]\n",
      " [ 69.26649746 -50.99097915]\n",
      " [ 69.26649746 -53.70163904]\n",
      " [ 68.36294416 -56.41229894]\n",
      " [ 68.36294416 -59.12295884]\n",
      " [ 68.36294416 -62.73717204]\n",
      " [ 68.36294416 -65.44783194]\n",
      " [ 68.36294416 -67.25493854]\n",
      " [ 69.26649746 -69.96559843]\n",
      " [ 70.17005076 -71.77270503]\n",
      " [ 71.97715736 -73.57981163]\n",
      " [ 73.78426396 -75.38691823]\n",
      " [ 75.59137056 -77.19402483]\n",
      " [ 77.39847716 -77.19402483]\n",
      " [ 80.10913706 -77.19402483]\n",
      " [ 82.81979695 -77.19402483]\n",
      " [ 85.53045685 -76.29047153]\n",
      " [ 88.24111675 -75.38691823]\n",
      " [ 90.95177665 -72.67625833]\n",
      " [ 91.85532995 -70.86915173]\n",
      " [ 92.75888325 -69.96559843]\n",
      " [ 92.75888325 -69.06204513]\n",
      " [ 92.75888325 -68.15849184]\n",
      " [ 91.85532995 -67.25493854]]\n"
     ]
    }
   ],
   "source": [
    "print('p1:',chr[45])\n",
    "print('p2:',chr[46])\n",
    "print('p1-p2:',chr[45]-chr[46])\n",
    "print(chr)"
   ]
  },
  {
   "cell_type": "code",
   "execution_count": 125,
   "metadata": {},
   "outputs": [
    {
     "data": {
      "image/png": "[encoded data removed]",
      "text/plain": [
       "<Figure size 432x288 with 1 Axes>"
      ]
     },
     "metadata": {
      "needs_background": "light"
     },
     "output_type": "display_data"
    }
   ],
   "source": [
    "import numpy.linalg as L\n",
    "L.norm(chr[45]-chr[46])\n",
    "normarr=[]\n",
    "for i in range(chr.shape[0]-1):\n",
    "    normarr.append(L.norm(chr[i+1]-chr[i],ord=1))\n",
    "plt.plot(chr[:,0][:-1],normarr,'g')\n",
    "# plt.plot(chr[:,0],chr[:,1])\n",
    "# plt.axis('square')\n",
    "plt.show()"
   ]
  },
  {
   "cell_type": "code",
   "execution_count": 26,
   "metadata": {},
   "outputs": [
    {
     "data": {
      "text/plain": [
       "dict"
      ]
     },
     "execution_count": 26,
     "metadata": {},
     "output_type": "execute_result"
    }
   ],
   "source": [
    "prims={} # Initialized an empty dict first\n",
    "type(prims)"
   ]
  },
  {
   "cell_type": "code",
   "execution_count": 27,
   "metadata": {
    "scrolled": false
   },
   "outputs": [],
   "source": [
    "# primitives = character[<language>][<character>][<character number>]['strokes'][0][<primitive number>][0] --> (n,2) np array\n",
    "for language in character:\n",
    "    for char in character[language]:\n",
    "        for char_num in char:\n",
    "            # char_num is a dict with key 'strokes'\n",
    "            for prim_num in char_num['strokes'][0]:\n",
    "                spline=spline_5(prim_num[0])"
   ]
  },
  {
   "cell_type": "code",
   "execution_count": null,
   "metadata": {
    "scrolled": true
   },
   "outputs": [],
   "source": []
  },
  {
   "cell_type": "code",
   "execution_count": null,
   "metadata": {},
   "outputs": [],
   "source": []
  }
 ],
 "metadata": {
  "colab": {
   "collapsed_sections": [],
   "name": "own-model-bcs.ipynb",
   "provenance": []
  },
  "kernelspec": {
   "display_name": "Python 3",
   "language": "python",
   "name": "python3"
  },
  "language_info": {
   "codemirror_mode": {
    "name": "ipython",
    "version": 3
   },
   "file_extension": ".py",
   "mimetype": "text/x-python",
   "name": "python",
   "nbconvert_exporter": "python",
   "pygments_lexer": "ipython3",
   "version": "3.7.4"
  }
 },
 "nbformat": 4,
 "nbformat_minor": 1
}
