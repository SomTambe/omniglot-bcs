{
  "nbformat": 4,
  "nbformat_minor": 0,
  "metadata": {
    "kernelspec": {
      "display_name": "Python 3",
      "language": "python",
      "name": "python3"
    },
    "language_info": {
      "codemirror_mode": {
        "name": "ipython",
        "version": 3
      },
      "file_extension": ".py",
      "mimetype": "text/x-python",
      "name": "python",
      "nbconvert_exporter": "python",
      "pygments_lexer": "ipython3",
      "version": "3.7.4"
    },
    "colab": {
      "name": "models.ipynb",
      "provenance": [],
      "collapsed_sections": [],
      "include_colab_link": true
    },
    "accelerator": "GPU"
  },
  "cells": [
    {
      "cell_type": "markdown",
      "metadata": {
        "id": "view-in-github",
        "colab_type": "text"
      },
      "source": [
        "<a href=\"https://colab.research.google.com/github/SomTambe/omniglot-bcs/blob/master/models.ipynb\" target=\"_parent\"><img src=\"https://colab.research.google.com/assets/colab-badge.svg\" alt=\"Open In Colab\"/></a>"
      ]
    },
    {
      "cell_type": "code",
      "metadata": {
        "id": "m1_q8UST1uQj",
        "colab_type": "code",
        "colab": {
          "base_uri": "https://localhost:8080/",
          "height": 561
        },
        "outputId": "4a6a3562-26e4-4c09-eeb3-d6257e8e9364"
      },
      "source": [
        "!wget https://github.com/SomTambe/omniglot-bcs/raw/master/data_background.mat\n",
        "!wget https://github.com/SomTambe/omniglot-bcs/raw/master/splines.py"
      ],
      "execution_count": 1,
      "outputs": [
        {
          "output_type": "stream",
          "text": [
            "--2020-06-17 10:12:25--  https://github.com/SomTambe/omniglot-bcs/raw/master/data_background.mat\n",
            "Resolving github.com (github.com)... 140.82.118.4\n",
            "Connecting to github.com (github.com)|140.82.118.4|:443... connected.\n",
            "HTTP request sent, awaiting response... 302 Found\n",
            "Location: https://raw.githubusercontent.com/SomTambe/omniglot-bcs/master/data_background.mat [following]\n",
            "--2020-06-17 10:12:25--  https://raw.githubusercontent.com/SomTambe/omniglot-bcs/master/data_background.mat\n",
            "Resolving raw.githubusercontent.com (raw.githubusercontent.com)... 151.101.0.133, 151.101.64.133, 151.101.128.133, ...\n",
            "Connecting to raw.githubusercontent.com (raw.githubusercontent.com)|151.101.0.133|:443... connected.\n",
            "HTTP request sent, awaiting response... 200 OK\n",
            "Length: 21514095 (21M) [application/octet-stream]\n",
            "Saving to: ‘data_background.mat’\n",
            "\n",
            "data_background.mat 100%[===================>]  20.52M   116MB/s    in 0.2s    \n",
            "\n",
            "2020-06-17 10:12:28 (116 MB/s) - ‘data_background.mat’ saved [21514095/21514095]\n",
            "\n",
            "--2020-06-17 10:12:31--  https://github.com/SomTambe/omniglot-bcs/raw/master/splines.py\n",
            "Resolving github.com (github.com)... 140.82.118.4\n",
            "Connecting to github.com (github.com)|140.82.118.4|:443... connected.\n",
            "HTTP request sent, awaiting response... 302 Found\n",
            "Location: https://raw.githubusercontent.com/SomTambe/omniglot-bcs/master/splines.py [following]\n",
            "--2020-06-17 10:12:31--  https://raw.githubusercontent.com/SomTambe/omniglot-bcs/master/splines.py\n",
            "Resolving raw.githubusercontent.com (raw.githubusercontent.com)... 151.101.0.133, 151.101.64.133, 151.101.128.133, ...\n",
            "Connecting to raw.githubusercontent.com (raw.githubusercontent.com)|151.101.0.133|:443... connected.\n",
            "HTTP request sent, awaiting response... 200 OK\n",
            "Length: 4642 (4.5K) [text/plain]\n",
            "Saving to: ‘splines.py’\n",
            "\n",
            "splines.py          100%[===================>]   4.53K  --.-KB/s    in 0s      \n",
            "\n",
            "2020-06-17 10:12:31 (69.6 MB/s) - ‘splines.py’ saved [4642/4642]\n",
            "\n"
          ],
          "name": "stdout"
        }
      ]
    },
    {
      "cell_type": "code",
      "metadata": {
        "id": "OatfZxunzt-J",
        "colab_type": "code",
        "colab": {
          "base_uri": "https://localhost:8080/",
          "height": 357
        },
        "outputId": "73c9e3ce-27ba-44a0-eae8-e5fcefa9f770"
      },
      "source": [
        "import splines\n",
        "import torch\n",
        "import glob\n",
        "import torchvision\n",
        "import numpy as np\n",
        "import torch.nn as nn\n",
        "import torch.nn.functional as F\n",
        "import torch.optim as optim\n",
        "import matplotlib.pyplot as plt\n",
        "import torchvision.transforms as transforms\n",
        "from torchsummary import summary\n",
        "import scipy\n",
        "!nvidia-smi"
      ],
      "execution_count": 2,
      "outputs": [
        {
          "output_type": "stream",
          "text": [
            "Wed Jun 17 10:12:39 2020       \n",
            "+-----------------------------------------------------------------------------+\n",
            "| NVIDIA-SMI 450.36.06    Driver Version: 418.67       CUDA Version: 10.1     |\n",
            "|-------------------------------+----------------------+----------------------+\n",
            "| GPU  Name        Persistence-M| Bus-Id        Disp.A | Volatile Uncorr. ECC |\n",
            "| Fan  Temp  Perf  Pwr:Usage/Cap|         Memory-Usage | GPU-Util  Compute M. |\n",
            "|                               |                      |               MIG M. |\n",
            "|===============================+======================+======================|\n",
            "|   0  Tesla P100-PCIE...  Off  | 00000000:00:04.0 Off |                    0 |\n",
            "| N/A   36C    P0    28W / 250W |      0MiB / 16280MiB |      0%      Default |\n",
            "|                               |                      |                 ERR! |\n",
            "+-------------------------------+----------------------+----------------------+\n",
            "                                                                               \n",
            "+-----------------------------------------------------------------------------+\n",
            "| Processes:                                                                  |\n",
            "|  GPU   GI   CI        PID   Type   Process name                  GPU Memory |\n",
            "|        ID   ID                                                   Usage      |\n",
            "|=============================================================================|\n",
            "|  No running processes found                                                 |\n",
            "+-----------------------------------------------------------------------------+\n"
          ],
          "name": "stdout"
        }
      ]
    },
    {
      "cell_type": "code",
      "metadata": {
        "id": "Y_E30pGxzt-R",
        "colab_type": "code",
        "colab": {}
      },
      "source": [
        "back_dict=splines.mat_to_dict()"
      ],
      "execution_count": 3,
      "outputs": []
    },
    {
      "cell_type": "code",
      "metadata": {
        "id": "-aKIvY0ozt-V",
        "colab_type": "code",
        "colab": {}
      },
      "source": [
        "spline_prims=splines.spline_dict(back_dict)\n",
        "images=splines.dict_images()"
      ],
      "execution_count": 4,
      "outputs": []
    },
    {
      "cell_type": "code",
      "metadata": {
        "id": "yFBknVQBzt-e",
        "colab_type": "code",
        "colab": {
          "base_uri": "https://localhost:8080/",
          "height": 34
        },
        "outputId": "3297043a-08fa-43cc-d132-fba5805a6367"
      },
      "source": [
        "len(spline_prims) # Since languages are 30, should be equal to 30"
      ],
      "execution_count": 5,
      "outputs": [
        {
          "output_type": "execute_result",
          "data": {
            "text/plain": [
              "30"
            ]
          },
          "metadata": {
            "tags": []
          },
          "execution_count": 5
        }
      ]
    },
    {
      "cell_type": "code",
      "metadata": {
        "id": "g7otzLIGzt-j",
        "colab_type": "code",
        "colab": {
          "base_uri": "https://localhost:8080/",
          "height": 265
        },
        "outputId": "920c0765-9e9d-492c-9936-99002f771b74"
      },
      "source": [
        "# Let us try to plot a character. Taking an example for a very weird character.\n",
        "# I found one in the Grantha alphabet. Let us see how its 25-point spline representation looks.\n",
        "\n",
        "splines.plot_char(spline_prims['Grantha'][1][3][0])\n",
        "# Note that different colors denote different stokes."
      ],
      "execution_count": 6,
      "outputs": [
        {
          "output_type": "display_data",
          "data": {
            "image/png": "[encoded data removed]",
            "text/plain": [
              "<Figure size 432x288 with 1 Axes>"
            ]
          },
          "metadata": {
            "tags": [],
            "needs_background": "light"
          }
        }
      ]
    },
    {
      "cell_type": "code",
      "metadata": {
        "id": "KL2bXo9lzt-n",
        "colab_type": "code",
        "colab": {}
      },
      "source": [
        "# Our task now remains to train a variational autoencoder on a 2 - unit output for the above."
      ],
      "execution_count": 7,
      "outputs": []
    },
    {
      "cell_type": "code",
      "metadata": {
        "id": "XZnCoTF2zt-s",
        "colab_type": "code",
        "colab": {}
      },
      "source": [
        "class encoder(nn.Module):\n",
        "    def __init__(self):\n",
        "        super().__init__()\n",
        "        self.encode=nn.Sequential(\n",
        "            nn.Linear(50,25),\n",
        "            nn.ReLU(True),\n",
        "            nn.Linear(25,10),\n",
        "            nn.ReLU(True),\n",
        "            nn.Linear(10,4),\n",
        "        )\n",
        "        self.mu=nn.Linear(4,2)\n",
        "        self.var=nn.Linear(4,2)\n",
        "        \n",
        "    def forward(self,x):\n",
        "        x=self.encode(x)\n",
        "        return [self.mu(x),self.var(x)]"
      ],
      "execution_count": 8,
      "outputs": []
    },
    {
      "cell_type": "code",
      "metadata": {
        "id": "YqMwObtBzt-0",
        "colab_type": "code",
        "colab": {}
      },
      "source": [
        "class decoder(nn.Module):\n",
        "    def __init__(self):\n",
        "        super().__init__()\n",
        "        self.decode=nn.Sequential(\n",
        "            nn.Linear(2,10),\n",
        "            nn.ReLU(),\n",
        "            nn.Linear(10,25),\n",
        "            nn.ReLU(),\n",
        "            nn.Linear(25,50),\n",
        "        )\n",
        "        \n",
        "    def forward(self,x):\n",
        "        return self.decode(x)"
      ],
      "execution_count": 9,
      "outputs": []
    },
    {
      "cell_type": "code",
      "metadata": {
        "id": "hE8mBXgpzt-3",
        "colab_type": "code",
        "colab": {
          "base_uri": "https://localhost:8080/",
          "height": 34
        },
        "outputId": "3661fd03-24d9-4b27-e329-4582837aeeda"
      },
      "source": [
        "device=\"cuda:0\" if torch.cuda.is_available() else \"cpu\"\n",
        "device"
      ],
      "execution_count": 10,
      "outputs": [
        {
          "output_type": "execute_result",
          "data": {
            "text/plain": [
              "'cuda:0'"
            ]
          },
          "metadata": {
            "tags": []
          },
          "execution_count": 10
        }
      ]
    },
    {
      "cell_type": "code",
      "metadata": {
        "id": "5Mw1_jyEzt_A",
        "colab_type": "code",
        "colab": {}
      },
      "source": [
        "# glob.glob('./**/*.png',recursive=True)\n",
        "# Will store all filenames of background set images"
      ],
      "execution_count": 11,
      "outputs": []
    },
    {
      "cell_type": "code",
      "metadata": {
        "id": "Nw7zV2mczt_C",
        "colab_type": "code",
        "colab": {
          "base_uri": "https://localhost:8080/",
          "height": 34
        },
        "outputId": "2724490f-73f8-44d1-b39d-3192683a1a7f"
      },
      "source": [
        "count=0\n",
        "for lang in spline_prims :\n",
        "        # spline_prims[lang][char][inst][0][primitive]\n",
        "        for i,char in enumerate(spline_prims[lang]) :\n",
        "            # char = characters of lang\n",
        "            for j,inst in enumerate(char) :\n",
        "                # inst = character instance\n",
        "                for k,primitive in enumerate(inst[0]):\n",
        "                    count+=1\n",
        "print('number of total strokes :',count)"
      ],
      "execution_count": 12,
      "outputs": [
        {
          "output_type": "stream",
          "text": [
            "number of total strokes : 48762\n"
          ],
          "name": "stdout"
        }
      ]
    },
    {
      "cell_type": "code",
      "metadata": {
        "id": "6cW5k4Rvzt_N",
        "colab_type": "code",
        "colab": {
          "base_uri": "https://localhost:8080/",
          "height": 533
        },
        "outputId": "3430c7bd-7821-4b98-ac00-099fa0c60d26"
      },
      "source": [
        "# images[lang][character][0]['image'][instance][0] -> (105,105) numpy ndarray\n",
        "# Plotting the same characters, real image vs. the strokes.\n",
        "img=images['Grantha'][1][0]['image'][3][0]\n",
        "plt.imshow(img)\n",
        "plt.show()\n",
        "splines.plot_char(spline_prims['Grantha'][1][3][0])\n",
        "print(\"Success !\")"
      ],
      "execution_count": 13,
      "outputs": [
        {
          "output_type": "display_data",
          "data": {
            "image/png": "[encoded data removed]",
            "text/plain": [
              "<Figure size 432x288 with 1 Axes>"
            ]
          },
          "metadata": {
            "tags": [],
            "needs_background": "light"
          }
        },
        {
          "output_type": "display_data",
          "data": {
            "image/png": "[encoded data removed]",
            "text/plain": [
              "<Figure size 432x288 with 1 Axes>"
            ]
          },
          "metadata": {
            "tags": [],
            "needs_background": "light"
          }
        },
        {
          "output_type": "stream",
          "text": [
            "Success !\n"
          ],
          "name": "stdout"
        }
      ]
    },
    {
      "cell_type": "code",
      "metadata": {
        "id": "92u8T5Hczt_P",
        "colab_type": "code",
        "colab": {}
      },
      "source": [
        "# Now we go on to build the custom dataset class for our data.\n",
        "# Since our data is not in the form of a direct mapping, what \n",
        "# I could have done is that stacked all the data in the form of a matrix. But I wont \n",
        "# do that, instead I will use an iterable dataset which is supported by PyTorch dataloader."
      ],
      "execution_count": 14,
      "outputs": []
    },
    {
      "cell_type": "code",
      "metadata": {
        "id": "WLOMoEkizt_S",
        "colab_type": "code",
        "colab": {}
      },
      "source": [
        "from torch.utils.data import IterableDataset, DataLoader\n",
        "class OmniglotData(IterableDataset):\n",
        "    \"\"\"\n",
        "    Iterable dataset for the 25-spline to 2 vector encoding purpose.\n",
        "    Expected form to pass data in form of \"spline_prims[lang][char][inst][0][primitive]\"\n",
        "    Args:\n",
        "        data (dict): Data in the same format as used everywhere in our application.\n",
        "    \"\"\"\n",
        "    def __init__(self,data):\n",
        "        self.data=data\n",
        "        \n",
        "    def stream(self):\n",
        "        # spline_prims[lang][char][inst][0][primitive]\n",
        "        for lang in self.data:\n",
        "            for char in self.data[lang]:\n",
        "                for inst in char:\n",
        "                    for prim in inst[0]:\n",
        "                        yield torch.tensor(prim.reshape(-1)).float()\n",
        "    \n",
        "    def __iter__(self):\n",
        "        # print(count)\n",
        "        return self.stream()"
      ],
      "execution_count": 15,
      "outputs": []
    },
    {
      "cell_type": "code",
      "metadata": {
        "id": "5hF4oLiSaMW3",
        "colab_type": "code",
        "colab": {}
      },
      "source": [
        "def gen_latent(mu, logvar):\n",
        "        \"\"\"\n",
        "        Reparameterization trick to sample from N(mu, var) from\n",
        "        N(0,1).\n",
        "        :param mu: (Tensor) Mean of the latent Gaussian [B x D]\n",
        "        :param logvar: (Tensor) Standard deviation of the latent Gaussian [B x D]\n",
        "        :return: (Tensor) [B x D]\n",
        "        \"\"\"\n",
        "        std = torch.exp(0.5 * logvar)\n",
        "        eps = torch.randn_like(std)\n",
        "        return eps * std + mu\n",
        "\n",
        "def loss_function(*args):\n",
        "        \"\"\"\n",
        "        Computes the VAE loss function.\n",
        "        KL(N(\\mu, \\sigma), N(0, 1)) = \\log \\frac{1}{\\sigma} + \\frac{\\sigma^2 + \\mu^2}{2} - \\frac{1}{2}\n",
        "        :param args:\n",
        "        :param kwargs:\n",
        "        :return:\n",
        "        \"\"\"\n",
        "        recons = args[0]\n",
        "        input = args[1]\n",
        "        mu = args[2]\n",
        "        log_var = args[3]\n",
        "\n",
        "        # kld_weight = kwargs['M_N'] # Account for the minibatch samples from the dataset\n",
        "        recons_loss =F.mse_loss(recons, input)\n",
        "\n",
        "\n",
        "        kld_loss = torch.mean(-0.5 * torch.sum(1 + log_var - mu ** 2 - log_var.exp(), dim = 1), dim = 0)\n",
        "\n",
        "        loss = recons_loss + kld_loss\n",
        "        return {'loss': loss, 'Reconstruction_Loss':recons_loss, 'KLD':-kld_loss}"
      ],
      "execution_count": 16,
      "outputs": []
    },
    {
      "cell_type": "code",
      "metadata": {
        "id": "RHkNbolezt-7",
        "colab_type": "code",
        "colab": {}
      },
      "source": [
        "enc=encoder().to(device)\n",
        "dec=decoder().to(device)"
      ],
      "execution_count": 17,
      "outputs": []
    },
    {
      "cell_type": "code",
      "metadata": {
        "id": "oYQyWm2jzt_V",
        "colab_type": "code",
        "colab": {}
      },
      "source": [
        "dataset=OmniglotData(spline_prims)\n",
        "data_loader=DataLoader(dataset,batch_size=32,shuffle=False)"
      ],
      "execution_count": 18,
      "outputs": []
    },
    {
      "cell_type": "code",
      "metadata": {
        "id": "xE-ub6vKzt_g",
        "colab_type": "code",
        "colab": {}
      },
      "source": [
        "optimEnc=optim.Adam(enc.parameters(),lr=2e-3)\n",
        "optimDec=optim.Adam(dec.parameters(),lr=2e-3)"
      ],
      "execution_count": 19,
      "outputs": []
    },
    {
      "cell_type": "code",
      "metadata": {
        "id": "47nuba1kEMJX",
        "colab_type": "code",
        "colab": {}
      },
      "source": [
        "print_intvl=100"
      ],
      "execution_count": 20,
      "outputs": []
    },
    {
      "cell_type": "code",
      "metadata": {
        "id": "TdqfOyzlzt_i",
        "colab_type": "code",
        "colab": {
          "base_uri": "https://localhost:8080/",
          "height": 1000
        },
        "outputId": "ff015a72-27a4-44c5-b622-aada89883546"
      },
      "source": [
        "# Yaay, everything is working ! Let us train the encoder now !\n",
        "losses=[]\n",
        "import time\n",
        "num_epochs=100\n",
        "for epoch in range(num_epochs):\n",
        "    running_loss=.0\n",
        "    running_reconst=.0\n",
        "    running_kld=.0\n",
        "    start=time.time()\n",
        "    for i,data in enumerate(data_loader):\n",
        "        # start=time.time()\n",
        "        optimEnc.zero_grad(),optimDec.zero_grad()\n",
        "        data=data.to(device)\n",
        "        mu,var=enc(data)\n",
        "        mid=gen_latent(mu,var)\n",
        "        out=dec(mid)\n",
        "        loss=loss_function(out,data,mu,var)\n",
        "        real_loss,recons_loss,KLDL=loss['loss'],loss['Reconstruction_Loss'],loss['KLD']\n",
        "        real_loss.backward()\n",
        "        optimEnc.step()\n",
        "        optimDec.step()\n",
        "        # if (i+1)%print_intvl==0:\n",
        "        #     print(\"[%d/%d] [%d] Loss: %.4f recons: %.4f KLD: %.4f Time elapsed: %.4f\"%(epoch+1,num_epochs,i+1,real_loss.item(),recons_loss.item(),KLDL.item(),time.time()-start))\n",
        "        running_loss+=real_loss.item()\n",
        "        running_reconst+=recons_loss.item()\n",
        "        running_kld+=KLDL.item()\n",
        "    losses.append(running_loss)\n",
        "    print(\"[%d/%d] [%d] Loss: %.4f recons: %.4f KLD: %.4f Time elapsed: %.4f\"%(epoch+1,num_epochs,i+1,running_loss/32,running_reconst/32,running_kld/32,time.time()-start))\n",
        "    # print(\"[%d/%d] Loss : %.4f Time elapsed : %.4f\"%(epoch+1,num_epochs,running_loss,time.time()-start))"
      ],
      "execution_count": 21,
      "outputs": [
        {
          "output_type": "stream",
          "text": [
            "[1/100] [1524] Loss: 15543.6016 recons: 14227.1277 KLD: -1316.4739 Time elapsed: 6.6713\n",
            "[2/100] [1524] Loss: 10721.8135 recons: 10488.3147 KLD: -233.4988 Time elapsed: 6.1067\n",
            "[3/100] [1524] Loss: 10669.3088 recons: 10470.2794 KLD: -199.0294 Time elapsed: 6.0972\n",
            "[4/100] [1524] Loss: 10608.7804 recons: 10419.9561 KLD: -188.8243 Time elapsed: 6.0986\n",
            "[5/100] [1524] Loss: 15746.1987 recons: 15477.0791 KLD: -269.1194 Time elapsed: 6.1133\n",
            "[6/100] [1524] Loss: 10409.6865 recons: 10122.5749 KLD: -287.1116 Time elapsed: 6.2540\n",
            "[7/100] [1524] Loss: 10310.7588 recons: 10082.7430 KLD: -228.0158 Time elapsed: 6.2546\n",
            "[8/100] [1524] Loss: 10257.6342 recons: 10056.5821 KLD: -201.0521 Time elapsed: 6.1319\n",
            "[9/100] [1524] Loss: 7926.1404 recons: 7579.7832 KLD: -346.3571 Time elapsed: 6.0952\n",
            "[10/100] [1524] Loss: 5513.7492 recons: 5173.4176 KLD: -340.3316 Time elapsed: 6.1219\n",
            "[11/100] [1524] Loss: 5392.8052 recons: 5097.1027 KLD: -295.7025 Time elapsed: 6.1823\n",
            "[12/100] [1524] Loss: 5357.6783 recons: 5073.7160 KLD: -283.9623 Time elapsed: 6.1173\n",
            "[13/100] [1524] Loss: 5338.4279 recons: 5061.5545 KLD: -276.8734 Time elapsed: 6.0837\n",
            "[14/100] [1524] Loss: 5330.6581 recons: 5058.9806 KLD: -271.6775 Time elapsed: 6.0742\n",
            "[15/100] [1524] Loss: 5273.4896 recons: 5004.7996 KLD: -268.6900 Time elapsed: 6.1199\n",
            "[16/100] [1524] Loss: 5198.4635 recons: 4931.4485 KLD: -267.0150 Time elapsed: 6.1406\n",
            "[17/100] [1524] Loss: 5135.9867 recons: 4870.2305 KLD: -265.7562 Time elapsed: 6.1906\n",
            "[18/100] [1524] Loss: 5128.7660 recons: 4863.0046 KLD: -265.7614 Time elapsed: 6.0715\n",
            "[19/100] [1524] Loss: 5072.5213 recons: 4807.4834 KLD: -265.0378 Time elapsed: 6.1277\n",
            "[20/100] [1524] Loss: 5057.8095 recons: 4793.5256 KLD: -264.2839 Time elapsed: 6.1581\n",
            "[21/100] [1524] Loss: 5045.0082 recons: 4779.9152 KLD: -265.0930 Time elapsed: 6.1313\n",
            "[22/100] [1524] Loss: 5035.1578 recons: 4769.2197 KLD: -265.9381 Time elapsed: 6.1056\n",
            "[23/100] [1524] Loss: 5018.5877 recons: 4751.0357 KLD: -267.5520 Time elapsed: 6.0882\n",
            "[24/100] [1524] Loss: 5011.9382 recons: 4743.2800 KLD: -268.6583 Time elapsed: 6.1421\n",
            "[25/100] [1524] Loss: 4999.0125 recons: 4730.8175 KLD: -268.1950 Time elapsed: 6.0959\n",
            "[26/100] [1524] Loss: 4991.1070 recons: 4722.3912 KLD: -268.7158 Time elapsed: 6.1193\n",
            "[27/100] [1524] Loss: 4986.0427 recons: 4718.0615 KLD: -267.9812 Time elapsed: 6.1127\n",
            "[28/100] [1524] Loss: 4977.6304 recons: 4709.0935 KLD: -268.5369 Time elapsed: 6.0910\n",
            "[29/100] [1524] Loss: 4978.8967 recons: 4711.2791 KLD: -267.6176 Time elapsed: 6.0671\n",
            "[30/100] [1524] Loss: 4978.8691 recons: 4711.2971 KLD: -267.5721 Time elapsed: 6.1188\n",
            "[31/100] [1524] Loss: 4975.0768 recons: 4707.6780 KLD: -267.3988 Time elapsed: 6.1032\n",
            "[32/100] [1524] Loss: 4969.7288 recons: 4701.6909 KLD: -268.0379 Time elapsed: 6.1605\n",
            "[33/100] [1524] Loss: 4964.4550 recons: 4697.5921 KLD: -266.8629 Time elapsed: 6.2178\n",
            "[34/100] [1524] Loss: 4963.3184 recons: 4696.9591 KLD: -266.3593 Time elapsed: 6.1069\n",
            "[35/100] [1524] Loss: 4962.4505 recons: 4696.1566 KLD: -266.2939 Time elapsed: 6.1562\n",
            "[36/100] [1524] Loss: 4961.2154 recons: 4695.2233 KLD: -265.9921 Time elapsed: 6.1080\n",
            "[37/100] [1524] Loss: 4953.2125 recons: 4685.9879 KLD: -267.2246 Time elapsed: 6.1575\n",
            "[38/100] [1524] Loss: 4952.3664 recons: 4686.6848 KLD: -265.6816 Time elapsed: 6.0859\n",
            "[39/100] [1524] Loss: 4954.7901 recons: 4688.8232 KLD: -265.9669 Time elapsed: 6.0816\n",
            "[40/100] [1524] Loss: 4954.8290 recons: 4687.7769 KLD: -267.0521 Time elapsed: 6.0737\n",
            "[41/100] [1524] Loss: 4946.7467 recons: 4681.1618 KLD: -265.5850 Time elapsed: 6.1163\n",
            "[42/100] [1524] Loss: 4944.3511 recons: 4677.9372 KLD: -266.4139 Time elapsed: 6.1730\n",
            "[43/100] [1524] Loss: 4952.3655 recons: 4686.1839 KLD: -266.1816 Time elapsed: 6.2211\n",
            "[44/100] [1524] Loss: 4949.0498 recons: 4683.5532 KLD: -265.4967 Time elapsed: 6.0996\n",
            "[45/100] [1524] Loss: 4950.7656 recons: 4685.1484 KLD: -265.6173 Time elapsed: 6.1974\n",
            "[46/100] [1524] Loss: 4949.3641 recons: 4683.1900 KLD: -266.1741 Time elapsed: 6.2342\n",
            "[47/100] [1524] Loss: 4950.2157 recons: 4684.5244 KLD: -265.6912 Time elapsed: 6.1491\n",
            "[48/100] [1524] Loss: 4943.5634 recons: 4676.8346 KLD: -266.7288 Time elapsed: 6.1645\n",
            "[49/100] [1524] Loss: 4944.2358 recons: 4677.6492 KLD: -266.5866 Time elapsed: 6.1020\n",
            "[50/100] [1524] Loss: 4940.9235 recons: 4675.1896 KLD: -265.7339 Time elapsed: 6.1972\n",
            "[51/100] [1524] Loss: 4945.5111 recons: 4678.3641 KLD: -267.1470 Time elapsed: 6.4705\n",
            "[52/100] [1524] Loss: 4936.2517 recons: 4670.2640 KLD: -265.9878 Time elapsed: 6.3340\n",
            "[53/100] [1524] Loss: 4941.5169 recons: 4674.4814 KLD: -267.0355 Time elapsed: 6.1514\n",
            "[54/100] [1524] Loss: 4938.1998 recons: 4671.0899 KLD: -267.1099 Time elapsed: 6.1286\n",
            "[55/100] [1524] Loss: 4931.3282 recons: 4665.3704 KLD: -265.9578 Time elapsed: 6.1150\n",
            "[56/100] [1524] Loss: 4933.5594 recons: 4666.7316 KLD: -266.8278 Time elapsed: 6.1183\n",
            "[57/100] [1524] Loss: 4932.2540 recons: 4664.8341 KLD: -267.4198 Time elapsed: 6.1407\n",
            "[58/100] [1524] Loss: 4925.4977 recons: 4658.3444 KLD: -267.1533 Time elapsed: 6.1854\n",
            "[59/100] [1524] Loss: 4923.6922 recons: 4655.7554 KLD: -267.9367 Time elapsed: 6.2837\n",
            "[60/100] [1524] Loss: 4922.2779 recons: 4655.1927 KLD: -267.0851 Time elapsed: 6.1281\n",
            "[61/100] [1524] Loss: 4920.2089 recons: 4651.9849 KLD: -268.2240 Time elapsed: 6.1428\n",
            "[62/100] [1524] Loss: 4923.6291 recons: 4656.0273 KLD: -267.6018 Time elapsed: 6.1484\n",
            "[63/100] [1524] Loss: 4917.8511 recons: 4649.5554 KLD: -268.2956 Time elapsed: 6.2119\n",
            "[64/100] [1524] Loss: 4919.9718 recons: 4652.0976 KLD: -267.8742 Time elapsed: 6.1035\n",
            "[65/100] [1524] Loss: 4920.3382 recons: 4653.0503 KLD: -267.2879 Time elapsed: 6.1722\n",
            "[66/100] [1524] Loss: 4920.4981 recons: 4653.5326 KLD: -266.9655 Time elapsed: 6.2684\n",
            "[67/100] [1524] Loss: 4920.6777 recons: 4653.0121 KLD: -267.6656 Time elapsed: 6.2742\n",
            "[68/100] [1524] Loss: 4922.8250 recons: 4655.7405 KLD: -267.0844 Time elapsed: 6.2265\n",
            "[69/100] [1524] Loss: 4918.4771 recons: 4650.7913 KLD: -267.6858 Time elapsed: 6.1451\n",
            "[70/100] [1524] Loss: 4923.6810 recons: 4655.8064 KLD: -267.8746 Time elapsed: 6.1798\n",
            "[71/100] [1524] Loss: 4916.3887 recons: 4647.4875 KLD: -268.9011 Time elapsed: 6.2399\n",
            "[72/100] [1524] Loss: 4915.4651 recons: 4647.1951 KLD: -268.2700 Time elapsed: 6.2860\n",
            "[73/100] [1524] Loss: 4921.0504 recons: 4652.1808 KLD: -268.8696 Time elapsed: 6.2268\n",
            "[74/100] [1524] Loss: 4916.8249 recons: 4647.5872 KLD: -269.2377 Time elapsed: 6.1736\n",
            "[75/100] [1524] Loss: 4915.4767 recons: 4647.4302 KLD: -268.0465 Time elapsed: 6.1488\n",
            "[76/100] [1524] Loss: 4917.4217 recons: 4648.0464 KLD: -269.3753 Time elapsed: 6.1610\n",
            "[77/100] [1524] Loss: 4913.9079 recons: 4644.3311 KLD: -269.5767 Time elapsed: 6.1569\n",
            "[78/100] [1524] Loss: 4909.5969 recons: 4640.8507 KLD: -268.7462 Time elapsed: 6.1996\n",
            "[79/100] [1524] Loss: 4911.6639 recons: 4642.3910 KLD: -269.2729 Time elapsed: 6.1851\n",
            "[80/100] [1524] Loss: 4906.0017 recons: 4636.7561 KLD: -269.2456 Time elapsed: 6.1653\n",
            "[81/100] [1524] Loss: 4902.3235 recons: 4631.8351 KLD: -270.4884 Time elapsed: 6.2026\n",
            "[82/100] [1524] Loss: 4906.6485 recons: 4635.4438 KLD: -271.2046 Time elapsed: 6.2190\n",
            "[83/100] [1524] Loss: 4892.1801 recons: 4622.7093 KLD: -269.4708 Time elapsed: 6.2200\n",
            "[84/100] [1524] Loss: 4899.0424 recons: 4626.9836 KLD: -272.0589 Time elapsed: 6.2702\n",
            "[85/100] [1524] Loss: 4888.5921 recons: 4615.4092 KLD: -273.1829 Time elapsed: 6.2939\n",
            "[86/100] [1524] Loss: 4879.6908 recons: 4606.9638 KLD: -272.7270 Time elapsed: 6.1798\n",
            "[87/100] [1524] Loss: 4879.4734 recons: 4605.3469 KLD: -274.1265 Time elapsed: 6.2317\n",
            "[88/100] [1524] Loss: 4876.0743 recons: 4599.9343 KLD: -276.1400 Time elapsed: 6.1899\n",
            "[89/100] [1524] Loss: 4874.8980 recons: 4596.1851 KLD: -278.7129 Time elapsed: 6.1654\n",
            "[90/100] [1524] Loss: 4858.5693 recons: 4580.3525 KLD: -278.2169 Time elapsed: 6.1497\n",
            "[91/100] [1524] Loss: 4850.5987 recons: 4570.2241 KLD: -280.3746 Time elapsed: 6.1313\n",
            "[92/100] [1524] Loss: 4851.2829 recons: 4571.2805 KLD: -280.0024 Time elapsed: 6.2882\n",
            "[93/100] [1524] Loss: 4843.0673 recons: 4562.3371 KLD: -280.7302 Time elapsed: 6.2230\n",
            "[94/100] [1524] Loss: 4833.0752 recons: 4551.9833 KLD: -281.0918 Time elapsed: 6.2143\n",
            "[95/100] [1524] Loss: 4840.5488 recons: 4558.0092 KLD: -282.5397 Time elapsed: 6.1723\n",
            "[96/100] [1524] Loss: 4839.4165 recons: 4554.4320 KLD: -284.9845 Time elapsed: 6.1568\n",
            "[97/100] [1524] Loss: 4832.3228 recons: 4548.3697 KLD: -283.9531 Time elapsed: 6.2678\n",
            "[98/100] [1524] Loss: 4827.6706 recons: 4543.4082 KLD: -284.2624 Time elapsed: 6.2383\n",
            "[99/100] [1524] Loss: 4832.5759 recons: 4547.5452 KLD: -285.0307 Time elapsed: 6.1096\n",
            "[100/100] [1524] Loss: 4837.2080 recons: 4552.3469 KLD: -284.8611 Time elapsed: 6.1367\n"
          ],
          "name": "stdout"
        }
      ]
    },
    {
      "cell_type": "code",
      "metadata": {
        "id": "CIpL4fZHEeoT",
        "colab_type": "code",
        "colab": {
          "base_uri": "https://localhost:8080/",
          "height": 265
        },
        "outputId": "28e02b93-1ca8-4443-8e8b-3f9b94d49a3e"
      },
      "source": [
        "plt.plot(losses,label='net loss')\n",
        "plt.legend()\n",
        "plt.show()"
      ],
      "execution_count": 22,
      "outputs": [
        {
          "output_type": "display_data",
          "data": {
            "image/png": "[encoded data removed]",
            "text/plain": [
              "<Figure size 432x288 with 1 Axes>"
            ]
          },
          "metadata": {
            "tags": [],
            "needs_background": "light"
          }
        }
      ]
    },
    {
      "cell_type": "code",
      "metadata": {
        "id": "YgR8Cl0aEgzv",
        "colab_type": "code",
        "colab": {}
      },
      "source": [
        ""
      ],
      "execution_count": 22,
      "outputs": []
    },
    {
      "cell_type": "code",
      "metadata": {
        "id": "jg8-3D8Dzt_c",
        "colab_type": "code",
        "colab": {}
      },
      "source": [
        "# # Comment out the .reshape(-1) part in the dataset class to test out this portion.\n",
        "# # Randomly plotting strokes to see whether they are different.\n",
        "# samp=[]\n",
        "# for c,dat in enumerate(data_loader):\n",
        "#     samp.append(dat)\n",
        "#     if c>5 :\n",
        "#         break\n",
        "# for _,c in enumerate(samp):\n",
        "# #     print(c.squeeze().detach().cpu().numpy().shape)\n",
        "#     plt.plot(c.squeeze().detach().cpu().numpy()[:,0],c.squeeze().detach().cpu().numpy()[:,1],'')\n",
        "# plt.axis('square')\n",
        "# plt.show()\n",
        "# # Just to make sure there is no problem with loading spline data"
      ],
      "execution_count": 23,
      "outputs": []
    }
  ]
}