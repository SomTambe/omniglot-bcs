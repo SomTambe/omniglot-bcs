{
 "cells": [
  {
   "cell_type": "code",
   "execution_count": 1,
   "metadata": {},
   "outputs": [],
   "source": [
    "import splines\n",
    "import torch\n",
    "import glob\n",
    "import torchvision\n",
    "import numpy as np\n",
    "import torch.nn as nn\n",
    "import torch.nn.functional as F\n",
    "import torch.optim as optim\n",
    "import matplotlib.pyplot as plt\n",
    "import torchvision.transforms as transforms\n",
    "from torchsummary import summary\n",
    "import scipy"
   ]
  },
  {
   "cell_type": "code",
   "execution_count": 2,
   "metadata": {},
   "outputs": [],
   "source": [
    "back_dict=splines.mat_to_dict()"
   ]
  },
  {
   "cell_type": "code",
   "execution_count": 3,
   "metadata": {},
   "outputs": [],
   "source": [
    "spline_prims=splines.spline_dict(back_dict)\n",
    "images=splines.dict_images()"
   ]
  },
  {
   "cell_type": "code",
   "execution_count": 4,
   "metadata": {},
   "outputs": [
    {
     "data": {
      "text/plain": [
       "30"
      ]
     },
     "execution_count": 4,
     "metadata": {},
     "output_type": "execute_result"
    }
   ],
   "source": [
    "len(spline_prims) # Since languages are 30, should be equal to 30"
   ]
  },
  {
   "cell_type": "code",
   "execution_count": 5,
   "metadata": {},
   "outputs": [
    {
     "data": {
      "image/png": "[encoded data removed]",
      "text/plain": [
       "<Figure size 432x288 with 1 Axes>"
      ]
     },
     "metadata": {
      "needs_background": "light"
     },
     "output_type": "display_data"
    }
   ],
   "source": [
    "# Let us try to plot a character. Taking an example for a very weird character.\n",
    "# I found one in the Grantha alphabet. Let us see how its 25-point spline representation looks.\n",
    "\n",
    "splines.plot_char(spline_prims['Grantha'][1][3][0])\n",
    "# Note that different colors denote different stokes."
   ]
  },
  {
   "cell_type": "code",
   "execution_count": 6,
   "metadata": {},
   "outputs": [],
   "source": [
    "# Our task now remains to train a variational autoencoder on a 2 - unit output for the above."
   ]
  },
  {
   "cell_type": "code",
   "execution_count": 7,
   "metadata": {},
   "outputs": [],
   "source": [
    "class encoder(nn.Module):\n",
    "    def __init__(self):\n",
    "        super().__init__()\n",
    "        self.encode=nn.Sequential(\n",
    "            nn.Linear(50,25),\n",
    "            nn.Linear(25,10),\n",
    "            nn.Linear(10,2)\n",
    "        )\n",
    "        \n",
    "    def forward(self,x):\n",
    "        return self.encode(x)"
   ]
  },
  {
   "cell_type": "code",
   "execution_count": 8,
   "metadata": {},
   "outputs": [],
   "source": [
    "class decoder(nn.Module):\n",
    "    def __init__(self):\n",
    "        super().__init__()\n",
    "        self.decode=nn.Sequential(\n",
    "            nn.Linear(2,10),\n",
    "            nn.Linear(10,25),\n",
    "            nn.Linear(25,50)\n",
    "        )\n",
    "        \n",
    "    def forward(self,x):\n",
    "        return self.decode(x)"
   ]
  },
  {
   "cell_type": "code",
   "execution_count": 9,
   "metadata": {},
   "outputs": [
    {
     "data": {
      "text/plain": [
       "'cpu'"
      ]
     },
     "execution_count": 9,
     "metadata": {},
     "output_type": "execute_result"
    }
   ],
   "source": [
    "device=\"cuda:0\" if torch.cuda.is_available() else \"cpu\"\n",
    "device"
   ]
  },
  {
   "cell_type": "code",
   "execution_count": 10,
   "metadata": {},
   "outputs": [],
   "source": [
    "enc=encoder().to(device)\n",
    "dec=decoder().to(device)"
   ]
  },
  {
   "cell_type": "code",
   "execution_count": 11,
   "metadata": {},
   "outputs": [],
   "source": [
    "# glob.glob('./**/*.png',recursive=True)\n",
    "# Will store all filenames of background set images"
   ]
  },
  {
   "cell_type": "code",
   "execution_count": 12,
   "metadata": {},
   "outputs": [
    {
     "name": "stdout",
     "output_type": "stream",
     "text": [
      "number of total strokes : 48762\n"
     ]
    }
   ],
   "source": [
    "count=0\n",
    "for lang in spline_prims :\n",
    "        # spline_prims[lang][char][inst][0][primitive]\n",
    "        for i,char in enumerate(spline_prims[lang]) :\n",
    "            # char = characters of lang\n",
    "            for j,inst in enumerate(char) :\n",
    "                # inst = character instance\n",
    "                for k,primitive in enumerate(inst[0]):\n",
    "                    count+=1\n",
    "print('number of total strokes :',count)"
   ]
  },
  {
   "cell_type": "code",
   "execution_count": 13,
   "metadata": {},
   "outputs": [],
   "source": [
    "mat_dict = splines.load_mat(\"./data_background.mat\")"
   ]
  },
  {
   "cell_type": "code",
   "execution_count": 14,
   "metadata": {},
   "outputs": [
    {
     "name": "stdout",
     "output_type": "stream",
     "text": [
      "['Arcadian', 'Armenian', 'Asomtavruli (Georgian)', 'Balinese', 'Bengali', 'Blackfoot (Canadian Aboriginal Syllabics)', 'Braille', 'Cyrillic', 'Early Aramaic', 'Syriac (Estrangelo)', 'Anglo-Saxon Futhorc', 'Futurama', 'Grantha', 'Greek', 'Gujarati', 'Hebrew', 'Japanese (hiragana)', 'Inuktitut (Canadian Aboriginal Syllabics)', 'Malay (Jawi - Arabic)', 'Japanese (katakana)', 'Korean', 'Latin', 'Alphabet of the Magi', 'Mkhedruli (Georgian)', 'Burmese (Myanmar)', \"N'Ko\", 'Ojibwe (Canadian Aboriginal Syllabics)', 'Sanskrit', 'Tagalog', 'Tifinagh']\n"
     ]
    }
   ],
   "source": [
    "names = [] # Language names\n",
    "for i in range(len(mat_dict['names'])):\n",
    "\tnames.append(str(mat_dict['names'][i].tolist()[0][0]))\n",
    "print(names)"
   ]
  },
  {
   "cell_type": "code",
   "execution_count": 15,
   "metadata": {},
   "outputs": [
    {
     "data": {
      "image/png": "[encoded data removed]",
      "text/plain": [
       "<Figure size 432x288 with 1 Axes>"
      ]
     },
     "metadata": {
      "needs_background": "light"
     },
     "output_type": "display_data"
    },
    {
     "data": {
      "image/png": "[encoded data removed]",
      "text/plain": [
       "<Figure size 432x288 with 1 Axes>"
      ]
     },
     "metadata": {
      "needs_background": "light"
     },
     "output_type": "display_data"
    },
    {
     "name": "stdout",
     "output_type": "stream",
     "text": [
      "Success !\n"
     ]
    }
   ],
   "source": [
    "# images[lang][character][0]['image'][instance][0] -> (105,105) numpy ndarray\n",
    "# Plotting the same characters, real image vs. the strokes.\n",
    "img=images['Grantha'][1][0]['image'][3][0]\n",
    "plt.imshow(img)\n",
    "plt.show()\n",
    "splines.plot_char(spline_prims['Grantha'][1][3][0])\n",
    "print(\"Success !\")"
   ]
  },
  {
   "cell_type": "code",
   "execution_count": 16,
   "metadata": {},
   "outputs": [],
   "source": [
    "# Now we go on to build the custom dataset class for our data.\n",
    "# Since our data is not in the form of a direct mapping, what \n",
    "# I could have done is that stacked all the data in the form of a matrix. But I will \n",
    "# not do that, instead I will use an iterable dataset which is supported by PyTorch dataloader."
   ]
  },
  {
   "cell_type": "code",
   "execution_count": 70,
   "metadata": {},
   "outputs": [],
   "source": [
    "from torch.utils.data import IterableDataset, DataLoader\n",
    "class OmniglotData(IterableDataset):\n",
    "    \"\"\"\n",
    "    Iterable dataset for the 25-spline to 2 vector encoding purpose.\n",
    "    Expected form to pass data in form of \"spline_prims[lang][char][inst][0][primitive]\"\n",
    "    Args:\n",
    "        data (dict): Data in the same format as used everywhere in our application.\n",
    "    \"\"\"\n",
    "    def __init__(self,data):\n",
    "        self.data=data\n",
    "        \n",
    "    def stream(self):\n",
    "        # spline_prims[lang][char][inst][0][primitive]\n",
    "        for lang in self.data:\n",
    "            for char in self.data[lang]:\n",
    "                for inst in char:\n",
    "                    for prim in inst[0]:\n",
    "                        yield prim.reshape(-1)\n",
    "    \n",
    "    def __iter__(self):\n",
    "        print(count)\n",
    "        return self.stream()"
   ]
  },
  {
   "cell_type": "code",
   "execution_count": 71,
   "metadata": {},
   "outputs": [],
   "source": [
    "dataset=OmniglotData(spline_prims)\n",
    "data_loader=DataLoader(dataset,batch_size=1,shuffle=False)"
   ]
  },
  {
   "cell_type": "code",
   "execution_count": 74,
   "metadata": {},
   "outputs": [],
   "source": [
    "# # Comment out the .reshape(-1) part in the dataset class to test out this portion.\n",
    "# # Randomly plotting strokes to see whether they are different.\n",
    "# samp=[]\n",
    "# for c,dat in enumerate(data_loader):\n",
    "#     samp.append(dat)\n",
    "#     if c>5 :\n",
    "#         break\n",
    "# for _,c in enumerate(samp):\n",
    "# #     print(c.squeeze().detach().cpu().numpy().shape)\n",
    "#     plt.plot(c.squeeze().detach().cpu().numpy()[:,0],c.squeeze().detach().cpu().numpy()[:,1],'')\n",
    "# plt.axis('square')\n",
    "# plt.show()\n",
    "# # Just to make sure there is no problem with loading spline data"
   ]
  },
  {
   "cell_type": "code",
   "execution_count": 73,
   "metadata": {},
   "outputs": [],
   "source": [
    "criterion=nn.MSELoss()\n",
    "optimEnc=optim.Adam(enc.parameters(),lr=1e-4)\n",
    "optimDec=optim.Adam(dec.parameters(),lr=1e-4)"
   ]
  },
  {
   "cell_type": "code",
   "execution_count": null,
   "metadata": {},
   "outputs": [],
   "source": [
    "# Yaay, everything is working ! Let us train the encoder now !\n",
    "num_epochs=100\n",
    "for epoch in range(num_epochs):\n",
    "    running_loss=.0\n",
    "    for _,data in data_loader:\n",
    "        data=data.to(device)\n",
    "        mid=enc(data)\n",
    "        out=dec(mid)\n",
    "        loss=criterion(data,out)\n",
    "        loss.backward()\n",
    "        optimEnc.step()\n",
    "        optimDec.step()\n",
    "        running_loss+=loss.item()\n",
    "    print(\"[%d/%d] Loss : %.4f\"%(epoch,num_epochs,running_loss))"
   ]
  }
 ],
 "metadata": {
  "kernelspec": {
   "display_name": "Python 3",
   "language": "python",
   "name": "python3"
  },
  "language_info": {
   "codemirror_mode": {
    "name": "ipython",
    "version": 3
   },
   "file_extension": ".py",
   "mimetype": "text/x-python",
   "name": "python",
   "nbconvert_exporter": "python",
   "pygments_lexer": "ipython3",
   "version": "3.7.4"
  }
 },
 "nbformat": 4,
 "nbformat_minor": 2
}
