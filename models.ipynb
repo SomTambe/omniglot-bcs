{
  "nbformat": 4,
  "nbformat_minor": 0,
  "metadata": {
    "kernelspec": {
      "display_name": "Python 3",
      "language": "python",
      "name": "python3"
    },
    "language_info": {
      "codemirror_mode": {
        "name": "ipython",
        "version": 3
      },
      "file_extension": ".py",
      "mimetype": "text/x-python",
      "name": "python",
      "nbconvert_exporter": "python",
      "pygments_lexer": "ipython3",
      "version": "3.7.4"
    },
    "colab": {
      "name": "models.ipynb",
      "provenance": [],
      "collapsed_sections": [],
      "include_colab_link": true
    },
    "accelerator": "GPU"
  },
  "cells": [
    {
      "cell_type": "markdown",
      "metadata": {
        "id": "view-in-github",
        "colab_type": "text"
      },
      "source": [
        "<a href=\"https://colab.research.google.com/github/SomTambe/omniglot-bcs/blob/master/models.ipynb\" target=\"_parent\"><img src=\"https://colab.research.google.com/assets/colab-badge.svg\" alt=\"Open In Colab\"/></a>"
      ]
    },
    {
      "cell_type": "code",
      "metadata": {
        "id": "m1_q8UST1uQj",
        "colab_type": "code",
        "colab": {
          "base_uri": "https://localhost:8080/",
          "height": 561
        },
        "outputId": "c87f99e2-40b9-4b61-a456-69a891bd8f9b"
      },
      "source": [
        "!wget https://github.com/SomTambe/omniglot-bcs/raw/master/data_background.mat\n",
        "!wget https://github.com/SomTambe/omniglot-bcs/raw/master/splines.py"
      ],
      "execution_count": 41,
      "outputs": [
        {
          "output_type": "stream",
          "text": [
            "--2020-06-22 09:51:28--  https://github.com/SomTambe/omniglot-bcs/raw/master/data_background.mat\n",
            "Resolving github.com (github.com)... 140.82.114.3\n",
            "Connecting to github.com (github.com)|140.82.114.3|:443... connected.\n",
            "HTTP request sent, awaiting response... 302 Found\n",
            "Location: https://raw.githubusercontent.com/SomTambe/omniglot-bcs/master/data_background.mat [following]\n",
            "--2020-06-22 09:51:28--  https://raw.githubusercontent.com/SomTambe/omniglot-bcs/master/data_background.mat\n",
            "Resolving raw.githubusercontent.com (raw.githubusercontent.com)... 151.101.0.133, 151.101.64.133, 151.101.128.133, ...\n",
            "Connecting to raw.githubusercontent.com (raw.githubusercontent.com)|151.101.0.133|:443... connected.\n",
            "HTTP request sent, awaiting response... 200 OK\n",
            "Length: 21514095 (21M) [application/octet-stream]\n",
            "Saving to: ‘data_background.mat.1’\n",
            "\n",
            "data_background.mat 100%[===================>]  20.52M  47.2MB/s    in 0.4s    \n",
            "\n",
            "2020-06-22 09:51:29 (47.2 MB/s) - ‘data_background.mat.1’ saved [21514095/21514095]\n",
            "\n",
            "--2020-06-22 09:51:33--  https://github.com/SomTambe/omniglot-bcs/raw/master/splines.py\n",
            "Resolving github.com (github.com)... 140.82.112.3\n",
            "Connecting to github.com (github.com)|140.82.112.3|:443... connected.\n",
            "HTTP request sent, awaiting response... 302 Found\n",
            "Location: https://raw.githubusercontent.com/SomTambe/omniglot-bcs/master/splines.py [following]\n",
            "--2020-06-22 09:51:33--  https://raw.githubusercontent.com/SomTambe/omniglot-bcs/master/splines.py\n",
            "Resolving raw.githubusercontent.com (raw.githubusercontent.com)... 151.101.0.133, 151.101.64.133, 151.101.128.133, ...\n",
            "Connecting to raw.githubusercontent.com (raw.githubusercontent.com)|151.101.0.133|:443... connected.\n",
            "HTTP request sent, awaiting response... 200 OK\n",
            "Length: 4642 (4.5K) [text/plain]\n",
            "Saving to: ‘splines.py.1’\n",
            "\n",
            "splines.py.1        100%[===================>]   4.53K  --.-KB/s    in 0s      \n",
            "\n",
            "2020-06-22 09:51:33 (48.7 MB/s) - ‘splines.py.1’ saved [4642/4642]\n",
            "\n"
          ],
          "name": "stdout"
        }
      ]
    },
    {
      "cell_type": "code",
      "metadata": {
        "id": "OatfZxunzt-J",
        "colab_type": "code",
        "colab": {
          "base_uri": "https://localhost:8080/",
          "height": 357
        },
        "outputId": "1a4e4d65-74cc-4572-8077-cb93d5b7ad0f"
      },
      "source": [
        "import splines\n",
        "import torch\n",
        "import glob\n",
        "import torchvision\n",
        "import numpy as np\n",
        "import torch.nn as nn\n",
        "import torch.nn.functional as F\n",
        "import torch.optim as optim\n",
        "import matplotlib.pyplot as plt\n",
        "import torchvision.transforms as transforms\n",
        "from torchsummary import summary\n",
        "import scipy\n",
        "!nvidia-smi"
      ],
      "execution_count": 42,
      "outputs": [
        {
          "output_type": "stream",
          "text": [
            "Mon Jun 22 09:51:38 2020       \n",
            "+-----------------------------------------------------------------------------+\n",
            "| NVIDIA-SMI 450.36.06    Driver Version: 418.67       CUDA Version: 10.1     |\n",
            "|-------------------------------+----------------------+----------------------+\n",
            "| GPU  Name        Persistence-M| Bus-Id        Disp.A | Volatile Uncorr. ECC |\n",
            "| Fan  Temp  Perf  Pwr:Usage/Cap|         Memory-Usage | GPU-Util  Compute M. |\n",
            "|                               |                      |               MIG M. |\n",
            "|===============================+======================+======================|\n",
            "|   0  Tesla K80           Off  | 00000000:00:04.0 Off |                    0 |\n",
            "| N/A   73C    P8    33W / 149W |      0MiB / 11441MiB |      0%      Default |\n",
            "|                               |                      |                 ERR! |\n",
            "+-------------------------------+----------------------+----------------------+\n",
            "                                                                               \n",
            "+-----------------------------------------------------------------------------+\n",
            "| Processes:                                                                  |\n",
            "|  GPU   GI   CI        PID   Type   Process name                  GPU Memory |\n",
            "|        ID   ID                                                   Usage      |\n",
            "|=============================================================================|\n",
            "|  No running processes found                                                 |\n",
            "+-----------------------------------------------------------------------------+\n"
          ],
          "name": "stdout"
        }
      ]
    },
    {
      "cell_type": "code",
      "metadata": {
        "id": "Y_E30pGxzt-R",
        "colab_type": "code",
        "colab": {}
      },
      "source": [
        "back_dict=splines.mat_to_dict()"
      ],
      "execution_count": 43,
      "outputs": []
    },
    {
      "cell_type": "code",
      "metadata": {
        "id": "-aKIvY0ozt-V",
        "colab_type": "code",
        "colab": {}
      },
      "source": [
        "spline_prims=splines.spline_dict(back_dict)\n",
        "images=splines.dict_images()"
      ],
      "execution_count": 44,
      "outputs": []
    },
    {
      "cell_type": "code",
      "metadata": {
        "id": "yFBknVQBzt-e",
        "colab_type": "code",
        "colab": {
          "base_uri": "https://localhost:8080/",
          "height": 34
        },
        "outputId": "320c20f7-324e-41d5-e985-edff60155892"
      },
      "source": [
        "len(spline_prims) # Since languages are 30, should be equal to 30"
      ],
      "execution_count": 45,
      "outputs": [
        {
          "output_type": "execute_result",
          "data": {
            "text/plain": [
              "30"
            ]
          },
          "metadata": {
            "tags": []
          },
          "execution_count": 45
        }
      ]
    },
    {
      "cell_type": "code",
      "metadata": {
        "id": "g7otzLIGzt-j",
        "colab_type": "code",
        "colab": {
          "base_uri": "https://localhost:8080/",
          "height": 265
        },
        "outputId": "eb3e4e68-1a72-4e2f-caaa-16f31204234c"
      },
      "source": [
        "# Let us try to plot a character. Taking an example for a very weird character.\n",
        "# I found one in the Grantha alphabet. Let us see how its 25-point spline representation looks.\n",
        "\n",
        "splines.plot_char(spline_prims['Grantha'][1][3][0])\n",
        "# Note that different colors denote different stokes."
      ],
      "execution_count": 46,
      "outputs": [
        {
          "output_type": "display_data",
          "data": {
            "image/png": "[encoded data removed]",
            "text/plain": [
              "<Figure size 432x288 with 1 Axes>"
            ]
          },
          "metadata": {
            "tags": [],
            "needs_background": "light"
          }
        }
      ]
    },
    {
      "cell_type": "code",
      "metadata": {
        "id": "DQPo3dU720bf",
        "colab_type": "code",
        "colab": {
          "base_uri": "https://localhost:8080/",
          "height": 102
        },
        "outputId": "a02979d6-74c5-46b8-febd-a7245cedcf18"
      },
      "source": [
        "np.ones((5,4))-99"
      ],
      "execution_count": 47,
      "outputs": [
        {
          "output_type": "execute_result",
          "data": {
            "text/plain": [
              "array([[-98., -98., -98., -98.],\n",
              "       [-98., -98., -98., -98.],\n",
              "       [-98., -98., -98., -98.],\n",
              "       [-98., -98., -98., -98.],\n",
              "       [-98., -98., -98., -98.]])"
            ]
          },
          "metadata": {
            "tags": []
          },
          "execution_count": 47
        }
      ]
    },
    {
      "cell_type": "code",
      "metadata": {
        "id": "UawguxT3z4zm",
        "colab_type": "code",
        "colab": {
          "base_uri": "https://localhost:8080/",
          "height": 282
        },
        "outputId": "7a79f3c5-c05e-4b4c-9215-32fbc69bad5f"
      },
      "source": [
        "arr=spline_prims['Grantha'][1][3][0][1]\n",
        "plt.plot(arr[:,0],arr[:,1])\n",
        "mu_x=np.mean(arr[:,[0]])\n",
        "mu_y=np.mean(arr[:,[1]])\n",
        "std_x=np.std(arr[:,[0]])\n",
        "std_y=np.std(arr[:,[1]])\n",
        "print(type(std_x),std_x)\n",
        "copy=np.concatenate((((arr[:,0]-mu_x)/std_x).reshape(25,1),((arr[:,1]-mu_y)/std_y).reshape(25,1)),axis=1)\n",
        "# copy2=arr-np.array([mu_x,mu_y]) # same as copy, very interesting still don't understand why.\n",
        "plt.plot(copy[:,0],copy[:,1])\n",
        "plt.show()"
      ],
      "execution_count": 167,
      "outputs": [
        {
          "output_type": "stream",
          "text": [
            "<class 'numpy.float64'> 14.059844248375477\n"
          ],
          "name": "stdout"
        },
        {
          "output_type": "display_data",
          "data": {
            "image/png": "[encoded data removed]",
            "text/plain": [
              "<Figure size 432x288 with 1 Axes>"
            ]
          },
          "metadata": {
            "tags": [],
            "needs_background": "light"
          }
        }
      ]
    },
    {
      "cell_type": "code",
      "metadata": {
        "id": "KL2bXo9lzt-n",
        "colab_type": "code",
        "colab": {}
      },
      "source": [
        "# Our task now remains to train a variational autoencoder on a 2 - unit output for the above."
      ],
      "execution_count": null,
      "outputs": []
    },
    {
      "cell_type": "code",
      "metadata": {
        "id": "XZnCoTF2zt-s",
        "colab_type": "code",
        "colab": {}
      },
      "source": [
        "class encoder(nn.Module):\n",
        "    def __init__(self):\n",
        "        super().__init__()\n",
        "        self.encode=nn.Sequential(\n",
        "            nn.Linear(50,1000),\n",
        "            nn.ReLU(True),\n",
        "            nn.Linear(1000,1000),\n",
        "            nn.ReLU(True),\n",
        "            nn.Linear(1000,4),\n",
        "        )\n",
        "        self.mu=nn.Linear(4,2)\n",
        "        self.var=nn.Linear(4,2)\n",
        "        \n",
        "    def forward(self,x):\n",
        "        x=self.encode(x)\n",
        "        return [self.mu(x),self.var(x)]"
      ],
      "execution_count": 52,
      "outputs": []
    },
    {
      "cell_type": "code",
      "metadata": {
        "id": "YqMwObtBzt-0",
        "colab_type": "code",
        "colab": {}
      },
      "source": [
        "class decoder(nn.Module):\n",
        "    def __init__(self):\n",
        "        super().__init__()\n",
        "        self.decode=nn.Sequential(\n",
        "            nn.Linear(2,1000),\n",
        "            nn.ReLU(),\n",
        "            nn.Linear(1000,1000),\n",
        "            nn.ReLU(),\n",
        "            nn.Linear(1000,50),\n",
        "        )\n",
        "        \n",
        "    def forward(self,x):\n",
        "        return self.decode(x)"
      ],
      "execution_count": 53,
      "outputs": []
    },
    {
      "cell_type": "code",
      "metadata": {
        "id": "hE8mBXgpzt-3",
        "colab_type": "code",
        "colab": {
          "base_uri": "https://localhost:8080/",
          "height": 34
        },
        "outputId": "9281c0a7-a257-49fb-8714-307768c2ebb6"
      },
      "source": [
        "device=\"cuda:0\" if torch.cuda.is_available() else \"cpu\"\n",
        "device"
      ],
      "execution_count": 54,
      "outputs": [
        {
          "output_type": "execute_result",
          "data": {
            "text/plain": [
              "'cuda:0'"
            ]
          },
          "metadata": {
            "tags": []
          },
          "execution_count": 54
        }
      ]
    },
    {
      "cell_type": "code",
      "metadata": {
        "id": "5Mw1_jyEzt_A",
        "colab_type": "code",
        "colab": {}
      },
      "source": [
        "# glob.glob('./**/*.png',recursive=True)\n",
        "# Will store all filenames of background set images"
      ],
      "execution_count": 55,
      "outputs": []
    },
    {
      "cell_type": "code",
      "metadata": {
        "id": "Nw7zV2mczt_C",
        "colab_type": "code",
        "colab": {
          "base_uri": "https://localhost:8080/",
          "height": 34
        },
        "outputId": "49f78979-f850-4baa-9cd1-d6d7db13597d"
      },
      "source": [
        "count=0\n",
        "for lang in spline_prims :\n",
        "        # spline_prims[lang][char][inst][0][primitive]\n",
        "        for i,char in enumerate(spline_prims[lang]) :\n",
        "            # char = characters of lang\n",
        "            for j,inst in enumerate(char) :\n",
        "                # inst = character instance\n",
        "                for k,primitive in enumerate(inst[0]):\n",
        "                    count+=1\n",
        "print('number of total strokes :',count)"
      ],
      "execution_count": 56,
      "outputs": [
        {
          "output_type": "stream",
          "text": [
            "number of total strokes : 48762\n"
          ],
          "name": "stdout"
        }
      ]
    },
    {
      "cell_type": "code",
      "metadata": {
        "id": "6cW5k4Rvzt_N",
        "colab_type": "code",
        "colab": {
          "base_uri": "https://localhost:8080/",
          "height": 533
        },
        "outputId": "2fd4cc88-1d10-44c9-c3e9-78e07cd80703"
      },
      "source": [
        "# images[lang][character][0]['image'][instance][0] -> (105,105) numpy ndarray\n",
        "# Plotting the same characters, real image vs. the strokes.\n",
        "img=images['Grantha'][1][0]['image'][3][0]\n",
        "plt.imshow(img)\n",
        "plt.show()\n",
        "splines.plot_char(spline_prims['Grantha'][1][3][0])\n",
        "print(\"Success !\")"
      ],
      "execution_count": 57,
      "outputs": [
        {
          "output_type": "display_data",
          "data": {
            "image/png": "[encoded data removed]",
            "text/plain": [
              "<Figure size 432x288 with 1 Axes>"
            ]
          },
          "metadata": {
            "tags": [],
            "needs_background": "light"
          }
        },
        {
          "output_type": "display_data",
          "data": {
            "image/png": "[encoded data removed]",
            "text/plain": [
              "<Figure size 432x288 with 1 Axes>"
            ]
          },
          "metadata": {
            "tags": [],
            "needs_background": "light"
          }
        },
        {
          "output_type": "stream",
          "text": [
            "Success !\n"
          ],
          "name": "stdout"
        }
      ]
    },
    {
      "cell_type": "code",
      "metadata": {
        "id": "92u8T5Hczt_P",
        "colab_type": "code",
        "colab": {}
      },
      "source": [
        "# Now we go on to build the custom dataset class for our data.\n",
        "# Since our data is not in the form of a direct mapping, what \n",
        "# I could have done is that stacked all the data in the form of a matrix. But I wont \n",
        "# do that, instead I will use an iterable dataset which is supported by PyTorch dataloader."
      ],
      "execution_count": 58,
      "outputs": []
    },
    {
      "cell_type": "code",
      "metadata": {
        "id": "WLOMoEkizt_S",
        "colab_type": "code",
        "colab": {}
      },
      "source": [
        "from torch.utils.data import IterableDataset, DataLoader\n",
        "class OmniglotData(IterableDataset):\n",
        "    \"\"\"\n",
        "    Iterable dataset for the 25-spline to 2 vector encoding purpose.\n",
        "    Expected form to pass data in form of \"spline_prims[lang][char][inst][0][primitive]\"\n",
        "    Args:\n",
        "        data (dict): Data in the same format as used everywhere in our application.\n",
        "    \"\"\"\n",
        "    def __init__(self,data):\n",
        "        self.data=data\n",
        "    \n",
        "    def normalize(self,arr):\n",
        "        mu_x=np.mean(arr[:,[0]])\n",
        "        mu_y=np.mean(arr[:,[1]])\n",
        "        std_x=np.std(arr[:,[0]])\n",
        "        std_y=np.std(arr[:,[1]])\n",
        "        # return np.concatenate((((arr[:,0]-mu_x)/std_x).reshape(25,1),((arr[:,1]-mu_y)/std_y).reshape(25,1)),axis=1)\n",
        "        return np.concatenate((((arr[:,0]-mu_x)).reshape(25,1),((arr[:,1]-mu_y)).reshape(25,1)),axis=1)\n",
        "        \n",
        "    def stream(self):\n",
        "        # spline_prims[lang][char][inst][0][primitive]\n",
        "        for lang in self.data:\n",
        "            for char in self.data[lang]:\n",
        "                for inst in char:\n",
        "                    for prim in inst[0]:\n",
        "                        # yield torch.tensor(prim.reshape(-1)).float()\n",
        "                        yield torch.tensor(self.normalize(prim).reshape(-1)).float()\n",
        "    \n",
        "    def __iter__(self):\n",
        "        # print(count)\n",
        "        return self.stream()"
      ],
      "execution_count": 168,
      "outputs": []
    },
    {
      "cell_type": "code",
      "metadata": {
        "id": "5hF4oLiSaMW3",
        "colab_type": "code",
        "colab": {}
      },
      "source": [
        "def gen_latent(mu, logvar):\n",
        "        \"\"\"\n",
        "        Reparameterization trick to sample from N(mu, var) from\n",
        "        N(0,1).\n",
        "        :param mu: (Tensor) Mean of the latent Gaussian [B x D]\n",
        "        :param logvar: (Tensor) Standard deviation of the latent Gaussian [B x D]\n",
        "        :return: (Tensor) [B x D]\n",
        "        \"\"\"\n",
        "        std = torch.exp(0.5 * logvar)\n",
        "        eps = torch.randn_like(std)\n",
        "        return eps * std + mu\n",
        "\n",
        "def loss_function(*args):\n",
        "        \"\"\"\n",
        "        Computes the VAE loss function.\n",
        "        KL(N(\\mu, \\sigma), N(0, 1)) = \\log \\frac{1}{\\sigma} + \\frac{\\sigma^2 + \\mu^2}{2} - \\frac{1}{2}\n",
        "        :param args:\n",
        "        :param kwargs:\n",
        "        :return:\n",
        "        \"\"\"\n",
        "        recons = args[0]\n",
        "        input = args[1]\n",
        "        mu = args[2]\n",
        "        log_var = args[3]\n",
        "\n",
        "        # kld_weight = kwargs['M_N'] # Account for the minibatch samples from the dataset\n",
        "        recons_loss =F.mse_loss(recons, input)\n",
        "\n",
        "\n",
        "        kld_loss = torch.mean(-0.5 * torch.sum(1 + log_var - mu ** 2 - log_var.exp(), dim = 1), dim = 0)\n",
        "\n",
        "        loss = recons_loss + kld_loss\n",
        "        return {'loss': loss, 'Reconstruction_Loss':recons_loss, 'KLD':-kld_loss}"
      ],
      "execution_count": 169,
      "outputs": []
    },
    {
      "cell_type": "code",
      "metadata": {
        "id": "RHkNbolezt-7",
        "colab_type": "code",
        "colab": {}
      },
      "source": [
        "enc=encoder().to(device)\n",
        "dec=decoder().to(device)"
      ],
      "execution_count": 170,
      "outputs": []
    },
    {
      "cell_type": "code",
      "metadata": {
        "id": "oYQyWm2jzt_V",
        "colab_type": "code",
        "colab": {}
      },
      "source": [
        "dataset=OmniglotData(spline_prims)\n",
        "data_loader=DataLoader(dataset,batch_size=32,shuffle=False)"
      ],
      "execution_count": 171,
      "outputs": []
    },
    {
      "cell_type": "code",
      "metadata": {
        "id": "xE-ub6vKzt_g",
        "colab_type": "code",
        "colab": {}
      },
      "source": [
        "optimEnc=optim.Adam(enc.parameters(),lr=2e-4)\n",
        "optimDec=optim.Adam(dec.parameters(),lr=2e-4)"
      ],
      "execution_count": 173,
      "outputs": []
    },
    {
      "cell_type": "code",
      "metadata": {
        "id": "TdqfOyzlzt_i",
        "colab_type": "code",
        "colab": {
          "base_uri": "https://localhost:8080/",
          "height": 1000
        },
        "outputId": "d1d1a831-3ecf-4970-9345-e76534a61f73"
      },
      "source": [
        "# Yaay, everything is working ! Let us train the encoder now !\n",
        "losses=[]\n",
        "import time\n",
        "num_epochs=500\n",
        "for epoch in range(num_epochs):\n",
        "    running_loss=.0\n",
        "    running_reconst=.0\n",
        "    running_kld=.0\n",
        "    start=time.time()\n",
        "    for i,data in enumerate(data_loader):\n",
        "        # start=time.time()\n",
        "        optimEnc.zero_grad(),optimDec.zero_grad()\n",
        "        data=data.to(device)\n",
        "        mu,var=enc(data)\n",
        "        mid=gen_latent(mu,var)\n",
        "        out=dec(mid)\n",
        "        loss=loss_function(out,data,mu,var)\n",
        "        real_loss,recons_loss,KLDL=loss['loss'],loss['Reconstruction_Loss'],loss['KLD']\n",
        "        real_loss.backward()\n",
        "        optimEnc.step()\n",
        "        optimDec.step()\n",
        "        # if (i+1)%print_intvl==0:\n",
        "        #     print(\"[%d/%d] [%d] Loss: %.4f recons: %.4f KLD: %.4f Time elapsed: %.4f\"%(epoch+1,num_epochs,i+1,real_loss.item(),recons_loss.item(),KLDL.item(),time.time()-start))\n",
        "        running_loss+=real_loss.item()\n",
        "        running_reconst+=recons_loss.item()\n",
        "        running_kld+=KLDL.item()\n",
        "    losses.append(running_loss)\n",
        "    print(\"[%d/%d] [%d] Loss: %.4f recons: %.4f KLD: %.4f Time elapsed: %.4f\"%(epoch+1,num_epochs,i+1,running_loss/32,running_reconst/32,running_kld/32,time.time()-start))\n",
        "    # print(\"[%d/%d] Loss : %.4f Time elapsed : %.4f\"%(epoch+1,num_epochs,running_loss,time.time()-start))"
      ],
      "execution_count": 174,
      "outputs": [
        {
          "output_type": "stream",
          "text": [
            "[1/500] [1524] Loss: 2218.2265 recons: 1929.3022 KLD: -288.9243 Time elapsed: 19.2123\n",
            "[2/500] [1524] Loss: 1826.0317 recons: 1593.8345 KLD: -232.1972 Time elapsed: 19.3858\n",
            "[3/500] [1524] Loss: 1709.4594 recons: 1479.6109 KLD: -229.8484 Time elapsed: 19.1741\n",
            "[4/500] [1524] Loss: 1616.1781 recons: 1385.4551 KLD: -230.7229 Time elapsed: 19.0535\n",
            "[5/500] [1524] Loss: 1561.4631 recons: 1329.0142 KLD: -232.4489 Time elapsed: 19.4682\n",
            "[6/500] [1524] Loss: 1526.0635 recons: 1294.1328 KLD: -231.9306 Time elapsed: 18.9516\n",
            "[7/500] [1524] Loss: 1497.7584 recons: 1266.8338 KLD: -230.9246 Time elapsed: 19.5429\n",
            "[8/500] [1524] Loss: 1460.5391 recons: 1229.3903 KLD: -231.1488 Time elapsed: 19.1950\n",
            "[9/500] [1524] Loss: 1431.6167 recons: 1199.9678 KLD: -231.6489 Time elapsed: 19.4206\n",
            "[10/500] [1524] Loss: 1423.5578 recons: 1192.7829 KLD: -230.7749 Time elapsed: 19.3860\n",
            "[11/500] [1524] Loss: 1413.6810 recons: 1181.6818 KLD: -231.9992 Time elapsed: 19.2721\n",
            "[12/500] [1524] Loss: 1406.5702 recons: 1175.2143 KLD: -231.3559 Time elapsed: 18.9211\n",
            "[13/500] [1524] Loss: 1391.3895 recons: 1160.1359 KLD: -231.2536 Time elapsed: 19.5755\n",
            "[14/500] [1524] Loss: 1380.8160 recons: 1148.7339 KLD: -232.0821 Time elapsed: 19.0467\n",
            "[15/500] [1524] Loss: 1367.8552 recons: 1137.1229 KLD: -230.7324 Time elapsed: 19.2853\n",
            "[16/500] [1524] Loss: 1375.1575 recons: 1144.2089 KLD: -230.9486 Time elapsed: 19.2678\n",
            "[17/500] [1524] Loss: 1355.6828 recons: 1123.1594 KLD: -232.5234 Time elapsed: 19.1973\n",
            "[18/500] [1524] Loss: 1345.2183 recons: 1112.9248 KLD: -232.2935 Time elapsed: 19.4293\n",
            "[19/500] [1524] Loss: 1348.0190 recons: 1115.5818 KLD: -232.4372 Time elapsed: 19.3854\n",
            "[20/500] [1524] Loss: 1331.0509 recons: 1097.6812 KLD: -233.3697 Time elapsed: 19.5520\n",
            "[21/500] [1524] Loss: 1323.1682 recons: 1090.0314 KLD: -233.1367 Time elapsed: 19.2324\n",
            "[22/500] [1524] Loss: 1309.1692 recons: 1075.7084 KLD: -233.4608 Time elapsed: 19.4366\n",
            "[23/500] [1524] Loss: 1307.3523 recons: 1075.1972 KLD: -232.1551 Time elapsed: 19.1569\n",
            "[24/500] [1524] Loss: 1296.7442 recons: 1063.1820 KLD: -233.5621 Time elapsed: 19.8111\n",
            "[25/500] [1524] Loss: 1300.5937 recons: 1066.7850 KLD: -233.8087 Time elapsed: 19.0885\n",
            "[26/500] [1524] Loss: 1286.1167 recons: 1051.7667 KLD: -234.3500 Time elapsed: 19.7459\n",
            "[27/500] [1524] Loss: 1288.8911 recons: 1054.4772 KLD: -234.4139 Time elapsed: 19.2665\n",
            "[28/500] [1524] Loss: 1275.4028 recons: 1041.1251 KLD: -234.2777 Time elapsed: 19.3297\n",
            "[29/500] [1524] Loss: 1261.9418 recons: 1027.4622 KLD: -234.4797 Time elapsed: 19.3511\n",
            "[30/500] [1524] Loss: 1280.6797 recons: 1044.8659 KLD: -235.8138 Time elapsed: 19.3298\n",
            "[31/500] [1524] Loss: 1262.1907 recons: 1024.8649 KLD: -237.3258 Time elapsed: 19.5443\n",
            "[32/500] [1524] Loss: 1256.8242 recons: 1021.1350 KLD: -235.6892 Time elapsed: 19.2215\n",
            "[33/500] [1524] Loss: 1248.4393 recons: 1011.5700 KLD: -236.8693 Time elapsed: 19.5420\n",
            "[34/500] [1524] Loss: 1243.3290 recons: 1007.0452 KLD: -236.2838 Time elapsed: 19.0380\n",
            "[35/500] [1524] Loss: 1239.6750 recons: 1002.0642 KLD: -237.6108 Time elapsed: 19.6711\n",
            "[36/500] [1524] Loss: 1235.3869 recons: 998.4658 KLD: -236.9211 Time elapsed: 19.0930\n",
            "[37/500] [1524] Loss: 1239.2860 recons: 1001.5044 KLD: -237.7816 Time elapsed: 19.4774\n",
            "[38/500] [1524] Loss: 1231.1629 recons: 993.1046 KLD: -238.0583 Time elapsed: 19.2075\n",
            "[39/500] [1524] Loss: 1241.9610 recons: 1004.0359 KLD: -237.9251 Time elapsed: 19.5756\n",
            "[40/500] [1524] Loss: 1226.6261 recons: 988.5807 KLD: -238.0455 Time elapsed: 19.0943\n",
            "[41/500] [1524] Loss: 1224.7289 recons: 986.5540 KLD: -238.1749 Time elapsed: 19.2958\n",
            "[42/500] [1524] Loss: 1213.9436 recons: 975.3296 KLD: -238.6140 Time elapsed: 19.5314\n",
            "[43/500] [1524] Loss: 1226.1909 recons: 988.2022 KLD: -237.9886 Time elapsed: 19.4528\n",
            "[44/500] [1524] Loss: 1216.4996 recons: 977.2509 KLD: -239.2487 Time elapsed: 19.2817\n",
            "[45/500] [1524] Loss: 1219.8373 recons: 980.7374 KLD: -239.0999 Time elapsed: 19.5613\n",
            "[46/500] [1524] Loss: 1209.2279 recons: 969.2837 KLD: -239.9443 Time elapsed: 19.0145\n",
            "[47/500] [1524] Loss: 1202.3264 recons: 962.8242 KLD: -239.5022 Time elapsed: 19.6130\n",
            "[48/500] [1524] Loss: 1210.9988 recons: 971.4114 KLD: -239.5874 Time elapsed: 19.4121\n",
            "[49/500] [1524] Loss: 1210.9324 recons: 969.8246 KLD: -241.1078 Time elapsed: 19.6469\n",
            "[50/500] [1524] Loss: 1192.3714 recons: 952.7979 KLD: -239.5735 Time elapsed: 19.2796\n",
            "[51/500] [1524] Loss: 1192.6202 recons: 952.7264 KLD: -239.8938 Time elapsed: 19.8631\n",
            "[52/500] [1524] Loss: 1191.8220 recons: 952.0533 KLD: -239.7687 Time elapsed: 19.4582\n",
            "[53/500] [1524] Loss: 1201.8974 recons: 960.5757 KLD: -241.3218 Time elapsed: 19.5009\n",
            "[54/500] [1524] Loss: 1190.1969 recons: 948.6209 KLD: -241.5760 Time elapsed: 19.7234\n",
            "[55/500] [1524] Loss: 1195.5057 recons: 954.6776 KLD: -240.8281 Time elapsed: 19.3315\n",
            "[56/500] [1524] Loss: 1185.2072 recons: 943.8567 KLD: -241.3505 Time elapsed: 19.6378\n",
            "[57/500] [1524] Loss: 1183.1535 recons: 941.9071 KLD: -241.2464 Time elapsed: 19.2944\n",
            "[58/500] [1524] Loss: 1185.7251 recons: 943.9804 KLD: -241.7447 Time elapsed: 19.7488\n",
            "[59/500] [1524] Loss: 1190.4437 recons: 949.3418 KLD: -241.1019 Time elapsed: 19.2368\n",
            "[60/500] [1524] Loss: 1181.6888 recons: 940.6739 KLD: -241.0149 Time elapsed: 19.8075\n",
            "[61/500] [1524] Loss: 1181.6738 recons: 940.3930 KLD: -241.2809 Time elapsed: 19.2031\n",
            "[62/500] [1524] Loss: 1187.9922 recons: 945.6768 KLD: -242.3154 Time elapsed: 19.8303\n",
            "[63/500] [1524] Loss: 1181.6746 recons: 939.8722 KLD: -241.8024 Time elapsed: 19.2527\n",
            "[64/500] [1524] Loss: 1178.4420 recons: 936.5563 KLD: -241.8858 Time elapsed: 19.5980\n",
            "[65/500] [1524] Loss: 1167.4634 recons: 924.3097 KLD: -243.1537 Time elapsed: 19.1041\n",
            "[66/500] [1524] Loss: 1167.8819 recons: 925.1030 KLD: -242.7790 Time elapsed: 19.7047\n",
            "[67/500] [1524] Loss: 1166.8589 recons: 923.9834 KLD: -242.8755 Time elapsed: 19.2448\n",
            "[68/500] [1524] Loss: 1170.6977 recons: 927.5345 KLD: -243.1632 Time elapsed: 19.6848\n",
            "[69/500] [1524] Loss: 1166.8967 recons: 922.8752 KLD: -244.0215 Time elapsed: 19.3278\n",
            "[70/500] [1524] Loss: 1168.0944 recons: 924.9079 KLD: -243.1865 Time elapsed: 19.5456\n",
            "[71/500] [1524] Loss: 1164.4700 recons: 919.8376 KLD: -244.6324 Time elapsed: 19.4497\n",
            "[72/500] [1524] Loss: 1163.0527 recons: 919.6260 KLD: -243.4267 Time elapsed: 19.3543\n",
            "[73/500] [1524] Loss: 1156.6627 recons: 912.4767 KLD: -244.1860 Time elapsed: 19.5829\n",
            "[74/500] [1524] Loss: 1158.6716 recons: 914.9838 KLD: -243.6878 Time elapsed: 19.5539\n",
            "[75/500] [1524] Loss: 1155.7091 recons: 909.9648 KLD: -245.7443 Time elapsed: 19.7655\n",
            "[76/500] [1524] Loss: 1159.3991 recons: 913.8830 KLD: -245.5161 Time elapsed: 19.3122\n",
            "[77/500] [1524] Loss: 1145.0945 recons: 900.4539 KLD: -244.6405 Time elapsed: 19.6386\n",
            "[78/500] [1524] Loss: 1144.9918 recons: 899.6415 KLD: -245.3503 Time elapsed: 19.0819\n",
            "[79/500] [1524] Loss: 1156.8525 recons: 912.4596 KLD: -244.3930 Time elapsed: 19.6179\n",
            "[80/500] [1524] Loss: 1159.5926 recons: 915.3250 KLD: -244.2676 Time elapsed: 19.2081\n",
            "[81/500] [1524] Loss: 1153.4204 recons: 908.6232 KLD: -244.7972 Time elapsed: 19.6570\n",
            "[82/500] [1524] Loss: 1141.8841 recons: 896.6315 KLD: -245.2526 Time elapsed: 19.3567\n",
            "[83/500] [1524] Loss: 1141.7197 recons: 896.2776 KLD: -245.4421 Time elapsed: 19.5863\n",
            "[84/500] [1524] Loss: 1140.5272 recons: 896.1377 KLD: -244.3895 Time elapsed: 19.4098\n",
            "[85/500] [1524] Loss: 1144.9029 recons: 900.2386 KLD: -244.6643 Time elapsed: 19.2062\n",
            "[86/500] [1524] Loss: 1148.5337 recons: 903.8011 KLD: -244.7326 Time elapsed: 19.7490\n",
            "[87/500] [1524] Loss: 1138.6082 recons: 893.8394 KLD: -244.7688 Time elapsed: 19.1225\n",
            "[88/500] [1524] Loss: 1143.4089 recons: 899.2499 KLD: -244.1590 Time elapsed: 19.4045\n",
            "[89/500] [1524] Loss: 1141.6260 recons: 896.6573 KLD: -244.9687 Time elapsed: 19.6033\n",
            "[90/500] [1524] Loss: 1134.2842 recons: 888.8552 KLD: -245.4290 Time elapsed: 19.4163\n",
            "[91/500] [1524] Loss: 1138.8886 recons: 893.6694 KLD: -245.2193 Time elapsed: 19.6673\n",
            "[92/500] [1524] Loss: 1130.4912 recons: 885.0391 KLD: -245.4521 Time elapsed: 19.6402\n",
            "[93/500] [1524] Loss: 1122.9908 recons: 876.9820 KLD: -246.0087 Time elapsed: 19.5121\n",
            "[94/500] [1524] Loss: 1133.3308 recons: 888.5971 KLD: -244.7337 Time elapsed: 19.6916\n",
            "[95/500] [1524] Loss: 1138.1304 recons: 892.7621 KLD: -245.3683 Time elapsed: 19.2852\n",
            "[96/500] [1524] Loss: 1131.4583 recons: 885.0506 KLD: -246.4076 Time elapsed: 19.7486\n",
            "[97/500] [1524] Loss: 1130.1279 recons: 884.3833 KLD: -245.7446 Time elapsed: 19.5281\n",
            "[98/500] [1524] Loss: 1146.3292 recons: 900.2242 KLD: -246.1049 Time elapsed: 19.6980\n",
            "[99/500] [1524] Loss: 1133.6318 recons: 888.1248 KLD: -245.5070 Time elapsed: 19.2197\n",
            "[100/500] [1524] Loss: 1124.6897 recons: 878.5370 KLD: -246.1527 Time elapsed: 19.7605\n",
            "[101/500] [1524] Loss: 1125.5732 recons: 879.4178 KLD: -246.1554 Time elapsed: 19.4326\n",
            "[102/500] [1524] Loss: 1146.8852 recons: 900.1867 KLD: -246.6985 Time elapsed: 19.7537\n",
            "[103/500] [1524] Loss: 1116.2954 recons: 868.9556 KLD: -247.3398 Time elapsed: 19.3987\n",
            "[104/500] [1524] Loss: 1122.9284 recons: 875.5861 KLD: -247.3422 Time elapsed: 19.7579\n",
            "[105/500] [1524] Loss: 1127.9055 recons: 880.7159 KLD: -247.1897 Time elapsed: 19.5468\n",
            "[106/500] [1524] Loss: 1129.1903 recons: 882.6247 KLD: -246.5656 Time elapsed: 19.8420\n",
            "[107/500] [1524] Loss: 1130.5893 recons: 884.7561 KLD: -245.8332 Time elapsed: 19.6223\n",
            "[108/500] [1524] Loss: 1116.1984 recons: 869.1239 KLD: -247.0744 Time elapsed: 19.6563\n",
            "[109/500] [1524] Loss: 1115.1683 recons: 869.2814 KLD: -245.8869 Time elapsed: 19.7720\n",
            "[110/500] [1524] Loss: 1119.9555 recons: 873.7900 KLD: -246.1655 Time elapsed: 19.3330\n",
            "[111/500] [1524] Loss: 2853.3625 recons: 2547.9286 KLD: -305.4340 Time elapsed: 19.8263\n",
            "[112/500] [1524] Loss: 1116.6264 recons: 868.5391 KLD: -248.0872 Time elapsed: 19.3855\n",
            "[113/500] [1524] Loss: 1107.7345 recons: 859.3357 KLD: -248.3988 Time elapsed: 19.7410\n",
            "[114/500] [1524] Loss: 1100.8378 recons: 851.9580 KLD: -248.8798 Time elapsed: 19.5796\n",
            "[115/500] [1524] Loss: 1098.6615 recons: 850.5661 KLD: -248.0953 Time elapsed: 19.6916\n",
            "[116/500] [1524] Loss: 1095.5082 recons: 847.2550 KLD: -248.2533 Time elapsed: 19.3627\n",
            "[117/500] [1524] Loss: 1107.9225 recons: 858.9719 KLD: -248.9507 Time elapsed: 19.8654\n",
            "[118/500] [1524] Loss: 1099.9647 recons: 851.1296 KLD: -248.8351 Time elapsed: 19.5615\n",
            "[119/500] [1524] Loss: 1096.3556 recons: 848.5695 KLD: -247.7861 Time elapsed: 19.7164\n",
            "[120/500] [1524] Loss: 1094.3131 recons: 846.2871 KLD: -248.0260 Time elapsed: 19.6326\n",
            "[121/500] [1524] Loss: 1095.8377 recons: 847.6642 KLD: -248.1735 Time elapsed: 19.6412\n",
            "[122/500] [1524] Loss: 1104.7171 recons: 857.0336 KLD: -247.6835 Time elapsed: 19.7821\n",
            "[123/500] [1524] Loss: 1096.3317 recons: 847.3956 KLD: -248.9361 Time elapsed: 19.5758\n",
            "[124/500] [1524] Loss: 1106.2513 recons: 856.8894 KLD: -249.3619 Time elapsed: 19.6305\n",
            "[125/500] [1524] Loss: 1106.0379 recons: 857.8777 KLD: -248.1602 Time elapsed: 19.4001\n",
            "[126/500] [1524] Loss: 1114.9504 recons: 866.7973 KLD: -248.1530 Time elapsed: 19.6678\n",
            "[127/500] [1524] Loss: 1105.3658 recons: 856.4961 KLD: -248.8697 Time elapsed: 19.3663\n",
            "[128/500] [1524] Loss: 1099.8868 recons: 851.5516 KLD: -248.3353 Time elapsed: 19.6607\n",
            "[129/500] [1524] Loss: 1117.2905 recons: 869.4279 KLD: -247.8627 Time elapsed: 19.5838\n",
            "[130/500] [1524] Loss: 1105.8781 recons: 857.4898 KLD: -248.3882 Time elapsed: 19.6351\n",
            "[131/500] [1524] Loss: 1117.2528 recons: 869.2459 KLD: -248.0069 Time elapsed: 19.2475\n",
            "[132/500] [1524] Loss: 1103.7412 recons: 854.2352 KLD: -249.5060 Time elapsed: 19.7278\n",
            "[133/500] [1524] Loss: 1101.1971 recons: 851.3749 KLD: -249.8222 Time elapsed: 19.1487\n",
            "[134/500] [1524] Loss: 1102.5103 recons: 852.4831 KLD: -250.0273 Time elapsed: 19.5930\n",
            "[135/500] [1524] Loss: 1112.2905 recons: 863.0202 KLD: -249.2703 Time elapsed: 19.2074\n",
            "[136/500] [1524] Loss: 1095.6628 recons: 846.4478 KLD: -249.2150 Time elapsed: 19.7871\n",
            "[137/500] [1524] Loss: 1099.8672 recons: 851.0164 KLD: -248.8508 Time elapsed: 19.5965\n",
            "[138/500] [1524] Loss: 1098.7533 recons: 850.8070 KLD: -247.9463 Time elapsed: 19.7141\n",
            "[139/500] [1524] Loss: 1101.5642 recons: 853.1954 KLD: -248.3688 Time elapsed: 19.5837\n",
            "[140/500] [1524] Loss: 1097.1538 recons: 847.3458 KLD: -249.8080 Time elapsed: 19.5486\n"
          ],
          "name": "stdout"
        },
        {
          "output_type": "error",
          "ename": "KeyboardInterrupt",
          "evalue": "ignored",
          "traceback": [
            "\u001b[0;31m---------------------------------------------------------------------------\u001b[0m",
            "\u001b[0;31mKeyboardInterrupt\u001b[0m                         Traceback (most recent call last)",
            "\u001b[0;32m<ipython-input-174-41cff7c80d34>\u001b[0m in \u001b[0;36m<module>\u001b[0;34m()\u001b[0m\n\u001b[1;32m      8\u001b[0m     \u001b[0mrunning_kld\u001b[0m\u001b[0;34m=\u001b[0m\u001b[0;36m.0\u001b[0m\u001b[0;34m\u001b[0m\u001b[0;34m\u001b[0m\u001b[0m\n\u001b[1;32m      9\u001b[0m     \u001b[0mstart\u001b[0m\u001b[0;34m=\u001b[0m\u001b[0mtime\u001b[0m\u001b[0;34m.\u001b[0m\u001b[0mtime\u001b[0m\u001b[0;34m(\u001b[0m\u001b[0;34m)\u001b[0m\u001b[0;34m\u001b[0m\u001b[0;34m\u001b[0m\u001b[0m\n\u001b[0;32m---> 10\u001b[0;31m     \u001b[0;32mfor\u001b[0m \u001b[0mi\u001b[0m\u001b[0;34m,\u001b[0m\u001b[0mdata\u001b[0m \u001b[0;32min\u001b[0m \u001b[0menumerate\u001b[0m\u001b[0;34m(\u001b[0m\u001b[0mdata_loader\u001b[0m\u001b[0;34m)\u001b[0m\u001b[0;34m:\u001b[0m\u001b[0;34m\u001b[0m\u001b[0;34m\u001b[0m\u001b[0m\n\u001b[0m\u001b[1;32m     11\u001b[0m         \u001b[0;31m# start=time.time()\u001b[0m\u001b[0;34m\u001b[0m\u001b[0;34m\u001b[0m\u001b[0;34m\u001b[0m\u001b[0m\n\u001b[1;32m     12\u001b[0m         \u001b[0moptimEnc\u001b[0m\u001b[0;34m.\u001b[0m\u001b[0mzero_grad\u001b[0m\u001b[0;34m(\u001b[0m\u001b[0;34m)\u001b[0m\u001b[0;34m,\u001b[0m\u001b[0moptimDec\u001b[0m\u001b[0;34m.\u001b[0m\u001b[0mzero_grad\u001b[0m\u001b[0;34m(\u001b[0m\u001b[0;34m)\u001b[0m\u001b[0;34m\u001b[0m\u001b[0;34m\u001b[0m\u001b[0m\n",
            "\u001b[0;32m/usr/local/lib/python3.6/dist-packages/torch/utils/data/dataloader.py\u001b[0m in \u001b[0;36m__next__\u001b[0;34m(self)\u001b[0m\n\u001b[1;32m    343\u001b[0m \u001b[0;34m\u001b[0m\u001b[0m\n\u001b[1;32m    344\u001b[0m     \u001b[0;32mdef\u001b[0m \u001b[0m__next__\u001b[0m\u001b[0;34m(\u001b[0m\u001b[0mself\u001b[0m\u001b[0;34m)\u001b[0m\u001b[0;34m:\u001b[0m\u001b[0;34m\u001b[0m\u001b[0;34m\u001b[0m\u001b[0m\n\u001b[0;32m--> 345\u001b[0;31m         \u001b[0mdata\u001b[0m \u001b[0;34m=\u001b[0m \u001b[0mself\u001b[0m\u001b[0;34m.\u001b[0m\u001b[0m_next_data\u001b[0m\u001b[0;34m(\u001b[0m\u001b[0;34m)\u001b[0m\u001b[0;34m\u001b[0m\u001b[0;34m\u001b[0m\u001b[0m\n\u001b[0m\u001b[1;32m    346\u001b[0m         \u001b[0mself\u001b[0m\u001b[0;34m.\u001b[0m\u001b[0m_num_yielded\u001b[0m \u001b[0;34m+=\u001b[0m \u001b[0;36m1\u001b[0m\u001b[0;34m\u001b[0m\u001b[0;34m\u001b[0m\u001b[0m\n\u001b[1;32m    347\u001b[0m         \u001b[0;32mif\u001b[0m \u001b[0mself\u001b[0m\u001b[0;34m.\u001b[0m\u001b[0m_dataset_kind\u001b[0m \u001b[0;34m==\u001b[0m \u001b[0m_DatasetKind\u001b[0m\u001b[0;34m.\u001b[0m\u001b[0mIterable\u001b[0m \u001b[0;32mand\u001b[0m\u001b[0;31m \u001b[0m\u001b[0;31m\\\u001b[0m\u001b[0;34m\u001b[0m\u001b[0;34m\u001b[0m\u001b[0m\n",
            "\u001b[0;32m/usr/local/lib/python3.6/dist-packages/torch/utils/data/dataloader.py\u001b[0m in \u001b[0;36m_next_data\u001b[0;34m(self)\u001b[0m\n\u001b[1;32m    383\u001b[0m     \u001b[0;32mdef\u001b[0m \u001b[0m_next_data\u001b[0m\u001b[0;34m(\u001b[0m\u001b[0mself\u001b[0m\u001b[0;34m)\u001b[0m\u001b[0;34m:\u001b[0m\u001b[0;34m\u001b[0m\u001b[0;34m\u001b[0m\u001b[0m\n\u001b[1;32m    384\u001b[0m         \u001b[0mindex\u001b[0m \u001b[0;34m=\u001b[0m \u001b[0mself\u001b[0m\u001b[0;34m.\u001b[0m\u001b[0m_next_index\u001b[0m\u001b[0;34m(\u001b[0m\u001b[0;34m)\u001b[0m  \u001b[0;31m# may raise StopIteration\u001b[0m\u001b[0;34m\u001b[0m\u001b[0;34m\u001b[0m\u001b[0m\n\u001b[0;32m--> 385\u001b[0;31m         \u001b[0mdata\u001b[0m \u001b[0;34m=\u001b[0m \u001b[0mself\u001b[0m\u001b[0;34m.\u001b[0m\u001b[0m_dataset_fetcher\u001b[0m\u001b[0;34m.\u001b[0m\u001b[0mfetch\u001b[0m\u001b[0;34m(\u001b[0m\u001b[0mindex\u001b[0m\u001b[0;34m)\u001b[0m  \u001b[0;31m# may raise StopIteration\u001b[0m\u001b[0;34m\u001b[0m\u001b[0;34m\u001b[0m\u001b[0m\n\u001b[0m\u001b[1;32m    386\u001b[0m         \u001b[0;32mif\u001b[0m \u001b[0mself\u001b[0m\u001b[0;34m.\u001b[0m\u001b[0m_pin_memory\u001b[0m\u001b[0;34m:\u001b[0m\u001b[0;34m\u001b[0m\u001b[0;34m\u001b[0m\u001b[0m\n\u001b[1;32m    387\u001b[0m             \u001b[0mdata\u001b[0m \u001b[0;34m=\u001b[0m \u001b[0m_utils\u001b[0m\u001b[0;34m.\u001b[0m\u001b[0mpin_memory\u001b[0m\u001b[0;34m.\u001b[0m\u001b[0mpin_memory\u001b[0m\u001b[0;34m(\u001b[0m\u001b[0mdata\u001b[0m\u001b[0;34m)\u001b[0m\u001b[0;34m\u001b[0m\u001b[0;34m\u001b[0m\u001b[0m\n",
            "\u001b[0;32m/usr/local/lib/python3.6/dist-packages/torch/utils/data/_utils/fetch.py\u001b[0m in \u001b[0;36mfetch\u001b[0;34m(self, possibly_batched_index)\u001b[0m\n\u001b[1;32m     26\u001b[0m             \u001b[0;32mfor\u001b[0m \u001b[0m_\u001b[0m \u001b[0;32min\u001b[0m \u001b[0mpossibly_batched_index\u001b[0m\u001b[0;34m:\u001b[0m\u001b[0;34m\u001b[0m\u001b[0;34m\u001b[0m\u001b[0m\n\u001b[1;32m     27\u001b[0m                 \u001b[0;32mtry\u001b[0m\u001b[0;34m:\u001b[0m\u001b[0;34m\u001b[0m\u001b[0;34m\u001b[0m\u001b[0m\n\u001b[0;32m---> 28\u001b[0;31m                     \u001b[0mdata\u001b[0m\u001b[0;34m.\u001b[0m\u001b[0mappend\u001b[0m\u001b[0;34m(\u001b[0m\u001b[0mnext\u001b[0m\u001b[0;34m(\u001b[0m\u001b[0mself\u001b[0m\u001b[0;34m.\u001b[0m\u001b[0mdataset_iter\u001b[0m\u001b[0;34m)\u001b[0m\u001b[0;34m)\u001b[0m\u001b[0;34m\u001b[0m\u001b[0;34m\u001b[0m\u001b[0m\n\u001b[0m\u001b[1;32m     29\u001b[0m                 \u001b[0;32mexcept\u001b[0m \u001b[0mStopIteration\u001b[0m\u001b[0;34m:\u001b[0m\u001b[0;34m\u001b[0m\u001b[0;34m\u001b[0m\u001b[0m\n\u001b[1;32m     30\u001b[0m                     \u001b[0;32mbreak\u001b[0m\u001b[0;34m\u001b[0m\u001b[0;34m\u001b[0m\u001b[0m\n",
            "\u001b[0;32m<ipython-input-168-a91e7ed447d3>\u001b[0m in \u001b[0;36mstream\u001b[0;34m(self)\u001b[0m\n\u001b[1;32m     25\u001b[0m                     \u001b[0;32mfor\u001b[0m \u001b[0mprim\u001b[0m \u001b[0;32min\u001b[0m \u001b[0minst\u001b[0m\u001b[0;34m[\u001b[0m\u001b[0;36m0\u001b[0m\u001b[0;34m]\u001b[0m\u001b[0;34m:\u001b[0m\u001b[0;34m\u001b[0m\u001b[0;34m\u001b[0m\u001b[0m\n\u001b[1;32m     26\u001b[0m                         \u001b[0;31m# yield torch.tensor(prim.reshape(-1)).float()\u001b[0m\u001b[0;34m\u001b[0m\u001b[0;34m\u001b[0m\u001b[0;34m\u001b[0m\u001b[0m\n\u001b[0;32m---> 27\u001b[0;31m                         \u001b[0;32myield\u001b[0m \u001b[0mtorch\u001b[0m\u001b[0;34m.\u001b[0m\u001b[0mtensor\u001b[0m\u001b[0;34m(\u001b[0m\u001b[0mself\u001b[0m\u001b[0;34m.\u001b[0m\u001b[0mnormalize\u001b[0m\u001b[0;34m(\u001b[0m\u001b[0mprim\u001b[0m\u001b[0;34m)\u001b[0m\u001b[0;34m.\u001b[0m\u001b[0mreshape\u001b[0m\u001b[0;34m(\u001b[0m\u001b[0;34m-\u001b[0m\u001b[0;36m1\u001b[0m\u001b[0;34m)\u001b[0m\u001b[0;34m)\u001b[0m\u001b[0;34m.\u001b[0m\u001b[0mfloat\u001b[0m\u001b[0;34m(\u001b[0m\u001b[0;34m)\u001b[0m\u001b[0;34m\u001b[0m\u001b[0;34m\u001b[0m\u001b[0m\n\u001b[0m\u001b[1;32m     28\u001b[0m \u001b[0;34m\u001b[0m\u001b[0m\n\u001b[1;32m     29\u001b[0m     \u001b[0;32mdef\u001b[0m \u001b[0m__iter__\u001b[0m\u001b[0;34m(\u001b[0m\u001b[0mself\u001b[0m\u001b[0;34m)\u001b[0m\u001b[0;34m:\u001b[0m\u001b[0;34m\u001b[0m\u001b[0;34m\u001b[0m\u001b[0m\n",
            "\u001b[0;32m<ipython-input-168-a91e7ed447d3>\u001b[0m in \u001b[0;36mnormalize\u001b[0;34m(self, arr)\u001b[0m\n\u001b[1;32m     16\u001b[0m         \u001b[0mstd_y\u001b[0m\u001b[0;34m=\u001b[0m\u001b[0mnp\u001b[0m\u001b[0;34m.\u001b[0m\u001b[0mstd\u001b[0m\u001b[0;34m(\u001b[0m\u001b[0marr\u001b[0m\u001b[0;34m[\u001b[0m\u001b[0;34m:\u001b[0m\u001b[0;34m,\u001b[0m\u001b[0;34m[\u001b[0m\u001b[0;36m1\u001b[0m\u001b[0;34m]\u001b[0m\u001b[0;34m]\u001b[0m\u001b[0;34m)\u001b[0m\u001b[0;34m\u001b[0m\u001b[0;34m\u001b[0m\u001b[0m\n\u001b[1;32m     17\u001b[0m         \u001b[0;31m# return np.concatenate((((arr[:,0]-mu_x)/std_x).reshape(25,1),((arr[:,1]-mu_y)/std_y).reshape(25,1)),axis=1)\u001b[0m\u001b[0;34m\u001b[0m\u001b[0;34m\u001b[0m\u001b[0;34m\u001b[0m\u001b[0m\n\u001b[0;32m---> 18\u001b[0;31m         \u001b[0;32mreturn\u001b[0m \u001b[0mnp\u001b[0m\u001b[0;34m.\u001b[0m\u001b[0mconcatenate\u001b[0m\u001b[0;34m(\u001b[0m\u001b[0;34m(\u001b[0m\u001b[0;34m(\u001b[0m\u001b[0;34m(\u001b[0m\u001b[0marr\u001b[0m\u001b[0;34m[\u001b[0m\u001b[0;34m:\u001b[0m\u001b[0;34m,\u001b[0m\u001b[0;36m0\u001b[0m\u001b[0;34m]\u001b[0m\u001b[0;34m-\u001b[0m\u001b[0mmu_x\u001b[0m\u001b[0;34m)\u001b[0m\u001b[0;34m)\u001b[0m\u001b[0;34m.\u001b[0m\u001b[0mreshape\u001b[0m\u001b[0;34m(\u001b[0m\u001b[0;36m25\u001b[0m\u001b[0;34m,\u001b[0m\u001b[0;36m1\u001b[0m\u001b[0;34m)\u001b[0m\u001b[0;34m,\u001b[0m\u001b[0;34m(\u001b[0m\u001b[0;34m(\u001b[0m\u001b[0marr\u001b[0m\u001b[0;34m[\u001b[0m\u001b[0;34m:\u001b[0m\u001b[0;34m,\u001b[0m\u001b[0;36m1\u001b[0m\u001b[0;34m]\u001b[0m\u001b[0;34m-\u001b[0m\u001b[0mmu_y\u001b[0m\u001b[0;34m)\u001b[0m\u001b[0;34m)\u001b[0m\u001b[0;34m.\u001b[0m\u001b[0mreshape\u001b[0m\u001b[0;34m(\u001b[0m\u001b[0;36m25\u001b[0m\u001b[0;34m,\u001b[0m\u001b[0;36m1\u001b[0m\u001b[0;34m)\u001b[0m\u001b[0;34m)\u001b[0m\u001b[0;34m,\u001b[0m\u001b[0maxis\u001b[0m\u001b[0;34m=\u001b[0m\u001b[0;36m1\u001b[0m\u001b[0;34m)\u001b[0m\u001b[0;34m\u001b[0m\u001b[0;34m\u001b[0m\u001b[0m\n\u001b[0m\u001b[1;32m     19\u001b[0m \u001b[0;34m\u001b[0m\u001b[0m\n\u001b[1;32m     20\u001b[0m     \u001b[0;32mdef\u001b[0m \u001b[0mstream\u001b[0m\u001b[0;34m(\u001b[0m\u001b[0mself\u001b[0m\u001b[0;34m)\u001b[0m\u001b[0;34m:\u001b[0m\u001b[0;34m\u001b[0m\u001b[0;34m\u001b[0m\u001b[0m\n",
            "\u001b[0;31mKeyboardInterrupt\u001b[0m: "
          ]
        }
      ]
    },
    {
      "cell_type": "code",
      "metadata": {
        "id": "CIpL4fZHEeoT",
        "colab_type": "code",
        "colab": {
          "base_uri": "https://localhost:8080/",
          "height": 265
        },
        "outputId": "3f737156-ff86-457a-9911-2af4a5c02cec"
      },
      "source": [
        "plt.plot(losses,label='net loss')\n",
        "plt.legend()\n",
        "plt.show()"
      ],
      "execution_count": 175,
      "outputs": [
        {
          "output_type": "display_data",
          "data": {
            "image/png": "[encoded data removed]",
            "text/plain": [
              "<Figure size 432x288 with 1 Axes>"
            ]
          },
          "metadata": {
            "tags": [],
            "needs_background": "light"
          }
        }
      ]
    },
    {
      "cell_type": "code",
      "metadata": {
        "id": "YgR8Cl0aEgzv",
        "colab_type": "code",
        "colab": {}
      },
      "source": [
        "from google.colab import files\n",
        "\n",
        "torch.save(enc.state_dict(),'encoder.pth')\n",
        "torch.save(dec.state_dict(),'decoder.pth')"
      ],
      "execution_count": 176,
      "outputs": []
    },
    {
      "cell_type": "code",
      "metadata": {
        "id": "r6zhqPp767Ns",
        "colab_type": "code",
        "colab": {}
      },
      "source": [
        "# files.download('encoder.pth')\n",
        "files.download('decoder.pth')"
      ],
      "execution_count": 178,
      "outputs": []
    },
    {
      "cell_type": "code",
      "metadata": {
        "id": "ZV5aSgSTZAqd",
        "colab_type": "code",
        "colab": {}
      },
      "source": [
        "# !wget https://github.com/SomTambe/omniglot-bcs/raw/master/weights/decoder.pth\n",
        "# !wget https://github.com/SomTambe/omniglot-bcs/raw/master/weights/encoder.pth"
      ],
      "execution_count": null,
      "outputs": []
    },
    {
      "cell_type": "code",
      "metadata": {
        "id": "w2so16DwYCO9",
        "colab_type": "code",
        "colab": {}
      },
      "source": [
        "enc.load_state_dict(torch.load('encoder.pth'))\n",
        "dec.load_state_dict(torch.load('decoder.pth'))"
      ],
      "execution_count": null,
      "outputs": []
    },
    {
      "cell_type": "code",
      "metadata": {
        "id": "2PE7QbnPbUi8",
        "colab_type": "code",
        "colab": {}
      },
      "source": [
        "def eval_char(chr):\n",
        "    \"\"\"\n",
        "    Function to show decoded character to see how the encoder has been trained.\n",
        "\n",
        "    Args:\n",
        "        chr (numpy array): Character to be evaluated.\n",
        "    \"\"\"\n",
        "    # spline_prims['Grantha'][1][3][0]\n",
        "    pred=[]\n",
        "    enc.eval()\n",
        "    dec.eval()\n",
        "    for prim in chr :\n",
        "        prim=normalize(prim)\n",
        "        prim=torch.tensor(prim).to(device).reshape(-1).unsqueeze(0).float()\n",
        "        mu,var=enc(prim)\n",
        "        mid=gen_latent(mu,var)\n",
        "        out=dec(mid).squeeze().reshape(25,2) # generated primitive\n",
        "        pred.append(out.detach().cpu().numpy())\n",
        "\n",
        "    return splines.plot_char(pred)\n",
        "def normalize(arr):\n",
        "        mu_x=np.mean(arr[:,[0]])\n",
        "        mu_y=np.mean(arr[:,[1]])\n",
        "        std_x=np.std(arr[:,[0]])\n",
        "        std_y=np.std(arr[:,[1]])\n",
        "        return np.concatenate((((arr[:,0]-mu_x)).reshape(25,1),((arr[:,1]-mu_y)).reshape(25,1)),axis=1)"
      ],
      "execution_count": null,
      "outputs": []
    },
    {
      "cell_type": "code",
      "metadata": {
        "id": "iW4xFF8CbUTs",
        "colab_type": "code",
        "colab": {}
      },
      "source": [
        "CHAR=spline_prims['Sanskrit'][1][3][0]\n",
        "print(\"Decoded\")\n",
        "eval_char(CHAR)\n",
        "print(\"original\")\n",
        "splines.plot_char(CHAR)"
      ],
      "execution_count": null,
      "outputs": []
    },
    {
      "cell_type": "code",
      "metadata": {
        "id": "jg8-3D8Dzt_c",
        "colab_type": "code",
        "colab": {
          "base_uri": "https://localhost:8080/",
          "height": 265
        },
        "outputId": "b34605d2-fc9e-4405-dd58-ac75dfbf227d"
      },
      "source": [
        "# Comment out the .reshape(-1) part in the dataset class to test out this portion.\n",
        "# Randomly plotting strokes to see whether they are different.\n",
        "samp=[]\n",
        "for c,dat in enumerate(data_loader):\n",
        "    samp.append(dat)\n",
        "    if c>0 :\n",
        "        break\n",
        "for _,c in enumerate(samp):\n",
        "    # print(c.squeeze().detach().cpu().numpy().shape)\n",
        "    plt.plot(c.squeeze().detach().cpu().numpy()[:,0],c.squeeze().detach().cpu().numpy()[:,1],'')\n",
        "plt.axis('square')\n",
        "plt.show()\n",
        "# Just to make sure there is no problem with loading spline data"
      ],
      "execution_count": 142,
      "outputs": [
        {
          "output_type": "display_data",
          "data": {
            "image/png": "[encoded data removed]",
            "text/plain": [
              "<Figure size 432x288 with 1 Axes>"
            ]
          },
          "metadata": {
            "tags": [],
            "needs_background": "light"
          }
        }
      ]
    },
    {
      "cell_type": "code",
      "metadata": {
        "id": "wsN5q6cLedw4",
        "colab_type": "code",
        "colab": {}
      },
      "source": [
        ""
      ],
      "execution_count": null,
      "outputs": []
    }
  ]
}