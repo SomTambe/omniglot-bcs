{
  "nbformat": 4,
  "nbformat_minor": 0,
  "metadata": {
    "kernelspec": {
      "display_name": "Python 3",
      "language": "python",
      "name": "python3"
    },
    "language_info": {
      "codemirror_mode": {
        "name": "ipython",
        "version": 3
      },
      "file_extension": ".py",
      "mimetype": "text/x-python",
      "name": "python",
      "nbconvert_exporter": "python",
      "pygments_lexer": "ipython3",
      "version": "3.7.4"
    },
    "colab": {
      "name": "models.ipynb",
      "provenance": [],
      "collapsed_sections": [],
      "include_colab_link": true
    },
    "accelerator": "GPU"
  },
  "cells": [
    {
      "cell_type": "markdown",
      "metadata": {
        "id": "view-in-github",
        "colab_type": "text"
      },
      "source": [
        "<a href=\"https://colab.research.google.com/github/SomTambe/omniglot-bcs/blob/master/models.ipynb\" target=\"_parent\"><img src=\"https://colab.research.google.com/assets/colab-badge.svg\" alt=\"Open In Colab\"/></a>"
      ]
    },
    {
      "cell_type": "code",
      "metadata": {
        "id": "m1_q8UST1uQj",
        "colab_type": "code",
        "colab": {
          "base_uri": "https://localhost:8080/",
          "height": 561
        },
        "outputId": "8387b19f-d7a3-4ec7-bec2-4a5275934068"
      },
      "source": [
        "!wget https://github.com/SomTambe/omniglot-bcs/raw/master/data_background.mat\n",
        "!wget https://github.com/SomTambe/omniglot-bcs/raw/master/splines.py"
      ],
      "execution_count": 2,
      "outputs": [
        {
          "output_type": "stream",
          "text": [
            "--2020-06-20 06:22:37--  https://github.com/SomTambe/omniglot-bcs/raw/master/data_background.mat\n",
            "Resolving github.com (github.com)... 140.82.113.4\n",
            "Connecting to github.com (github.com)|140.82.113.4|:443... connected.\n",
            "HTTP request sent, awaiting response... 302 Found\n",
            "Location: https://raw.githubusercontent.com/SomTambe/omniglot-bcs/master/data_background.mat [following]\n",
            "--2020-06-20 06:22:38--  https://raw.githubusercontent.com/SomTambe/omniglot-bcs/master/data_background.mat\n",
            "Resolving raw.githubusercontent.com (raw.githubusercontent.com)... 151.101.0.133, 151.101.64.133, 151.101.128.133, ...\n",
            "Connecting to raw.githubusercontent.com (raw.githubusercontent.com)|151.101.0.133|:443... connected.\n",
            "HTTP request sent, awaiting response... 200 OK\n",
            "Length: 21514095 (21M) [application/octet-stream]\n",
            "Saving to: ‘data_background.mat’\n",
            "\n",
            "data_background.mat 100%[===================>]  20.52M  30.9MB/s    in 0.7s    \n",
            "\n",
            "2020-06-20 06:22:40 (30.9 MB/s) - ‘data_background.mat’ saved [21514095/21514095]\n",
            "\n",
            "--2020-06-20 06:22:41--  https://github.com/SomTambe/omniglot-bcs/raw/master/splines.py\n",
            "Resolving github.com (github.com)... 140.82.113.4\n",
            "Connecting to github.com (github.com)|140.82.113.4|:443... connected.\n",
            "HTTP request sent, awaiting response... 302 Found\n",
            "Location: https://raw.githubusercontent.com/SomTambe/omniglot-bcs/master/splines.py [following]\n",
            "--2020-06-20 06:22:42--  https://raw.githubusercontent.com/SomTambe/omniglot-bcs/master/splines.py\n",
            "Resolving raw.githubusercontent.com (raw.githubusercontent.com)... 151.101.0.133, 151.101.64.133, 151.101.128.133, ...\n",
            "Connecting to raw.githubusercontent.com (raw.githubusercontent.com)|151.101.0.133|:443... connected.\n",
            "HTTP request sent, awaiting response... 200 OK\n",
            "Length: 4642 (4.5K) [text/plain]\n",
            "Saving to: ‘splines.py’\n",
            "\n",
            "splines.py          100%[===================>]   4.53K  --.-KB/s    in 0s      \n",
            "\n",
            "2020-06-20 06:22:42 (43.0 MB/s) - ‘splines.py’ saved [4642/4642]\n",
            "\n"
          ],
          "name": "stdout"
        }
      ]
    },
    {
      "cell_type": "code",
      "metadata": {
        "id": "OatfZxunzt-J",
        "colab_type": "code",
        "colab": {
          "base_uri": "https://localhost:8080/",
          "height": 357
        },
        "outputId": "82338781-b8d7-417d-cd78-08bfd64ef551"
      },
      "source": [
        "import splines\n",
        "import torch\n",
        "import glob\n",
        "import torchvision\n",
        "import numpy as np\n",
        "import torch.nn as nn\n",
        "import torch.nn.functional as F\n",
        "import torch.optim as optim\n",
        "import matplotlib.pyplot as plt\n",
        "import torchvision.transforms as transforms\n",
        "from torchsummary import summary\n",
        "import scipy\n",
        "!nvidia-smi"
      ],
      "execution_count": 3,
      "outputs": [
        {
          "output_type": "stream",
          "text": [
            "Sat Jun 20 06:22:47 2020       \n",
            "+-----------------------------------------------------------------------------+\n",
            "| NVIDIA-SMI 450.36.06    Driver Version: 418.67       CUDA Version: 10.1     |\n",
            "|-------------------------------+----------------------+----------------------+\n",
            "| GPU  Name        Persistence-M| Bus-Id        Disp.A | Volatile Uncorr. ECC |\n",
            "| Fan  Temp  Perf  Pwr:Usage/Cap|         Memory-Usage | GPU-Util  Compute M. |\n",
            "|                               |                      |               MIG M. |\n",
            "|===============================+======================+======================|\n",
            "|   0  Tesla K80           Off  | 00000000:00:04.0 Off |                    0 |\n",
            "| N/A   70C    P8    35W / 149W |      0MiB / 11441MiB |      0%      Default |\n",
            "|                               |                      |                 ERR! |\n",
            "+-------------------------------+----------------------+----------------------+\n",
            "                                                                               \n",
            "+-----------------------------------------------------------------------------+\n",
            "| Processes:                                                                  |\n",
            "|  GPU   GI   CI        PID   Type   Process name                  GPU Memory |\n",
            "|        ID   ID                                                   Usage      |\n",
            "|=============================================================================|\n",
            "|  No running processes found                                                 |\n",
            "+-----------------------------------------------------------------------------+\n"
          ],
          "name": "stdout"
        }
      ]
    },
    {
      "cell_type": "code",
      "metadata": {
        "id": "Y_E30pGxzt-R",
        "colab_type": "code",
        "colab": {}
      },
      "source": [
        "back_dict=splines.mat_to_dict()"
      ],
      "execution_count": 4,
      "outputs": []
    },
    {
      "cell_type": "code",
      "metadata": {
        "id": "-aKIvY0ozt-V",
        "colab_type": "code",
        "colab": {}
      },
      "source": [
        "spline_prims=splines.spline_dict(back_dict)\n",
        "images=splines.dict_images()"
      ],
      "execution_count": 5,
      "outputs": []
    },
    {
      "cell_type": "code",
      "metadata": {
        "id": "yFBknVQBzt-e",
        "colab_type": "code",
        "colab": {
          "base_uri": "https://localhost:8080/",
          "height": 34
        },
        "outputId": "fe8f424d-b4d8-4707-ec6b-03878360cda6"
      },
      "source": [
        "len(spline_prims) # Since languages are 30, should be equal to 30"
      ],
      "execution_count": 6,
      "outputs": [
        {
          "output_type": "execute_result",
          "data": {
            "text/plain": [
              "30"
            ]
          },
          "metadata": {
            "tags": []
          },
          "execution_count": 6
        }
      ]
    },
    {
      "cell_type": "code",
      "metadata": {
        "id": "g7otzLIGzt-j",
        "colab_type": "code",
        "colab": {
          "base_uri": "https://localhost:8080/",
          "height": 265
        },
        "outputId": "11bde578-c9f9-431b-95bc-5749549ee302"
      },
      "source": [
        "# Let us try to plot a character. Taking an example for a very weird character.\n",
        "# I found one in the Grantha alphabet. Let us see how its 25-point spline representation looks.\n",
        "\n",
        "splines.plot_char(spline_prims['Grantha'][1][3][0])\n",
        "# Note that different colors denote different stokes."
      ],
      "execution_count": 7,
      "outputs": [
        {
          "output_type": "display_data",
          "data": {
            "image/png": "[encoded data removed]",
            "text/plain": [
              "<Figure size 432x288 with 1 Axes>"
            ]
          },
          "metadata": {
            "tags": [],
            "needs_background": "light"
          }
        }
      ]
    },
    {
      "cell_type": "code",
      "metadata": {
        "id": "KL2bXo9lzt-n",
        "colab_type": "code",
        "colab": {}
      },
      "source": [
        "# Our task now remains to train a variational autoencoder on a 2 - unit output for the above."
      ],
      "execution_count": 8,
      "outputs": []
    },
    {
      "cell_type": "code",
      "metadata": {
        "id": "XZnCoTF2zt-s",
        "colab_type": "code",
        "colab": {}
      },
      "source": [
        "class encoder(nn.Module):\n",
        "    def __init__(self):\n",
        "        super().__init__()\n",
        "        self.encode=nn.Sequential(\n",
        "            nn.Linear(50,1000),\n",
        "            nn.ReLU(True),\n",
        "            nn.Linear(1000,1000),\n",
        "            nn.ReLU(True),\n",
        "            nn.Linear(1000,4),\n",
        "        )\n",
        "        self.mu=nn.Linear(4,2)\n",
        "        self.var=nn.Linear(4,2)\n",
        "        \n",
        "    def forward(self,x):\n",
        "        x=self.encode(x)\n",
        "        return [self.mu(x),self.var(x)]"
      ],
      "execution_count": 39,
      "outputs": []
    },
    {
      "cell_type": "code",
      "metadata": {
        "id": "YqMwObtBzt-0",
        "colab_type": "code",
        "colab": {}
      },
      "source": [
        "class decoder(nn.Module):\n",
        "    def __init__(self):\n",
        "        super().__init__()\n",
        "        self.decode=nn.Sequential(\n",
        "            nn.Linear(2,1000),\n",
        "            nn.ReLU(),\n",
        "            nn.Linear(1000,1000),\n",
        "            nn.ReLU(),\n",
        "            nn.Linear(1000,50),\n",
        "        )\n",
        "        \n",
        "    def forward(self,x):\n",
        "        return self.decode(x)"
      ],
      "execution_count": 40,
      "outputs": []
    },
    {
      "cell_type": "code",
      "metadata": {
        "id": "hE8mBXgpzt-3",
        "colab_type": "code",
        "colab": {
          "base_uri": "https://localhost:8080/",
          "height": 34
        },
        "outputId": "f86ed4e2-8580-45d9-adac-508ebcdc61b2"
      },
      "source": [
        "device=\"cuda:0\" if torch.cuda.is_available() else \"cpu\"\n",
        "device"
      ],
      "execution_count": 41,
      "outputs": [
        {
          "output_type": "execute_result",
          "data": {
            "text/plain": [
              "'cuda:0'"
            ]
          },
          "metadata": {
            "tags": []
          },
          "execution_count": 41
        }
      ]
    },
    {
      "cell_type": "code",
      "metadata": {
        "id": "5Mw1_jyEzt_A",
        "colab_type": "code",
        "colab": {}
      },
      "source": [
        "# glob.glob('./**/*.png',recursive=True)\n",
        "# Will store all filenames of background set images"
      ],
      "execution_count": 42,
      "outputs": []
    },
    {
      "cell_type": "code",
      "metadata": {
        "id": "Nw7zV2mczt_C",
        "colab_type": "code",
        "colab": {
          "base_uri": "https://localhost:8080/",
          "height": 34
        },
        "outputId": "b117471a-d611-4d14-a121-17c8d7a9763d"
      },
      "source": [
        "count=0\n",
        "for lang in spline_prims :\n",
        "        # spline_prims[lang][char][inst][0][primitive]\n",
        "        for i,char in enumerate(spline_prims[lang]) :\n",
        "            # char = characters of lang\n",
        "            for j,inst in enumerate(char) :\n",
        "                # inst = character instance\n",
        "                for k,primitive in enumerate(inst[0]):\n",
        "                    count+=1\n",
        "print('number of total strokes :',count)"
      ],
      "execution_count": 43,
      "outputs": [
        {
          "output_type": "stream",
          "text": [
            "number of total strokes : 48762\n"
          ],
          "name": "stdout"
        }
      ]
    },
    {
      "cell_type": "code",
      "metadata": {
        "id": "6cW5k4Rvzt_N",
        "colab_type": "code",
        "colab": {
          "base_uri": "https://localhost:8080/",
          "height": 533
        },
        "outputId": "527bb748-539f-4051-9dfa-61b9df83bc2a"
      },
      "source": [
        "# images[lang][character][0]['image'][instance][0] -> (105,105) numpy ndarray\n",
        "# Plotting the same characters, real image vs. the strokes.\n",
        "img=images['Grantha'][1][0]['image'][3][0]\n",
        "plt.imshow(img)\n",
        "plt.show()\n",
        "splines.plot_char(spline_prims['Grantha'][1][3][0])\n",
        "print(\"Success !\")"
      ],
      "execution_count": 44,
      "outputs": [
        {
          "output_type": "display_data",
          "data": {
            "image/png": "[encoded data removed]",
            "text/plain": [
              "<Figure size 432x288 with 1 Axes>"
            ]
          },
          "metadata": {
            "tags": [],
            "needs_background": "light"
          }
        },
        {
          "output_type": "display_data",
          "data": {
            "image/png": "[encoded data removed]",
            "text/plain": [
              "<Figure size 432x288 with 1 Axes>"
            ]
          },
          "metadata": {
            "tags": [],
            "needs_background": "light"
          }
        },
        {
          "output_type": "stream",
          "text": [
            "Success !\n"
          ],
          "name": "stdout"
        }
      ]
    },
    {
      "cell_type": "code",
      "metadata": {
        "id": "92u8T5Hczt_P",
        "colab_type": "code",
        "colab": {}
      },
      "source": [
        "# Now we go on to build the custom dataset class for our data.\n",
        "# Since our data is not in the form of a direct mapping, what \n",
        "# I could have done is that stacked all the data in the form of a matrix. But I wont \n",
        "# do that, instead I will use an iterable dataset which is supported by PyTorch dataloader."
      ],
      "execution_count": 45,
      "outputs": []
    },
    {
      "cell_type": "code",
      "metadata": {
        "id": "WLOMoEkizt_S",
        "colab_type": "code",
        "colab": {}
      },
      "source": [
        "from torch.utils.data import IterableDataset, DataLoader\n",
        "class OmniglotData(IterableDataset):\n",
        "    \"\"\"\n",
        "    Iterable dataset for the 25-spline to 2 vector encoding purpose.\n",
        "    Expected form to pass data in form of \"spline_prims[lang][char][inst][0][primitive]\"\n",
        "    Args:\n",
        "        data (dict): Data in the same format as used everywhere in our application.\n",
        "    \"\"\"\n",
        "    def __init__(self,data):\n",
        "        self.data=data\n",
        "        \n",
        "    def stream(self):\n",
        "        # spline_prims[lang][char][inst][0][primitive]\n",
        "        for lang in self.data:\n",
        "            for char in self.data[lang]:\n",
        "                for inst in char:\n",
        "                    for prim in inst[0]:\n",
        "                        yield torch.tensor(prim.reshape(-1)).float()\n",
        "    \n",
        "    def __iter__(self):\n",
        "        # print(count)\n",
        "        return self.stream()"
      ],
      "execution_count": 46,
      "outputs": []
    },
    {
      "cell_type": "code",
      "metadata": {
        "id": "5hF4oLiSaMW3",
        "colab_type": "code",
        "colab": {}
      },
      "source": [
        "def gen_latent(mu, logvar):\n",
        "        \"\"\"\n",
        "        Reparameterization trick to sample from N(mu, var) from\n",
        "        N(0,1).\n",
        "        :param mu: (Tensor) Mean of the latent Gaussian [B x D]\n",
        "        :param logvar: (Tensor) Standard deviation of the latent Gaussian [B x D]\n",
        "        :return: (Tensor) [B x D]\n",
        "        \"\"\"\n",
        "        std = torch.exp(0.5 * logvar)\n",
        "        eps = torch.randn_like(std)\n",
        "        return eps * std + mu\n",
        "\n",
        "def loss_function(*args):\n",
        "        \"\"\"\n",
        "        Computes the VAE loss function.\n",
        "        KL(N(\\mu, \\sigma), N(0, 1)) = \\log \\frac{1}{\\sigma} + \\frac{\\sigma^2 + \\mu^2}{2} - \\frac{1}{2}\n",
        "        :param args:\n",
        "        :param kwargs:\n",
        "        :return:\n",
        "        \"\"\"\n",
        "        recons = args[0]\n",
        "        input = args[1]\n",
        "        mu = args[2]\n",
        "        log_var = args[3]\n",
        "\n",
        "        # kld_weight = kwargs['M_N'] # Account for the minibatch samples from the dataset\n",
        "        recons_loss =F.mse_loss(recons, input)\n",
        "\n",
        "\n",
        "        kld_loss = torch.mean(-0.5 * torch.sum(1 + log_var - mu ** 2 - log_var.exp(), dim = 1), dim = 0)\n",
        "\n",
        "        loss = recons_loss + kld_loss\n",
        "        return {'loss': loss, 'Reconstruction_Loss':recons_loss, 'KLD':-kld_loss}"
      ],
      "execution_count": 47,
      "outputs": []
    },
    {
      "cell_type": "code",
      "metadata": {
        "id": "RHkNbolezt-7",
        "colab_type": "code",
        "colab": {}
      },
      "source": [
        "enc=encoder().to(device)\n",
        "dec=decoder().to(device)"
      ],
      "execution_count": 57,
      "outputs": []
    },
    {
      "cell_type": "code",
      "metadata": {
        "id": "oYQyWm2jzt_V",
        "colab_type": "code",
        "colab": {}
      },
      "source": [
        "dataset=OmniglotData(spline_prims)\n",
        "data_loader=DataLoader(dataset,batch_size=32,shuffle=False)"
      ],
      "execution_count": 58,
      "outputs": []
    },
    {
      "cell_type": "code",
      "metadata": {
        "id": "xE-ub6vKzt_g",
        "colab_type": "code",
        "colab": {}
      },
      "source": [
        "optimEnc=optim.Adam(enc.parameters(),lr=1e-5)\n",
        "optimDec=optim.Adam(dec.parameters(),lr=1e-5)"
      ],
      "execution_count": 59,
      "outputs": []
    },
    {
      "cell_type": "code",
      "metadata": {
        "id": "47nuba1kEMJX",
        "colab_type": "code",
        "colab": {}
      },
      "source": [
        "print_intvl=100"
      ],
      "execution_count": 60,
      "outputs": []
    },
    {
      "cell_type": "code",
      "metadata": {
        "id": "TdqfOyzlzt_i",
        "colab_type": "code",
        "colab": {
          "base_uri": "https://localhost:8080/",
          "height": 1000
        },
        "outputId": "dc24f130-f543-4a81-92c0-e8c460f16780"
      },
      "source": [
        "# Yaay, everything is working ! Let us train the encoder now !\n",
        "losses=[]\n",
        "import time\n",
        "num_epochs=100\n",
        "for epoch in range(num_epochs):\n",
        "    running_loss=.0\n",
        "    running_reconst=.0\n",
        "    running_kld=.0\n",
        "    start=time.time()\n",
        "    for i,data in enumerate(data_loader):\n",
        "        # start=time.time()\n",
        "        optimEnc.zero_grad(),optimDec.zero_grad()\n",
        "        data=data.to(device)\n",
        "        mu,var=enc(data)\n",
        "        mid=gen_latent(mu,var)\n",
        "        out=dec(mid)\n",
        "        loss=loss_function(out,data,mu,var)\n",
        "        real_loss,recons_loss,KLDL=loss['loss'],loss['Reconstruction_Loss'],loss['KLD']\n",
        "        real_loss.backward()\n",
        "        optimEnc.step()\n",
        "        optimDec.step()\n",
        "        # if (i+1)%print_intvl==0:\n",
        "        #     print(\"[%d/%d] [%d] Loss: %.4f recons: %.4f KLD: %.4f Time elapsed: %.4f\"%(epoch+1,num_epochs,i+1,real_loss.item(),recons_loss.item(),KLDL.item(),time.time()-start))\n",
        "        running_loss+=real_loss.item()\n",
        "        running_reconst+=recons_loss.item()\n",
        "        running_kld+=KLDL.item()\n",
        "    losses.append(running_loss)\n",
        "    print(\"[%d/%d] [%d] Loss: %.4f recons: %.4f KLD: %.4f Time elapsed: %.4f\"%(epoch+1,num_epochs,i+1,running_loss/32,running_reconst/32,running_kld/32,time.time()-start))\n",
        "    # print(\"[%d/%d] Loss : %.4f Time elapsed : %.4f\"%(epoch+1,num_epochs,running_loss,time.time()-start))"
      ],
      "execution_count": 61,
      "outputs": [
        {
          "output_type": "stream",
          "text": [
            "[1/100] [1524] Loss: 29296.9592 recons: 20627.9049 KLD: -8669.0543 Time elapsed: 10.9089\n",
            "[2/100] [1524] Loss: 7381.1755 recons: 5527.2410 KLD: -1853.9345 Time elapsed: 10.4268\n",
            "[3/100] [1524] Loss: 6335.5315 recons: 5246.0600 KLD: -1089.4715 Time elapsed: 10.4993\n",
            "[4/100] [1524] Loss: 6025.2359 recons: 5200.4938 KLD: -824.7422 Time elapsed: 10.5681\n",
            "[5/100] [1524] Loss: 5884.5143 recons: 5185.6155 KLD: -698.8988 Time elapsed: 10.3946\n",
            "[6/100] [1524] Loss: 5799.9409 recons: 5169.9630 KLD: -629.9779 Time elapsed: 10.9138\n",
            "[7/100] [1524] Loss: 5761.9719 recons: 5173.9658 KLD: -588.0061 Time elapsed: 10.5859\n",
            "[8/100] [1524] Loss: 5710.7476 recons: 5150.9813 KLD: -559.7663 Time elapsed: 10.8849\n",
            "[9/100] [1524] Loss: 5696.6835 recons: 5153.0421 KLD: -543.6414 Time elapsed: 10.9801\n",
            "[10/100] [1524] Loss: 5636.4986 recons: 5107.2132 KLD: -529.2854 Time elapsed: 10.2220\n",
            "[11/100] [1524] Loss: 5601.0478 recons: 5083.9172 KLD: -517.1305 Time elapsed: 11.3052\n",
            "[12/100] [1524] Loss: 5566.0116 recons: 5059.7545 KLD: -506.2571 Time elapsed: 10.9969\n",
            "[13/100] [1524] Loss: 5543.3401 recons: 5044.8260 KLD: -498.5141 Time elapsed: 11.2364\n",
            "[14/100] [1524] Loss: 5513.9620 recons: 5023.4549 KLD: -490.5071 Time elapsed: 10.5767\n",
            "[15/100] [1524] Loss: 5486.0828 recons: 5000.1160 KLD: -485.9668 Time elapsed: 10.2406\n",
            "[16/100] [1524] Loss: 5436.8185 recons: 4956.0017 KLD: -480.8168 Time elapsed: 11.1364\n",
            "[17/100] [1524] Loss: 5423.0083 recons: 4947.8530 KLD: -475.1553 Time elapsed: 10.2668\n",
            "[18/100] [1524] Loss: 5378.7400 recons: 4906.7050 KLD: -472.0349 Time elapsed: 10.3979\n",
            "[19/100] [1524] Loss: 5345.9374 recons: 4877.9691 KLD: -467.9682 Time elapsed: 10.9931\n",
            "[20/100] [1524] Loss: 5319.6685 recons: 4853.6458 KLD: -466.0227 Time elapsed: 10.6213\n",
            "[21/100] [1524] Loss: 5293.8206 recons: 4830.0072 KLD: -463.8134 Time elapsed: 10.8990\n",
            "[22/100] [1524] Loss: 5251.4445 recons: 4790.0477 KLD: -461.3968 Time elapsed: 10.3678\n",
            "[23/100] [1524] Loss: 5211.7005 recons: 4753.4691 KLD: -458.2313 Time elapsed: 10.7158\n",
            "[24/100] [1524] Loss: 5182.5995 recons: 4726.5036 KLD: -456.0960 Time elapsed: 10.4263\n",
            "[25/100] [1524] Loss: 5142.8175 recons: 4687.5855 KLD: -455.2320 Time elapsed: 10.3950\n",
            "[26/100] [1524] Loss: 5110.5543 recons: 4658.2357 KLD: -452.3186 Time elapsed: 10.3854\n",
            "[27/100] [1524] Loss: 5076.6916 recons: 4627.5347 KLD: -449.1570 Time elapsed: 10.4354\n",
            "[28/100] [1524] Loss: 5048.3150 recons: 4600.5296 KLD: -447.7854 Time elapsed: 10.2099\n",
            "[29/100] [1524] Loss: 5014.9587 recons: 4568.4235 KLD: -446.5352 Time elapsed: 10.6180\n",
            "[30/100] [1524] Loss: 4982.0104 recons: 4537.8061 KLD: -444.2044 Time elapsed: 10.6536\n",
            "[31/100] [1524] Loss: 4943.4296 recons: 4501.2585 KLD: -442.1711 Time elapsed: 10.5824\n",
            "[32/100] [1524] Loss: 4933.5943 recons: 4493.5333 KLD: -440.0610 Time elapsed: 10.8852\n",
            "[33/100] [1524] Loss: 4907.7535 recons: 4468.5386 KLD: -439.2149 Time elapsed: 10.7745\n",
            "[34/100] [1524] Loss: 4868.2795 recons: 4430.7289 KLD: -437.5506 Time elapsed: 10.4530\n",
            "[35/100] [1524] Loss: 4852.8484 recons: 4418.0894 KLD: -434.7590 Time elapsed: 10.9139\n",
            "[36/100] [1524] Loss: 4814.6344 recons: 4380.4201 KLD: -434.2143 Time elapsed: 10.7891\n",
            "[37/100] [1524] Loss: 4811.6779 recons: 4379.1966 KLD: -432.4813 Time elapsed: 10.5482\n",
            "[38/100] [1524] Loss: 4777.2944 recons: 4345.0731 KLD: -432.2214 Time elapsed: 10.7043\n",
            "[39/100] [1524] Loss: 4757.5694 recons: 4327.1437 KLD: -430.4257 Time elapsed: 10.9769\n",
            "[40/100] [1524] Loss: 4733.9205 recons: 4304.3368 KLD: -429.5837 Time elapsed: 10.7220\n",
            "[41/100] [1524] Loss: 4716.7423 recons: 4287.6280 KLD: -429.1143 Time elapsed: 10.4541\n",
            "[42/100] [1524] Loss: 4697.4252 recons: 4268.9729 KLD: -428.4523 Time elapsed: 11.1042\n",
            "[43/100] [1524] Loss: 4668.4207 recons: 4241.4171 KLD: -427.0036 Time elapsed: 10.8242\n",
            "[44/100] [1524] Loss: 4678.7613 recons: 4253.6046 KLD: -425.1567 Time elapsed: 10.3908\n",
            "[45/100] [1524] Loss: 4647.3660 recons: 4221.8357 KLD: -425.5303 Time elapsed: 10.1304\n",
            "[46/100] [1524] Loss: 4619.8308 recons: 4195.4229 KLD: -424.4079 Time elapsed: 10.7091\n",
            "[47/100] [1524] Loss: 4605.6895 recons: 4181.9343 KLD: -423.7552 Time elapsed: 10.5337\n",
            "[48/100] [1524] Loss: 4602.6574 recons: 4179.4204 KLD: -423.2370 Time elapsed: 10.8743\n",
            "[49/100] [1524] Loss: 4591.9531 recons: 4169.1925 KLD: -422.7606 Time elapsed: 10.6523\n",
            "[50/100] [1524] Loss: 4569.7296 recons: 4147.3702 KLD: -422.3594 Time elapsed: 9.9692\n",
            "[51/100] [1524] Loss: 4532.7428 recons: 4111.0605 KLD: -421.6823 Time elapsed: 11.2889\n",
            "[52/100] [1524] Loss: 4530.0183 recons: 4109.0513 KLD: -420.9670 Time elapsed: 10.5365\n",
            "[53/100] [1524] Loss: 4530.1734 recons: 4109.7053 KLD: -420.4681 Time elapsed: 10.6461\n",
            "[54/100] [1524] Loss: 4508.4285 recons: 4087.9138 KLD: -420.5147 Time elapsed: 10.0830\n",
            "[55/100] [1524] Loss: 4485.5866 recons: 4065.0779 KLD: -420.5087 Time elapsed: 11.0050\n",
            "[56/100] [1524] Loss: 4488.4864 recons: 4069.7116 KLD: -418.7748 Time elapsed: 11.0301\n",
            "[57/100] [1524] Loss: 4485.6207 recons: 4065.7495 KLD: -419.8712 Time elapsed: 10.8129\n",
            "[58/100] [1524] Loss: 4466.2626 recons: 4047.4197 KLD: -418.8428 Time elapsed: 10.5421\n",
            "[59/100] [1524] Loss: 4428.8798 recons: 4010.8088 KLD: -418.0711 Time elapsed: 10.7267\n",
            "[60/100] [1524] Loss: 4425.5626 recons: 4007.1619 KLD: -418.4006 Time elapsed: 11.2675\n",
            "[61/100] [1524] Loss: 4435.7614 recons: 4017.3987 KLD: -418.3628 Time elapsed: 10.5550\n",
            "[62/100] [1524] Loss: 4409.0977 recons: 3991.6101 KLD: -417.4876 Time elapsed: 11.2494\n",
            "[63/100] [1524] Loss: 4392.5150 recons: 3976.1011 KLD: -416.4138 Time elapsed: 10.8308\n",
            "[64/100] [1524] Loss: 4387.5845 recons: 3972.1208 KLD: -415.4637 Time elapsed: 11.2416\n",
            "[65/100] [1524] Loss: 4394.2441 recons: 3978.1100 KLD: -416.1342 Time elapsed: 10.6763\n",
            "[66/100] [1524] Loss: 4367.5939 recons: 3950.9707 KLD: -416.6232 Time elapsed: 10.7221\n",
            "[67/100] [1524] Loss: 4354.0012 recons: 3938.2032 KLD: -415.7979 Time elapsed: 10.1909\n",
            "[68/100] [1524] Loss: 4364.6489 recons: 3949.8003 KLD: -414.8486 Time elapsed: 11.2122\n",
            "[69/100] [1524] Loss: 4357.7253 recons: 3942.4690 KLD: -415.2563 Time elapsed: 10.8783\n",
            "[70/100] [1524] Loss: 4318.3112 recons: 3903.5124 KLD: -414.7987 Time elapsed: 11.1494\n",
            "[71/100] [1524] Loss: 4326.4581 recons: 3911.6373 KLD: -414.8208 Time elapsed: 11.1253\n",
            "[72/100] [1524] Loss: 4306.0132 recons: 3892.3207 KLD: -413.6925 Time elapsed: 11.5963\n",
            "[73/100] [1524] Loss: 4318.8306 recons: 3904.0897 KLD: -414.7410 Time elapsed: 11.0254\n",
            "[74/100] [1524] Loss: 4300.9299 recons: 3886.3553 KLD: -414.5746 Time elapsed: 11.2688\n",
            "[75/100] [1524] Loss: 4280.7809 recons: 3868.0295 KLD: -412.7514 Time elapsed: 11.0487\n",
            "[76/100] [1524] Loss: 4273.8561 recons: 3862.0553 KLD: -411.8009 Time elapsed: 10.3848\n",
            "[77/100] [1524] Loss: 4287.0714 recons: 3874.9304 KLD: -412.1411 Time elapsed: 11.0032\n",
            "[78/100] [1524] Loss: 4261.8218 recons: 3849.9165 KLD: -411.9053 Time elapsed: 11.3048\n",
            "[79/100] [1524] Loss: 4238.4354 recons: 3827.8676 KLD: -410.5679 Time elapsed: 11.2995\n",
            "[80/100] [1524] Loss: 4244.4347 recons: 3833.7842 KLD: -410.6505 Time elapsed: 10.9150\n",
            "[81/100] [1524] Loss: 4255.8289 recons: 3845.1964 KLD: -410.6324 Time elapsed: 10.6550\n",
            "[82/100] [1524] Loss: 4227.0091 recons: 3817.0530 KLD: -409.9561 Time elapsed: 10.7815\n",
            "[83/100] [1524] Loss: 4215.5632 recons: 3806.5470 KLD: -409.0162 Time elapsed: 10.8531\n",
            "[84/100] [1524] Loss: 4230.3475 recons: 3820.8039 KLD: -409.5436 Time elapsed: 10.5103\n",
            "[85/100] [1524] Loss: 4229.5911 recons: 3820.8119 KLD: -408.7792 Time elapsed: 11.0529\n",
            "[86/100] [1524] Loss: 4197.1600 recons: 3787.8397 KLD: -409.3203 Time elapsed: 11.1646\n",
            "[87/100] [1524] Loss: 4181.3700 recons: 3772.9874 KLD: -408.3826 Time elapsed: 10.4309\n",
            "[88/100] [1524] Loss: 4201.8559 recons: 3793.3241 KLD: -408.5319 Time elapsed: 11.1144\n",
            "[89/100] [1524] Loss: 4216.5349 recons: 3808.4753 KLD: -408.0596 Time elapsed: 10.2218\n",
            "[90/100] [1524] Loss: 4182.8361 recons: 3773.8954 KLD: -408.9407 Time elapsed: 10.4560\n",
            "[91/100] [1524] Loss: 4166.5377 recons: 3760.2705 KLD: -406.2672 Time elapsed: 10.3972\n",
            "[92/100] [1524] Loss: 4171.4490 recons: 3764.8962 KLD: -406.5529 Time elapsed: 11.1431\n",
            "[93/100] [1524] Loss: 4177.4528 recons: 3770.0716 KLD: -407.3812 Time elapsed: 11.2341\n",
            "[94/100] [1524] Loss: 4170.9377 recons: 3764.1515 KLD: -406.7861 Time elapsed: 11.1400\n",
            "[95/100] [1524] Loss: 4141.9600 recons: 3735.7187 KLD: -406.2414 Time elapsed: 11.1426\n",
            "[96/100] [1524] Loss: 4163.1199 recons: 3757.7740 KLD: -405.3459 Time elapsed: 10.6702\n",
            "[97/100] [1524] Loss: 4159.6189 recons: 3751.6895 KLD: -407.9293 Time elapsed: 10.7577\n",
            "[98/100] [1524] Loss: 4140.8583 recons: 3734.5464 KLD: -406.3119 Time elapsed: 11.1376\n",
            "[99/100] [1524] Loss: 4132.4904 recons: 3726.6462 KLD: -405.8443 Time elapsed: 11.4149\n",
            "[100/100] [1524] Loss: 4130.7291 recons: 3725.5578 KLD: -405.1713 Time elapsed: 10.6819\n"
          ],
          "name": "stdout"
        }
      ]
    },
    {
      "cell_type": "code",
      "metadata": {
        "id": "CIpL4fZHEeoT",
        "colab_type": "code",
        "colab": {
          "base_uri": "https://localhost:8080/",
          "height": 265
        },
        "outputId": "7fc95a96-3fe8-41c9-f1cd-53d038857d7f"
      },
      "source": [
        "plt.plot(losses,label='net loss')\n",
        "plt.legend()\n",
        "plt.show()"
      ],
      "execution_count": 62,
      "outputs": [
        {
          "output_type": "display_data",
          "data": {
            "image/png": "[encoded data removed]",
            "text/plain": [
              "<Figure size 432x288 with 1 Axes>"
            ]
          },
          "metadata": {
            "tags": [],
            "needs_background": "light"
          }
        }
      ]
    },
    {
      "cell_type": "code",
      "metadata": {
        "id": "YgR8Cl0aEgzv",
        "colab_type": "code",
        "colab": {}
      },
      "source": [
        "from google.colab import files\n",
        "\n",
        "torch.save(enc.state_dict(),'encoder.pth')\n",
        "torch.save(dec.state_dict(),'decoder.pth')"
      ],
      "execution_count": 63,
      "outputs": []
    },
    {
      "cell_type": "code",
      "metadata": {
        "id": "r6zhqPp767Ns",
        "colab_type": "code",
        "colab": {
          "base_uri": "https://localhost:8080/",
          "height": 324
        },
        "outputId": "d5fd96c2-ddce-4a88-f2e8-bccef4960587"
      },
      "source": [
        "files.download('encoder.pth')\n",
        "files.download('decoder.pth')"
      ],
      "execution_count": 64,
      "outputs": [
        {
          "output_type": "error",
          "ename": "MessageError",
          "evalue": "ignored",
          "traceback": [
            "\u001b[0;31m---------------------------------------------------------------------------\u001b[0m",
            "\u001b[0;31mMessageError\u001b[0m                              Traceback (most recent call last)",
            "\u001b[0;32m<ipython-input-64-ba7ef3129fc6>\u001b[0m in \u001b[0;36m<module>\u001b[0;34m()\u001b[0m\n\u001b[0;32m----> 1\u001b[0;31m \u001b[0mfiles\u001b[0m\u001b[0;34m.\u001b[0m\u001b[0mdownload\u001b[0m\u001b[0;34m(\u001b[0m\u001b[0;34m'encoder.pth'\u001b[0m\u001b[0;34m)\u001b[0m\u001b[0;34m\u001b[0m\u001b[0;34m\u001b[0m\u001b[0m\n\u001b[0m\u001b[1;32m      2\u001b[0m \u001b[0mfiles\u001b[0m\u001b[0;34m.\u001b[0m\u001b[0mdownload\u001b[0m\u001b[0;34m(\u001b[0m\u001b[0;34m'decoder.pth'\u001b[0m\u001b[0;34m)\u001b[0m\u001b[0;34m\u001b[0m\u001b[0;34m\u001b[0m\u001b[0m\n",
            "\u001b[0;32m/usr/local/lib/python3.6/dist-packages/google/colab/files.py\u001b[0m in \u001b[0;36mdownload\u001b[0;34m(filename)\u001b[0m\n\u001b[1;32m    185\u001b[0m       \u001b[0;34m'port'\u001b[0m\u001b[0;34m:\u001b[0m \u001b[0mport\u001b[0m\u001b[0;34m,\u001b[0m\u001b[0;34m\u001b[0m\u001b[0;34m\u001b[0m\u001b[0m\n\u001b[1;32m    186\u001b[0m       \u001b[0;34m'path'\u001b[0m\u001b[0;34m:\u001b[0m \u001b[0m_os\u001b[0m\u001b[0;34m.\u001b[0m\u001b[0mpath\u001b[0m\u001b[0;34m.\u001b[0m\u001b[0mabspath\u001b[0m\u001b[0;34m(\u001b[0m\u001b[0mfilename\u001b[0m\u001b[0;34m)\u001b[0m\u001b[0;34m,\u001b[0m\u001b[0;34m\u001b[0m\u001b[0;34m\u001b[0m\u001b[0m\n\u001b[0;32m--> 187\u001b[0;31m       \u001b[0;34m'name'\u001b[0m\u001b[0;34m:\u001b[0m \u001b[0m_os\u001b[0m\u001b[0;34m.\u001b[0m\u001b[0mpath\u001b[0m\u001b[0;34m.\u001b[0m\u001b[0mbasename\u001b[0m\u001b[0;34m(\u001b[0m\u001b[0mfilename\u001b[0m\u001b[0;34m)\u001b[0m\u001b[0;34m,\u001b[0m\u001b[0;34m\u001b[0m\u001b[0;34m\u001b[0m\u001b[0m\n\u001b[0m\u001b[1;32m    188\u001b[0m   })\n\u001b[1;32m    189\u001b[0m \u001b[0;34m\u001b[0m\u001b[0m\n",
            "\u001b[0;32m/usr/local/lib/python3.6/dist-packages/google/colab/output/_js.py\u001b[0m in \u001b[0;36meval_js\u001b[0;34m(script, ignore_result)\u001b[0m\n\u001b[1;32m     37\u001b[0m   \u001b[0;32mif\u001b[0m \u001b[0mignore_result\u001b[0m\u001b[0;34m:\u001b[0m\u001b[0;34m\u001b[0m\u001b[0;34m\u001b[0m\u001b[0m\n\u001b[1;32m     38\u001b[0m     \u001b[0;32mreturn\u001b[0m\u001b[0;34m\u001b[0m\u001b[0;34m\u001b[0m\u001b[0m\n\u001b[0;32m---> 39\u001b[0;31m   \u001b[0;32mreturn\u001b[0m \u001b[0m_message\u001b[0m\u001b[0;34m.\u001b[0m\u001b[0mread_reply_from_input\u001b[0m\u001b[0;34m(\u001b[0m\u001b[0mrequest_id\u001b[0m\u001b[0;34m)\u001b[0m\u001b[0;34m\u001b[0m\u001b[0;34m\u001b[0m\u001b[0m\n\u001b[0m\u001b[1;32m     40\u001b[0m \u001b[0;34m\u001b[0m\u001b[0m\n\u001b[1;32m     41\u001b[0m \u001b[0;34m\u001b[0m\u001b[0m\n",
            "\u001b[0;32m/usr/local/lib/python3.6/dist-packages/google/colab/_message.py\u001b[0m in \u001b[0;36mread_reply_from_input\u001b[0;34m(message_id, timeout_sec)\u001b[0m\n\u001b[1;32m    104\u001b[0m         reply.get('colab_msg_id') == message_id):\n\u001b[1;32m    105\u001b[0m       \u001b[0;32mif\u001b[0m \u001b[0;34m'error'\u001b[0m \u001b[0;32min\u001b[0m \u001b[0mreply\u001b[0m\u001b[0;34m:\u001b[0m\u001b[0;34m\u001b[0m\u001b[0;34m\u001b[0m\u001b[0m\n\u001b[0;32m--> 106\u001b[0;31m         \u001b[0;32mraise\u001b[0m \u001b[0mMessageError\u001b[0m\u001b[0;34m(\u001b[0m\u001b[0mreply\u001b[0m\u001b[0;34m[\u001b[0m\u001b[0;34m'error'\u001b[0m\u001b[0;34m]\u001b[0m\u001b[0;34m)\u001b[0m\u001b[0;34m\u001b[0m\u001b[0;34m\u001b[0m\u001b[0m\n\u001b[0m\u001b[1;32m    107\u001b[0m       \u001b[0;32mreturn\u001b[0m \u001b[0mreply\u001b[0m\u001b[0;34m.\u001b[0m\u001b[0mget\u001b[0m\u001b[0;34m(\u001b[0m\u001b[0;34m'data'\u001b[0m\u001b[0;34m,\u001b[0m \u001b[0;32mNone\u001b[0m\u001b[0;34m)\u001b[0m\u001b[0;34m\u001b[0m\u001b[0;34m\u001b[0m\u001b[0m\n\u001b[1;32m    108\u001b[0m \u001b[0;34m\u001b[0m\u001b[0m\n",
            "\u001b[0;31mMessageError\u001b[0m: TypeError: Failed to fetch"
          ]
        }
      ]
    },
    {
      "cell_type": "code",
      "metadata": {
        "id": "ZV5aSgSTZAqd",
        "colab_type": "code",
        "colab": {
          "base_uri": "https://localhost:8080/",
          "height": 561
        },
        "outputId": "7aa3f674-2b99-4cc9-9eed-7a5d654cd27c"
      },
      "source": [
        "!wget https://github.com/SomTambe/omniglot-bcs/raw/master/weights/decoder.pth\n",
        "!wget https://github.com/SomTambe/omniglot-bcs/raw/master/weights/encoder.pth"
      ],
      "execution_count": 22,
      "outputs": [
        {
          "output_type": "stream",
          "text": [
            "--2020-06-20 06:32:00--  https://github.com/SomTambe/omniglot-bcs/raw/master/weights/decoder.pth\n",
            "Resolving github.com (github.com)... 140.82.113.3\n",
            "Connecting to github.com (github.com)|140.82.113.3|:443... connected.\n",
            "HTTP request sent, awaiting response... 302 Found\n",
            "Location: https://raw.githubusercontent.com/SomTambe/omniglot-bcs/master/weights/decoder.pth [following]\n",
            "--2020-06-20 06:32:01--  https://raw.githubusercontent.com/SomTambe/omniglot-bcs/master/weights/decoder.pth\n",
            "Resolving raw.githubusercontent.com (raw.githubusercontent.com)... 151.101.0.133, 151.101.64.133, 151.101.128.133, ...\n",
            "Connecting to raw.githubusercontent.com (raw.githubusercontent.com)|151.101.0.133|:443... connected.\n",
            "HTTP request sent, awaiting response... 200 OK\n",
            "Length: 7563 (7.4K) [application/octet-stream]\n",
            "Saving to: ‘decoder.pth’\n",
            "\n",
            "decoder.pth         100%[===================>]   7.39K  --.-KB/s    in 0s      \n",
            "\n",
            "2020-06-20 06:32:02 (70.4 MB/s) - ‘decoder.pth’ saved [7563/7563]\n",
            "\n",
            "--2020-06-20 06:32:03--  https://github.com/SomTambe/omniglot-bcs/raw/master/weights/encoder.pth\n",
            "Resolving github.com (github.com)... 140.82.113.3\n",
            "Connecting to github.com (github.com)|140.82.113.3|:443... connected.\n",
            "HTTP request sent, awaiting response... 302 Found\n",
            "Location: https://raw.githubusercontent.com/SomTambe/omniglot-bcs/master/weights/encoder.pth [following]\n",
            "--2020-06-20 06:32:04--  https://raw.githubusercontent.com/SomTambe/omniglot-bcs/master/weights/encoder.pth\n",
            "Resolving raw.githubusercontent.com (raw.githubusercontent.com)... 151.101.0.133, 151.101.64.133, 151.101.128.133, ...\n",
            "Connecting to raw.githubusercontent.com (raw.githubusercontent.com)|151.101.0.133|:443... connected.\n",
            "HTTP request sent, awaiting response... 200 OK\n",
            "Length: 7988 (7.8K) [application/octet-stream]\n",
            "Saving to: ‘encoder.pth’\n",
            "\n",
            "encoder.pth         100%[===================>]   7.80K  --.-KB/s    in 0s      \n",
            "\n",
            "2020-06-20 06:32:05 (65.5 MB/s) - ‘encoder.pth’ saved [7988/7988]\n",
            "\n"
          ],
          "name": "stdout"
        }
      ]
    },
    {
      "cell_type": "code",
      "metadata": {
        "id": "w2so16DwYCO9",
        "colab_type": "code",
        "colab": {
          "base_uri": "https://localhost:8080/",
          "height": 34
        },
        "outputId": "c048706f-58d7-484c-a575-4540a388330d"
      },
      "source": [
        "enc.load_state_dict(torch.load('encoder.pth'))\n",
        "dec.load_state_dict(torch.load('decoder.pth'))"
      ],
      "execution_count": 23,
      "outputs": [
        {
          "output_type": "execute_result",
          "data": {
            "text/plain": [
              "<All keys matched successfully>"
            ]
          },
          "metadata": {
            "tags": []
          },
          "execution_count": 23
        }
      ]
    },
    {
      "cell_type": "code",
      "metadata": {
        "id": "2PE7QbnPbUi8",
        "colab_type": "code",
        "colab": {}
      },
      "source": [
        "def eval_char(chr):\n",
        "    \"\"\"\n",
        "    Function to show decoded character to see how the encoder has been trained.\n",
        "\n",
        "    Args:\n",
        "        chr (numpy array): Character to be evaluated.\n",
        "    \"\"\"\n",
        "    # spline_prims['Grantha'][1][3][0]\n",
        "    pred=[]\n",
        "    enc.eval()\n",
        "    dec.eval()\n",
        "    for prim in chr :\n",
        "        prim=torch.tensor(prim).to(device).reshape(-1).unsqueeze(0).float()\n",
        "        mu,var=enc(prim)\n",
        "        mid=gen_latent(mu,var)\n",
        "        out=dec(mid).squeeze().reshape(25,2) # generated primitive\n",
        "        pred.append(out.detach().cpu().numpy())\n",
        "\n",
        "    return splines.plot_char(pred)"
      ],
      "execution_count": 65,
      "outputs": []
    },
    {
      "cell_type": "code",
      "metadata": {
        "id": "iW4xFF8CbUTs",
        "colab_type": "code",
        "colab": {
          "base_uri": "https://localhost:8080/",
          "height": 547
        },
        "outputId": "076e1e21-66b8-4330-9c36-c3d94a1a16ed"
      },
      "source": [
        "CHAR=spline_prims['Sanskrit'][1][3][0]\n",
        "print(\"Decoded\")\n",
        "eval_char(CHAR)\n",
        "print(\"original\")\n",
        "splines.plot_char(CHAR)"
      ],
      "execution_count": 69,
      "outputs": [
        {
          "output_type": "stream",
          "text": [
            "Decoded\n"
          ],
          "name": "stdout"
        },
        {
          "output_type": "display_data",
          "data": {
            "image/png": "[encoded data removed]",
            "text/plain": [
              "<Figure size 432x288 with 1 Axes>"
            ]
          },
          "metadata": {
            "tags": [],
            "needs_background": "light"
          }
        },
        {
          "output_type": "stream",
          "text": [
            "original\n"
          ],
          "name": "stdout"
        },
        {
          "output_type": "display_data",
          "data": {
            "image/png": "[encoded data removed]",
            "text/plain": [
              "<Figure size 432x288 with 1 Axes>"
            ]
          },
          "metadata": {
            "tags": [],
            "needs_background": "light"
          }
        }
      ]
    },
    {
      "cell_type": "code",
      "metadata": {
        "id": "jg8-3D8Dzt_c",
        "colab_type": "code",
        "colab": {}
      },
      "source": [
        "# # Comment out the .reshape(-1) part in the dataset class to test out this portion.\n",
        "# # Randomly plotting strokes to see whether they are different.\n",
        "# samp=[]\n",
        "# for c,dat in enumerate(data_loader):\n",
        "#     samp.append(dat)\n",
        "#     if c>5 :\n",
        "#         break\n",
        "# for _,c in enumerate(samp):\n",
        "# #     print(c.squeeze().detach().cpu().numpy().shape)\n",
        "#     plt.plot(c.squeeze().detach().cpu().numpy()[:,0],c.squeeze().detach().cpu().numpy()[:,1],'')\n",
        "# plt.axis('square')\n",
        "# plt.show()\n",
        "# # Just to make sure there is no problem with loading spline data"
      ],
      "execution_count": null,
      "outputs": []
    }
  ]
}