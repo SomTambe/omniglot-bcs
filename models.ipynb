{
  "nbformat": 4,
  "nbformat_minor": 0,
  "metadata": {
    "kernelspec": {
      "display_name": "Python 3",
      "language": "python",
      "name": "python3"
    },
    "language_info": {
      "codemirror_mode": {
        "name": "ipython",
        "version": 3
      },
      "file_extension": ".py",
      "mimetype": "text/x-python",
      "name": "python",
      "nbconvert_exporter": "python",
      "pygments_lexer": "ipython3",
      "version": "3.7.4"
    },
    "colab": {
      "name": "models.ipynb",
      "provenance": [],
      "collapsed_sections": [],
      "include_colab_link": true
    },
    "accelerator": "GPU"
  },
  "cells": [
    {
      "cell_type": "markdown",
      "metadata": {
        "id": "view-in-github",
        "colab_type": "text"
      },
      "source": [
        "<a href=\"https://colab.research.google.com/github/SomTambe/omniglot-bcs/blob/master/models.ipynb\" target=\"_parent\"><img src=\"https://colab.research.google.com/assets/colab-badge.svg\" alt=\"Open In Colab\"/></a>"
      ]
    },
    {
      "cell_type": "code",
      "metadata": {
        "id": "m1_q8UST1uQj",
        "colab_type": "code",
        "colab": {
          "base_uri": "https://localhost:8080/",
          "height": 561
        },
        "outputId": "f22b1d1d-5d23-44f9-a4df-9dc760419682"
      },
      "source": [
        "!wget https://github.com/SomTambe/omniglot-bcs/raw/master/data_background.mat\n",
        "!wget https://github.com/SomTambe/omniglot-bcs/raw/master/splines.py"
      ],
      "execution_count": 1,
      "outputs": [
        {
          "output_type": "stream",
          "text": [
            "--2020-06-25 06:17:11--  https://github.com/SomTambe/omniglot-bcs/raw/master/data_background.mat\n",
            "Resolving github.com (github.com)... 140.82.112.3\n",
            "Connecting to github.com (github.com)|140.82.112.3|:443... connected.\n",
            "HTTP request sent, awaiting response... 302 Found\n",
            "Location: https://raw.githubusercontent.com/SomTambe/omniglot-bcs/master/data_background.mat [following]\n",
            "--2020-06-25 06:17:12--  https://raw.githubusercontent.com/SomTambe/omniglot-bcs/master/data_background.mat\n",
            "Resolving raw.githubusercontent.com (raw.githubusercontent.com)... 151.101.0.133, 151.101.64.133, 151.101.128.133, ...\n",
            "Connecting to raw.githubusercontent.com (raw.githubusercontent.com)|151.101.0.133|:443... connected.\n",
            "HTTP request sent, awaiting response... 200 OK\n",
            "Length: 21514095 (21M) [application/octet-stream]\n",
            "Saving to: ‘data_background.mat’\n",
            "\n",
            "data_background.mat 100%[===================>]  20.52M  31.0MB/s    in 0.7s    \n",
            "\n",
            "2020-06-25 06:17:15 (31.0 MB/s) - ‘data_background.mat’ saved [21514095/21514095]\n",
            "\n",
            "--2020-06-25 06:17:19--  https://github.com/SomTambe/omniglot-bcs/raw/master/splines.py\n",
            "Resolving github.com (github.com)... 140.82.112.4\n",
            "Connecting to github.com (github.com)|140.82.112.4|:443... connected.\n",
            "HTTP request sent, awaiting response... 302 Found\n",
            "Location: https://raw.githubusercontent.com/SomTambe/omniglot-bcs/master/splines.py [following]\n",
            "--2020-06-25 06:17:20--  https://raw.githubusercontent.com/SomTambe/omniglot-bcs/master/splines.py\n",
            "Resolving raw.githubusercontent.com (raw.githubusercontent.com)... 151.101.0.133, 151.101.64.133, 151.101.128.133, ...\n",
            "Connecting to raw.githubusercontent.com (raw.githubusercontent.com)|151.101.0.133|:443... connected.\n",
            "HTTP request sent, awaiting response... 200 OK\n",
            "Length: 4642 (4.5K) [text/plain]\n",
            "Saving to: ‘splines.py’\n",
            "\n",
            "splines.py          100%[===================>]   4.53K  --.-KB/s    in 0s      \n",
            "\n",
            "2020-06-25 06:17:20 (12.4 MB/s) - ‘splines.py’ saved [4642/4642]\n",
            "\n"
          ],
          "name": "stdout"
        }
      ]
    },
    {
      "cell_type": "code",
      "metadata": {
        "id": "OatfZxunzt-J",
        "colab_type": "code",
        "colab": {
          "base_uri": "https://localhost:8080/",
          "height": 357
        },
        "outputId": "a487931a-5180-44fa-8686-bb33585c6517"
      },
      "source": [
        "import splines\n",
        "import torch\n",
        "import glob\n",
        "import torchvision\n",
        "import numpy as np\n",
        "import torch.nn as nn\n",
        "import torch.nn.functional as F\n",
        "import torch.optim as optim\n",
        "import matplotlib.pyplot as plt\n",
        "import torchvision.transforms as transforms\n",
        "from torchsummary import summary\n",
        "import scipy\n",
        "!nvidia-smi"
      ],
      "execution_count": 2,
      "outputs": [
        {
          "output_type": "stream",
          "text": [
            "Thu Jun 25 06:17:27 2020       \n",
            "+-----------------------------------------------------------------------------+\n",
            "| NVIDIA-SMI 450.36.06    Driver Version: 418.67       CUDA Version: 10.1     |\n",
            "|-------------------------------+----------------------+----------------------+\n",
            "| GPU  Name        Persistence-M| Bus-Id        Disp.A | Volatile Uncorr. ECC |\n",
            "| Fan  Temp  Perf  Pwr:Usage/Cap|         Memory-Usage | GPU-Util  Compute M. |\n",
            "|                               |                      |               MIG M. |\n",
            "|===============================+======================+======================|\n",
            "|   0  Tesla K80           Off  | 00000000:00:04.0 Off |                    0 |\n",
            "| N/A   34C    P8    27W / 149W |      0MiB / 11441MiB |      0%      Default |\n",
            "|                               |                      |                 ERR! |\n",
            "+-------------------------------+----------------------+----------------------+\n",
            "                                                                               \n",
            "+-----------------------------------------------------------------------------+\n",
            "| Processes:                                                                  |\n",
            "|  GPU   GI   CI        PID   Type   Process name                  GPU Memory |\n",
            "|        ID   ID                                                   Usage      |\n",
            "|=============================================================================|\n",
            "|  No running processes found                                                 |\n",
            "+-----------------------------------------------------------------------------+\n"
          ],
          "name": "stdout"
        }
      ]
    },
    {
      "cell_type": "code",
      "metadata": {
        "id": "Y_E30pGxzt-R",
        "colab_type": "code",
        "colab": {}
      },
      "source": [
        "back_dict=splines.mat_to_dict()"
      ],
      "execution_count": 3,
      "outputs": []
    },
    {
      "cell_type": "code",
      "metadata": {
        "id": "-aKIvY0ozt-V",
        "colab_type": "code",
        "colab": {}
      },
      "source": [
        "spline_prims=splines.spline_dict(back_dict)\n",
        "images=splines.dict_images()"
      ],
      "execution_count": 4,
      "outputs": []
    },
    {
      "cell_type": "code",
      "metadata": {
        "id": "yFBknVQBzt-e",
        "colab_type": "code",
        "colab": {
          "base_uri": "https://localhost:8080/",
          "height": 34
        },
        "outputId": "096f5cd6-043a-4186-fd3b-5a0d799becbf"
      },
      "source": [
        "len(spline_prims) # Since languages are 30, should be equal to 30"
      ],
      "execution_count": 5,
      "outputs": [
        {
          "output_type": "execute_result",
          "data": {
            "text/plain": [
              "30"
            ]
          },
          "metadata": {
            "tags": []
          },
          "execution_count": 5
        }
      ]
    },
    {
      "cell_type": "code",
      "metadata": {
        "id": "g7otzLIGzt-j",
        "colab_type": "code",
        "colab": {
          "base_uri": "https://localhost:8080/",
          "height": 265
        },
        "outputId": "892fcda5-e48a-4a7b-c6f3-32a4008810ed"
      },
      "source": [
        "# Let us try to plot a character. Taking an example for a very weird character.\n",
        "# I found one in the Grantha alphabet. Let us see how its 25-point spline representation looks.\n",
        "\n",
        "splines.plot_char(spline_prims['Grantha'][1][3][0])\n",
        "# Note that different colors denote different stokes."
      ],
      "execution_count": 6,
      "outputs": [
        {
          "output_type": "display_data",
          "data": {
            "image/png": "[encoded data removed]",
            "text/plain": [
              "<Figure size 432x288 with 1 Axes>"
            ]
          },
          "metadata": {
            "tags": [],
            "needs_background": "light"
          }
        }
      ]
    },
    {
      "cell_type": "code",
      "metadata": {
        "id": "DQPo3dU720bf",
        "colab_type": "code",
        "colab": {
          "base_uri": "https://localhost:8080/",
          "height": 102
        },
        "outputId": "d8ef7229-2e86-4b82-d1aa-9c5a6f6f9da4"
      },
      "source": [
        "np.ones((5,4))-99"
      ],
      "execution_count": 7,
      "outputs": [
        {
          "output_type": "execute_result",
          "data": {
            "text/plain": [
              "array([[-98., -98., -98., -98.],\n",
              "       [-98., -98., -98., -98.],\n",
              "       [-98., -98., -98., -98.],\n",
              "       [-98., -98., -98., -98.],\n",
              "       [-98., -98., -98., -98.]])"
            ]
          },
          "metadata": {
            "tags": []
          },
          "execution_count": 7
        }
      ]
    },
    {
      "cell_type": "code",
      "metadata": {
        "id": "UawguxT3z4zm",
        "colab_type": "code",
        "colab": {
          "base_uri": "https://localhost:8080/",
          "height": 282
        },
        "outputId": "374fa94f-0a7f-41e7-92ff-50b9c9ce2f41"
      },
      "source": [
        "arr=spline_prims['Grantha'][1][3][0][1]\n",
        "plt.plot(arr[:,0],arr[:,1])\n",
        "mu_x=np.mean(arr[:,[0]])\n",
        "mu_y=np.mean(arr[:,[1]])\n",
        "std_x=np.std(arr[:,[0]])\n",
        "std_y=np.std(arr[:,[1]])\n",
        "print(type(std_x),std_x)\n",
        "copy=np.concatenate((((arr[:,0]-mu_x)/std_x).reshape(25,1),((arr[:,1]-mu_y)/std_y).reshape(25,1)),axis=1)\n",
        "# copy2=arr-np.array([mu_x,mu_y]) # same as copy, very interesting still don't understand why.\n",
        "plt.plot(copy[:,0],copy[:,1])\n",
        "plt.show()"
      ],
      "execution_count": 8,
      "outputs": [
        {
          "output_type": "stream",
          "text": [
            "<class 'numpy.float64'> 14.059844248375477\n"
          ],
          "name": "stdout"
        },
        {
          "output_type": "display_data",
          "data": {
            "image/png": "[encoded data removed]",
            "text/plain": [
              "<Figure size 432x288 with 1 Axes>"
            ]
          },
          "metadata": {
            "tags": [],
            "needs_background": "light"
          }
        }
      ]
    },
    {
      "cell_type": "code",
      "metadata": {
        "id": "KL2bXo9lzt-n",
        "colab_type": "code",
        "colab": {}
      },
      "source": [
        "# Our task now remains to train a variational autoencoder on a 2 - unit output for the above."
      ],
      "execution_count": 9,
      "outputs": []
    },
    {
      "cell_type": "code",
      "metadata": {
        "id": "XZnCoTF2zt-s",
        "colab_type": "code",
        "colab": {}
      },
      "source": [
        "class encoder(nn.Module):\n",
        "    def __init__(self,latent_dim):\n",
        "        super().__init__()\n",
        "        self.latent_dim=latent_dim\n",
        "        self.encode=nn.Sequential(\n",
        "            nn.Linear(50,1000),\n",
        "            nn.ReLU(True),\n",
        "            nn.Linear(1000,1000),\n",
        "            nn.ReLU(True),\n",
        "            nn.Linear(1000,2*self.latent_dim),\n",
        "        )\n",
        "        self.mu=nn.Linear(2*self.latent_dim,self.latent_dim)\n",
        "        self.var=nn.Linear(2*self.latent_dim,self.latent_dim)\n",
        "        \n",
        "    def forward(self,x):\n",
        "        x=self.encode(x)\n",
        "        return [self.mu(x),self.var(x)]"
      ],
      "execution_count": 10,
      "outputs": []
    },
    {
      "cell_type": "code",
      "metadata": {
        "id": "YqMwObtBzt-0",
        "colab_type": "code",
        "colab": {}
      },
      "source": [
        "class decoder(nn.Module):\n",
        "    def __init__(self,latent_dim):\n",
        "        super().__init__()\n",
        "        self.latent_dim=latent_dim\n",
        "        self.decode=nn.Sequential(\n",
        "            nn.Linear(self.latent_dim,1000),\n",
        "            nn.ReLU(),\n",
        "            nn.Linear(1000,1000),\n",
        "            nn.ReLU(),\n",
        "            nn.Linear(1000,50),\n",
        "        )\n",
        "        \n",
        "    def forward(self,x):\n",
        "        return self.decode(x)"
      ],
      "execution_count": 11,
      "outputs": []
    },
    {
      "cell_type": "code",
      "metadata": {
        "id": "hE8mBXgpzt-3",
        "colab_type": "code",
        "colab": {
          "base_uri": "https://localhost:8080/",
          "height": 34
        },
        "outputId": "c101fed2-0ce3-424e-d926-c6c55d06a6a4"
      },
      "source": [
        "device=\"cuda:0\" if torch.cuda.is_available() else \"cpu\"\n",
        "device"
      ],
      "execution_count": 12,
      "outputs": [
        {
          "output_type": "execute_result",
          "data": {
            "text/plain": [
              "'cuda:0'"
            ]
          },
          "metadata": {
            "tags": []
          },
          "execution_count": 12
        }
      ]
    },
    {
      "cell_type": "code",
      "metadata": {
        "id": "5Mw1_jyEzt_A",
        "colab_type": "code",
        "colab": {}
      },
      "source": [
        "# glob.glob('./**/*.png',recursive=True)\n",
        "# Will store all filenames of background set images"
      ],
      "execution_count": 13,
      "outputs": []
    },
    {
      "cell_type": "code",
      "metadata": {
        "id": "Nw7zV2mczt_C",
        "colab_type": "code",
        "colab": {
          "base_uri": "https://localhost:8080/",
          "height": 34
        },
        "outputId": "fed7cf15-bd90-436e-acda-4df7c5294462"
      },
      "source": [
        "count=0\n",
        "for lang in spline_prims :\n",
        "        # spline_prims[lang][char][inst][0][primitive]\n",
        "        for i,char in enumerate(spline_prims[lang]) :\n",
        "            # char = characters of lang\n",
        "            for j,inst in enumerate(char) :\n",
        "                # inst = character instance\n",
        "                for k,primitive in enumerate(inst[0]):\n",
        "                    count+=1\n",
        "print('number of total strokes :',count)"
      ],
      "execution_count": 14,
      "outputs": [
        {
          "output_type": "stream",
          "text": [
            "number of total strokes : 48762\n"
          ],
          "name": "stdout"
        }
      ]
    },
    {
      "cell_type": "code",
      "metadata": {
        "id": "6cW5k4Rvzt_N",
        "colab_type": "code",
        "colab": {
          "base_uri": "https://localhost:8080/",
          "height": 533
        },
        "outputId": "929bd62e-4edc-4fe3-81e5-c4d08e6b2b61"
      },
      "source": [
        "# images[lang][character][0]['image'][instance][0] -> (105,105) numpy ndarray\n",
        "# Plotting the same characters, real image vs. the strokes.\n",
        "img=images['Grantha'][1][0]['image'][3][0]\n",
        "plt.imshow(img)\n",
        "plt.show()\n",
        "splines.plot_char(spline_prims['Grantha'][1][3][0])\n",
        "print(\"Success !\")"
      ],
      "execution_count": 15,
      "outputs": [
        {
          "output_type": "display_data",
          "data": {
            "image/png": "[encoded data removed]",
            "text/plain": [
              "<Figure size 432x288 with 1 Axes>"
            ]
          },
          "metadata": {
            "tags": [],
            "needs_background": "light"
          }
        },
        {
          "output_type": "display_data",
          "data": {
            "image/png": "[encoded data removed]",
            "text/plain": [
              "<Figure size 432x288 with 1 Axes>"
            ]
          },
          "metadata": {
            "tags": [],
            "needs_background": "light"
          }
        },
        {
          "output_type": "stream",
          "text": [
            "Success !\n"
          ],
          "name": "stdout"
        }
      ]
    },
    {
      "cell_type": "code",
      "metadata": {
        "id": "92u8T5Hczt_P",
        "colab_type": "code",
        "colab": {}
      },
      "source": [
        "# Now we go on to build the custom dataset class for our data.\n",
        "# Since our data is not in the form of a direct mapping, what \n",
        "# I could have done is that stacked all the data in the form of a matrix. But I wont \n",
        "# do that, instead I will use an iterable dataset which is supported by PyTorch dataloader."
      ],
      "execution_count": 16,
      "outputs": []
    },
    {
      "cell_type": "code",
      "metadata": {
        "id": "WLOMoEkizt_S",
        "colab_type": "code",
        "colab": {}
      },
      "source": [
        "from torch.utils.data import IterableDataset, DataLoader\n",
        "class OmniglotData(IterableDataset):\n",
        "    \"\"\"\n",
        "    Iterable dataset for the 25-spline to 2 vector encoding purpose.\n",
        "    Expected form to pass data in form of \"spline_prims[lang][char][inst][0][primitive]\"\n",
        "    Args:\n",
        "        data (dict): Data in the same format as used everywhere in our application.\n",
        "    \"\"\"\n",
        "    def __init__(self,data):\n",
        "        self.data=data\n",
        "    \n",
        "    def normalize(self,arr):\n",
        "        mu_x=np.mean(arr[:,[0]])\n",
        "        mu_y=np.mean(arr[:,[1]])\n",
        "        std_x=np.std(arr[:,[0]])\n",
        "        std_y=np.std(arr[:,[1]])\n",
        "        # return np.concatenate((((arr[:,0]-mu_x)/std_x).reshape(25,1),((arr[:,1]-mu_y)/std_y).reshape(25,1)),axis=1)\n",
        "        return np.concatenate((((arr[:,0]-mu_x)).reshape(25,1),((arr[:,1]-mu_y)).reshape(25,1)),axis=1)\n",
        "        \n",
        "    def stream(self):\n",
        "        # spline_prims[lang][char][inst][0][primitive]\n",
        "        for lang in self.data:\n",
        "            for char in self.data[lang]:\n",
        "                for inst in char:\n",
        "                    for prim in inst[0]:\n",
        "                        # yield torch.tensor(prim.reshape(-1)).float()\n",
        "                        yield torch.tensor(self.normalize(prim).reshape(-1)).float()\n",
        "    \n",
        "    def __iter__(self):\n",
        "        # print(count)\n",
        "        return self.stream()"
      ],
      "execution_count": 17,
      "outputs": []
    },
    {
      "cell_type": "code",
      "metadata": {
        "id": "5hF4oLiSaMW3",
        "colab_type": "code",
        "colab": {}
      },
      "source": [
        "def gen_latent(mu, logvar):\n",
        "        \"\"\"\n",
        "        Reparameterization trick to sample from N(mu, var) from\n",
        "        N(0,1).\n",
        "        :param mu: (Tensor) Mean of the latent Gaussian [B x D]\n",
        "        :param logvar: (Tensor) Standard deviation of the latent Gaussian [B x D]\n",
        "        :return: (Tensor) [B x D]\n",
        "        \"\"\"\n",
        "        std = torch.exp(0.5 * logvar)\n",
        "        eps = torch.randn_like(std)\n",
        "        return eps * std + mu\n",
        "\n",
        "def loss_function(*args):\n",
        "        \"\"\"\n",
        "        Computes the VAE loss function.\n",
        "        KL(N(\\mu, \\sigma), N(0, 1)) = \\log \\frac{1}{\\sigma} + \\frac{\\sigma^2 + \\mu^2}{2} - \\frac{1}{2}\n",
        "        :param args:\n",
        "        :param kwargs:\n",
        "        :return:\n",
        "        \"\"\"\n",
        "        recons = args[0]\n",
        "        input = args[1]\n",
        "        mu = args[2]\n",
        "        log_var = args[3]\n",
        "\n",
        "        # kld_weight = kwargs['M_N'] # Account for the minibatch samples from the dataset\n",
        "        recons_loss =F.mse_loss(recons, input)\n",
        "\n",
        "\n",
        "        kld_loss = torch.mean(-0.5 * torch.sum(1 + log_var - mu ** 2 - log_var.exp(), dim = 1), dim = 0)\n",
        "\n",
        "        loss = recons_loss + kld_loss\n",
        "        return {'loss': loss, 'Reconstruction_Loss':recons_loss, 'KLD':-kld_loss}"
      ],
      "execution_count": 18,
      "outputs": []
    },
    {
      "cell_type": "code",
      "metadata": {
        "id": "RHkNbolezt-7",
        "colab_type": "code",
        "colab": {}
      },
      "source": [
        "enc=encoder(latent_dim=3).to(device)\n",
        "dec=decoder(latent_dim=3).to(device)"
      ],
      "execution_count": 23,
      "outputs": []
    },
    {
      "cell_type": "code",
      "metadata": {
        "id": "oYQyWm2jzt_V",
        "colab_type": "code",
        "colab": {}
      },
      "source": [
        "dataset=OmniglotData(spline_prims)\n",
        "data_loader=DataLoader(dataset,batch_size=32,shuffle=False)"
      ],
      "execution_count": 24,
      "outputs": []
    },
    {
      "cell_type": "code",
      "metadata": {
        "id": "xE-ub6vKzt_g",
        "colab_type": "code",
        "colab": {}
      },
      "source": [
        "optimEnc=optim.Adam(enc.parameters(),lr=2e-4)\n",
        "optimDec=optim.Adam(dec.parameters(),lr=2e-4)"
      ],
      "execution_count": 25,
      "outputs": []
    },
    {
      "cell_type": "code",
      "metadata": {
        "id": "TdqfOyzlzt_i",
        "colab_type": "code",
        "colab": {
          "base_uri": "https://localhost:8080/",
          "height": 1000
        },
        "outputId": "2a8d9aa5-5a81-4cb3-c657-c0a076377084"
      },
      "source": [
        "# Yaay, everything is working ! Let us train the encoder now !\n",
        "losses=[]\n",
        "import time\n",
        "num_epochs=150\n",
        "for epoch in range(num_epochs):\n",
        "    running_loss=.0\n",
        "    running_reconst=.0\n",
        "    running_kld=.0\n",
        "    start=time.time()\n",
        "    for i,data in enumerate(data_loader):\n",
        "        # start=time.time()\n",
        "        optimEnc.zero_grad(),optimDec.zero_grad()\n",
        "        data=data.to(device)\n",
        "        mu,var=enc(data)\n",
        "        mid=gen_latent(mu,var)\n",
        "        out=dec(mid)\n",
        "        loss=loss_function(out,data,mu,var)\n",
        "        real_loss,recons_loss,KLDL=loss['loss'],loss['Reconstruction_Loss'],loss['KLD']\n",
        "        real_loss.backward()\n",
        "        optimEnc.step()\n",
        "        optimDec.step()\n",
        "        # if (i+1)%print_intvl==0:\n",
        "        #     print(\"[%d/%d] [%d] Loss: %.4f recons: %.4f KLD: %.4f Time elapsed: %.4f\"%(epoch+1,num_epochs,i+1,real_loss.item(),recons_loss.item(),KLDL.item(),time.time()-start))\n",
        "        running_loss+=real_loss.item()\n",
        "        running_reconst+=recons_loss.item()\n",
        "        running_kld+=KLDL.item()\n",
        "    losses.append(running_loss)\n",
        "    print(\"[%d/%d] [%d] Loss: %.4f recons: %.4f KLD: %.4f Time elapsed: %.4f\"%(epoch+1,num_epochs,i+1,running_loss/32,running_reconst/32,running_kld/32,time.time()-start))\n",
        "    # print(\"[%d/%d] Loss : %.4f Time elapsed : %.4f\"%(epoch+1,num_epochs,running_loss,time.time()-start))"
      ],
      "execution_count": 26,
      "outputs": [
        {
          "output_type": "stream",
          "text": [
            "[1/150] [1524] Loss: 1702.1001 recons: 1352.2833 KLD: -349.8167 Time elapsed: 18.9411\n",
            "[2/150] [1524] Loss: 1218.4120 recons: 917.3083 KLD: -301.1037 Time elapsed: 19.0824\n",
            "[3/150] [1524] Loss: 1158.9781 recons: 868.9121 KLD: -290.0660 Time elapsed: 19.1211\n",
            "[4/150] [1524] Loss: 1126.1241 recons: 837.9440 KLD: -288.1801 Time elapsed: 18.9819\n",
            "[5/150] [1524] Loss: 1113.9883 recons: 828.1525 KLD: -285.8358 Time elapsed: 19.0215\n",
            "[6/150] [1524] Loss: 1084.6511 recons: 799.1238 KLD: -285.5273 Time elapsed: 19.0534\n",
            "[7/150] [1524] Loss: 1083.0367 recons: 798.0855 KLD: -284.9512 Time elapsed: 19.0731\n",
            "[8/150] [1524] Loss: 1065.2865 recons: 778.9735 KLD: -286.3130 Time elapsed: 19.1074\n",
            "[9/150] [1524] Loss: 1060.1013 recons: 773.7175 KLD: -286.3839 Time elapsed: 18.9618\n",
            "[10/150] [1524] Loss: 1038.7314 recons: 752.9844 KLD: -285.7469 Time elapsed: 19.0330\n",
            "[11/150] [1524] Loss: 1021.1012 recons: 734.3751 KLD: -286.7261 Time elapsed: 18.9555\n",
            "[12/150] [1524] Loss: 1017.8883 recons: 731.4985 KLD: -286.3898 Time elapsed: 18.9388\n",
            "[13/150] [1524] Loss: 1017.8755 recons: 732.0178 KLD: -285.8577 Time elapsed: 18.9332\n",
            "[14/150] [1524] Loss: 1012.2860 recons: 725.5879 KLD: -286.6981 Time elapsed: 18.9626\n",
            "[15/150] [1524] Loss: 994.2717 recons: 708.4881 KLD: -285.7836 Time elapsed: 19.0347\n",
            "[16/150] [1524] Loss: 987.2360 recons: 701.1400 KLD: -286.0959 Time elapsed: 18.9797\n",
            "[17/150] [1524] Loss: 978.6534 recons: 691.7315 KLD: -286.9219 Time elapsed: 18.9849\n",
            "[18/150] [1524] Loss: 986.9222 recons: 701.1323 KLD: -285.7899 Time elapsed: 19.0308\n",
            "[19/150] [1524] Loss: 959.1950 recons: 672.9662 KLD: -286.2287 Time elapsed: 19.0315\n",
            "[20/150] [1524] Loss: 953.7611 recons: 667.5206 KLD: -286.2404 Time elapsed: 19.0982\n",
            "[21/150] [1524] Loss: 954.6845 recons: 668.6444 KLD: -286.0402 Time elapsed: 18.9643\n",
            "[22/150] [1524] Loss: 947.5611 recons: 662.0406 KLD: -285.5205 Time elapsed: 18.8856\n",
            "[23/150] [1524] Loss: 943.0654 recons: 656.7679 KLD: -286.2975 Time elapsed: 18.8687\n",
            "[24/150] [1524] Loss: 936.3594 recons: 650.1358 KLD: -286.2235 Time elapsed: 18.9489\n",
            "[25/150] [1524] Loss: 939.2992 recons: 653.6713 KLD: -285.6280 Time elapsed: 18.9015\n",
            "[26/150] [1524] Loss: 932.2208 recons: 645.4794 KLD: -286.7414 Time elapsed: 18.9105\n",
            "[27/150] [1524] Loss: 923.6978 recons: 638.1809 KLD: -285.5169 Time elapsed: 18.9841\n",
            "[28/150] [1524] Loss: 922.5351 recons: 636.5648 KLD: -285.9703 Time elapsed: 19.0414\n",
            "[29/150] [1524] Loss: 918.8567 recons: 633.1085 KLD: -285.7483 Time elapsed: 18.9450\n",
            "[30/150] [1524] Loss: 913.6098 recons: 627.6831 KLD: -285.9267 Time elapsed: 18.8489\n",
            "[31/150] [1524] Loss: 914.9903 recons: 628.7140 KLD: -286.2763 Time elapsed: 18.8842\n",
            "[32/150] [1524] Loss: 908.7055 recons: 622.5274 KLD: -286.1782 Time elapsed: 18.8696\n",
            "[33/150] [1524] Loss: 899.0767 recons: 613.0048 KLD: -286.0719 Time elapsed: 18.9824\n",
            "[34/150] [1524] Loss: 902.5170 recons: 616.9907 KLD: -285.5263 Time elapsed: 18.9001\n",
            "[35/150] [1524] Loss: 895.3988 recons: 609.7882 KLD: -285.6106 Time elapsed: 18.9853\n",
            "[36/150] [1524] Loss: 897.5283 recons: 611.7697 KLD: -285.7586 Time elapsed: 19.0987\n",
            "[37/150] [1524] Loss: 895.6459 recons: 609.6056 KLD: -286.0403 Time elapsed: 18.8859\n",
            "[38/150] [1524] Loss: 894.1465 recons: 608.0434 KLD: -286.1031 Time elapsed: 18.9860\n",
            "[39/150] [1524] Loss: 883.5430 recons: 596.5244 KLD: -287.0187 Time elapsed: 19.0140\n",
            "[40/150] [1524] Loss: 884.7361 recons: 598.9323 KLD: -285.8038 Time elapsed: 18.7217\n",
            "[41/150] [1524] Loss: 877.9740 recons: 591.7680 KLD: -286.2060 Time elapsed: 18.7617\n",
            "[42/150] [1524] Loss: 881.6353 recons: 596.0115 KLD: -285.6238 Time elapsed: 18.7207\n",
            "[43/150] [1524] Loss: 879.5423 recons: 593.3846 KLD: -286.1577 Time elapsed: 18.9913\n",
            "[44/150] [1524] Loss: 869.3700 recons: 583.6428 KLD: -285.7273 Time elapsed: 18.9566\n",
            "[45/150] [1524] Loss: 871.8028 recons: 585.9247 KLD: -285.8781 Time elapsed: 19.0728\n",
            "[46/150] [1524] Loss: 876.1756 recons: 590.1449 KLD: -286.0308 Time elapsed: 18.9799\n",
            "[47/150] [1524] Loss: 870.6265 recons: 584.1997 KLD: -286.4268 Time elapsed: 18.9911\n",
            "[48/150] [1524] Loss: 868.3690 recons: 581.7565 KLD: -286.6125 Time elapsed: 18.9215\n",
            "[49/150] [1524] Loss: 865.2836 recons: 578.4967 KLD: -286.7869 Time elapsed: 18.8940\n",
            "[50/150] [1524] Loss: 868.7511 recons: 583.1726 KLD: -285.5785 Time elapsed: 18.9095\n",
            "[51/150] [1524] Loss: 862.2611 recons: 575.4019 KLD: -286.8592 Time elapsed: 18.8373\n",
            "[52/150] [1524] Loss: 866.4460 recons: 579.5377 KLD: -286.9082 Time elapsed: 19.0381\n",
            "[53/150] [1524] Loss: 857.3288 recons: 570.2867 KLD: -287.0422 Time elapsed: 19.1282\n",
            "[54/150] [1524] Loss: 858.4474 recons: 572.4392 KLD: -286.0082 Time elapsed: 19.0240\n",
            "[55/150] [1524] Loss: 858.4953 recons: 571.6274 KLD: -286.8679 Time elapsed: 18.9627\n",
            "[56/150] [1524] Loss: 855.8510 recons: 569.2343 KLD: -286.6168 Time elapsed: 19.1249\n",
            "[57/150] [1524] Loss: 854.8692 recons: 568.1631 KLD: -286.7061 Time elapsed: 19.0602\n",
            "[58/150] [1524] Loss: 853.9044 recons: 567.3802 KLD: -286.5242 Time elapsed: 19.0430\n",
            "[59/150] [1524] Loss: 847.2718 recons: 559.9602 KLD: -287.3116 Time elapsed: 18.9343\n",
            "[60/150] [1524] Loss: 850.4841 recons: 563.5480 KLD: -286.9361 Time elapsed: 18.9019\n",
            "[61/150] [1524] Loss: 847.2440 recons: 560.1318 KLD: -287.1121 Time elapsed: 18.9861\n",
            "[62/150] [1524] Loss: 843.3750 recons: 556.7227 KLD: -286.6523 Time elapsed: 18.9193\n",
            "[63/150] [1524] Loss: 849.0978 recons: 561.9697 KLD: -287.1281 Time elapsed: 18.8217\n",
            "[64/150] [1524] Loss: 846.3664 recons: 559.1794 KLD: -287.1870 Time elapsed: 18.8752\n",
            "[65/150] [1524] Loss: 846.5992 recons: 559.6323 KLD: -286.9669 Time elapsed: 19.0536\n",
            "[66/150] [1524] Loss: 836.9625 recons: 549.7433 KLD: -287.2192 Time elapsed: 18.8601\n",
            "[67/150] [1524] Loss: 836.7934 recons: 548.7105 KLD: -288.0829 Time elapsed: 18.8999\n",
            "[68/150] [1524] Loss: 833.4653 recons: 545.6185 KLD: -287.8468 Time elapsed: 18.9057\n",
            "[69/150] [1524] Loss: 839.8989 recons: 552.2616 KLD: -287.6373 Time elapsed: 19.1043\n",
            "[70/150] [1524] Loss: 835.5626 recons: 548.2543 KLD: -287.3083 Time elapsed: 18.9664\n",
            "[71/150] [1524] Loss: 833.7415 recons: 545.7468 KLD: -287.9947 Time elapsed: 18.8589\n",
            "[72/150] [1524] Loss: 832.7891 recons: 545.5759 KLD: -287.2131 Time elapsed: 18.9032\n",
            "[73/150] [1524] Loss: 834.4959 recons: 547.0089 KLD: -287.4870 Time elapsed: 18.9325\n",
            "[74/150] [1524] Loss: 834.3101 recons: 546.3640 KLD: -287.9461 Time elapsed: 18.8520\n",
            "[75/150] [1524] Loss: 827.3650 recons: 539.6489 KLD: -287.7161 Time elapsed: 18.9327\n",
            "[76/150] [1524] Loss: 824.6704 recons: 536.8106 KLD: -287.8598 Time elapsed: 18.9766\n",
            "[77/150] [1524] Loss: 827.6834 recons: 539.7092 KLD: -287.9742 Time elapsed: 18.8315\n",
            "[78/150] [1524] Loss: 829.3988 recons: 541.2993 KLD: -288.0995 Time elapsed: 18.8156\n",
            "[79/150] [1524] Loss: 827.8176 recons: 539.8888 KLD: -287.9289 Time elapsed: 19.0010\n",
            "[80/150] [1524] Loss: 830.2334 recons: 542.0147 KLD: -288.2187 Time elapsed: 19.0029\n",
            "[81/150] [1524] Loss: 819.2900 recons: 531.3279 KLD: -287.9622 Time elapsed: 18.9326\n",
            "[82/150] [1524] Loss: 819.7274 recons: 531.9096 KLD: -287.8178 Time elapsed: 18.9170\n",
            "[83/150] [1524] Loss: 828.1366 recons: 539.3994 KLD: -288.7372 Time elapsed: 18.9880\n",
            "[84/150] [1524] Loss: 823.3680 recons: 535.0785 KLD: -288.2895 Time elapsed: 18.9924\n",
            "[85/150] [1524] Loss: 813.9608 recons: 524.9925 KLD: -288.9683 Time elapsed: 19.1600\n",
            "[86/150] [1524] Loss: 822.7363 recons: 534.4571 KLD: -288.2792 Time elapsed: 19.0519\n",
            "[87/150] [1524] Loss: 816.6050 recons: 528.9712 KLD: -287.6338 Time elapsed: 19.0843\n",
            "[88/150] [1524] Loss: 819.7765 recons: 531.4380 KLD: -288.3385 Time elapsed: 19.0795\n",
            "[89/150] [1524] Loss: 814.0514 recons: 525.8799 KLD: -288.1715 Time elapsed: 18.9956\n",
            "[90/150] [1524] Loss: 812.9644 recons: 523.9507 KLD: -289.0138 Time elapsed: 18.9804\n",
            "[91/150] [1524] Loss: 811.9512 recons: 523.0792 KLD: -288.8720 Time elapsed: 19.0356\n",
            "[92/150] [1524] Loss: 810.9757 recons: 522.5492 KLD: -288.4265 Time elapsed: 18.9667\n",
            "[93/150] [1524] Loss: 813.5204 recons: 524.5810 KLD: -288.9394 Time elapsed: 19.0101\n",
            "[94/150] [1524] Loss: 809.2203 recons: 520.5553 KLD: -288.6650 Time elapsed: 19.0106\n",
            "[95/150] [1524] Loss: 811.4432 recons: 522.5202 KLD: -288.9230 Time elapsed: 19.0112\n",
            "[96/150] [1524] Loss: 809.2829 recons: 520.0757 KLD: -289.2072 Time elapsed: 19.1636\n",
            "[97/150] [1524] Loss: 808.0991 recons: 519.8078 KLD: -288.2914 Time elapsed: 19.2751\n",
            "[98/150] [1524] Loss: 806.8483 recons: 518.2035 KLD: -288.6447 Time elapsed: 19.2390\n",
            "[99/150] [1524] Loss: 805.6855 recons: 516.7271 KLD: -288.9583 Time elapsed: 19.3662\n",
            "[100/150] [1524] Loss: 804.9543 recons: 515.0032 KLD: -289.9510 Time elapsed: 19.1921\n",
            "[101/150] [1524] Loss: 805.5309 recons: 516.5125 KLD: -289.0185 Time elapsed: 19.3099\n",
            "[102/150] [1524] Loss: 801.3741 recons: 511.6126 KLD: -289.7615 Time elapsed: 19.4652\n",
            "[103/150] [1524] Loss: 800.4008 recons: 511.3209 KLD: -289.0799 Time elapsed: 19.3075\n",
            "[104/150] [1524] Loss: 802.7630 recons: 513.8666 KLD: -288.8964 Time elapsed: 19.2785\n",
            "[105/150] [1524] Loss: 802.4208 recons: 513.7254 KLD: -288.6953 Time elapsed: 19.3327\n",
            "[106/150] [1524] Loss: 799.0035 recons: 509.4742 KLD: -289.5294 Time elapsed: 19.3179\n",
            "[107/150] [1524] Loss: 798.7780 recons: 509.8058 KLD: -288.9722 Time elapsed: 19.2423\n",
            "[108/150] [1524] Loss: 791.8900 recons: 502.6344 KLD: -289.2556 Time elapsed: 19.1692\n",
            "[109/150] [1524] Loss: 801.1489 recons: 511.9243 KLD: -289.2246 Time elapsed: 19.2173\n",
            "[110/150] [1524] Loss: 796.1665 recons: 506.8258 KLD: -289.3408 Time elapsed: 19.2913\n",
            "[111/150] [1524] Loss: 793.5021 recons: 504.5030 KLD: -288.9991 Time elapsed: 19.2943\n",
            "[112/150] [1524] Loss: 791.6550 recons: 501.7102 KLD: -289.9448 Time elapsed: 19.3896\n",
            "[113/150] [1524] Loss: 795.4774 recons: 506.6589 KLD: -288.8185 Time elapsed: 19.3847\n",
            "[114/150] [1524] Loss: 793.3508 recons: 503.9152 KLD: -289.4355 Time elapsed: 19.2769\n",
            "[115/150] [1524] Loss: 792.2205 recons: 502.6897 KLD: -289.5308 Time elapsed: 19.2000\n",
            "[116/150] [1524] Loss: 788.2760 recons: 498.9381 KLD: -289.3379 Time elapsed: 19.2233\n",
            "[117/150] [1524] Loss: 792.8074 recons: 503.1104 KLD: -289.6970 Time elapsed: 19.2601\n",
            "[118/150] [1524] Loss: 793.4424 recons: 503.9827 KLD: -289.4597 Time elapsed: 19.4338\n",
            "[119/150] [1524] Loss: 789.5507 recons: 499.6704 KLD: -289.8804 Time elapsed: 19.3464\n",
            "[120/150] [1524] Loss: 789.2449 recons: 500.0548 KLD: -289.1901 Time elapsed: 19.3274\n",
            "[121/150] [1524] Loss: 784.7974 recons: 495.5552 KLD: -289.2423 Time elapsed: 19.2617\n",
            "[122/150] [1524] Loss: 793.1751 recons: 503.4243 KLD: -289.7508 Time elapsed: 19.2918\n",
            "[123/150] [1524] Loss: 789.2493 recons: 499.2198 KLD: -290.0295 Time elapsed: 19.2722\n",
            "[124/150] [1524] Loss: 790.4998 recons: 500.8428 KLD: -289.6570 Time elapsed: 19.3218\n",
            "[125/150] [1524] Loss: 788.8898 recons: 499.1284 KLD: -289.7615 Time elapsed: 19.4499\n",
            "[126/150] [1524] Loss: 788.4816 recons: 498.7907 KLD: -289.6909 Time elapsed: 19.2167\n",
            "[127/150] [1524] Loss: 784.8154 recons: 495.2960 KLD: -289.5194 Time elapsed: 18.9685\n",
            "[128/150] [1524] Loss: 790.4034 recons: 500.0156 KLD: -290.3877 Time elapsed: 19.0799\n",
            "[129/150] [1524] Loss: 782.1994 recons: 491.9130 KLD: -290.2864 Time elapsed: 18.9123\n",
            "[130/150] [1524] Loss: 781.4166 recons: 491.7098 KLD: -289.7069 Time elapsed: 19.0878\n",
            "[131/150] [1524] Loss: 785.1341 recons: 494.4761 KLD: -290.6580 Time elapsed: 19.2741\n",
            "[132/150] [1524] Loss: 786.4544 recons: 496.7337 KLD: -289.7206 Time elapsed: 19.3082\n",
            "[133/150] [1524] Loss: 775.3908 recons: 485.0118 KLD: -290.3790 Time elapsed: 19.4038\n",
            "[134/150] [1524] Loss: 780.2134 recons: 490.1437 KLD: -290.0697 Time elapsed: 19.4690\n",
            "[135/150] [1524] Loss: 785.5667 recons: 495.5954 KLD: -289.9713 Time elapsed: 19.4301\n",
            "[136/150] [1524] Loss: 779.9901 recons: 489.7277 KLD: -290.2624 Time elapsed: 19.3752\n",
            "[137/150] [1524] Loss: 776.8814 recons: 486.1385 KLD: -290.7429 Time elapsed: 19.3244\n",
            "[138/150] [1524] Loss: 773.9279 recons: 483.8990 KLD: -290.0289 Time elapsed: 19.3453\n",
            "[139/150] [1524] Loss: 772.5461 recons: 481.6331 KLD: -290.9130 Time elapsed: 19.3635\n",
            "[140/150] [1524] Loss: 778.9338 recons: 488.4564 KLD: -290.4774 Time elapsed: 19.4327\n",
            "[141/150] [1524] Loss: 777.0137 recons: 486.3911 KLD: -290.6226 Time elapsed: 19.4885\n",
            "[142/150] [1524] Loss: 777.5705 recons: 487.0558 KLD: -290.5148 Time elapsed: 19.4014\n",
            "[143/150] [1524] Loss: 776.3393 recons: 485.3266 KLD: -291.0127 Time elapsed: 19.4439\n",
            "[144/150] [1524] Loss: 781.4868 recons: 490.4483 KLD: -291.0384 Time elapsed: 19.2664\n",
            "[145/150] [1524] Loss: 770.5169 recons: 479.2067 KLD: -291.3102 Time elapsed: 19.3296\n",
            "[146/150] [1524] Loss: 773.0067 recons: 482.1040 KLD: -290.9027 Time elapsed: 19.4509\n",
            "[147/150] [1524] Loss: 776.8007 recons: 485.6043 KLD: -291.1964 Time elapsed: 19.3479\n",
            "[148/150] [1524] Loss: 771.4799 recons: 481.0234 KLD: -290.4565 Time elapsed: 19.2876\n",
            "[149/150] [1524] Loss: 769.4050 recons: 478.3551 KLD: -291.0499 Time elapsed: 19.2495\n",
            "[150/150] [1524] Loss: 773.2610 recons: 482.3184 KLD: -290.9425 Time elapsed: 19.4602\n"
          ],
          "name": "stdout"
        }
      ]
    },
    {
      "cell_type": "code",
      "metadata": {
        "id": "CIpL4fZHEeoT",
        "colab_type": "code",
        "colab": {
          "base_uri": "https://localhost:8080/",
          "height": 265
        },
        "outputId": "f999a8eb-8ca3-4472-f6a4-17c738d58481"
      },
      "source": [
        "plt.plot(losses,label='net loss')\n",
        "plt.legend()\n",
        "plt.show()"
      ],
      "execution_count": 27,
      "outputs": [
        {
          "output_type": "display_data",
          "data": {
            "image/png": "[encoded data removed]",
            "text/plain": [
              "<Figure size 432x288 with 1 Axes>"
            ]
          },
          "metadata": {
            "tags": [],
            "needs_background": "light"
          }
        }
      ]
    },
    {
      "cell_type": "code",
      "metadata": {
        "id": "YgR8Cl0aEgzv",
        "colab_type": "code",
        "colab": {}
      },
      "source": [
        "from google.colab import files\n",
        "\n",
        "torch.save(enc.state_dict(),'encoder_3_dim.pth')\n",
        "torch.save(dec.state_dict(),'decoder_3_dim.pth')"
      ],
      "execution_count": 28,
      "outputs": []
    },
    {
      "cell_type": "code",
      "metadata": {
        "id": "r6zhqPp767Ns",
        "colab_type": "code",
        "colab": {
          "base_uri": "https://localhost:8080/",
          "height": 17
        },
        "outputId": "1bb51a58-c926-4691-fe05-a04c862e0b2f"
      },
      "source": [
        "# files.download('encoder_3_dim.pth')\n",
        "files.download('decoder_3_dim.pth')"
      ],
      "execution_count": 30,
      "outputs": [
        {
          "output_type": "display_data",
          "data": {
            "application/javascript": [
              "\n",
              "    async function download(id, filename, size) {\n",
              "      if (!google.colab.kernel.accessAllowed) {\n",
              "        return;\n",
              "      }\n",
              "      const div = document.createElement('div');\n",
              "      const label = document.createElement('label');\n",
              "      label.textContent = `Downloading \"${filename}\": `;\n",
              "      div.appendChild(label);\n",
              "      const progress = document.createElement('progress');\n",
              "      progress.max = size;\n",
              "      div.appendChild(progress);\n",
              "      document.body.appendChild(div);\n",
              "\n",
              "      const buffers = [];\n",
              "      let downloaded = 0;\n",
              "\n",
              "      const channel = await google.colab.kernel.comms.open(id);\n",
              "      // Send a message to notify the kernel that we're ready.\n",
              "      channel.send({})\n",
              "\n",
              "      for await (const message of channel.messages) {\n",
              "        // Send a message to notify the kernel that we're ready.\n",
              "        channel.send({})\n",
              "        if (message.buffers) {\n",
              "          for (const buffer of message.buffers) {\n",
              "            buffers.push(buffer);\n",
              "            downloaded += buffer.byteLength;\n",
              "            progress.value = downloaded;\n",
              "          }\n",
              "        }\n",
              "      }\n",
              "      const blob = new Blob(buffers, {type: 'application/binary'});\n",
              "      const a = document.createElement('a');\n",
              "      a.href = window.URL.createObjectURL(blob);\n",
              "      a.download = filename;\n",
              "      div.appendChild(a);\n",
              "      a.click();\n",
              "      div.remove();\n",
              "    }\n",
              "  "
            ],
            "text/plain": [
              "<IPython.core.display.Javascript object>"
            ]
          },
          "metadata": {
            "tags": []
          }
        },
        {
          "output_type": "display_data",
          "data": {
            "application/javascript": [
              "download(\"download_faa69c7b-ba1e-4f6e-b894-a07c0f1f4a4f\", \"decoder_3_dim.pth\", 4221353)"
            ],
            "text/plain": [
              "<IPython.core.display.Javascript object>"
            ]
          },
          "metadata": {
            "tags": []
          }
        }
      ]
    },
    {
      "cell_type": "code",
      "metadata": {
        "id": "ZV5aSgSTZAqd",
        "colab_type": "code",
        "colab": {}
      },
      "source": [
        "# !wget https://github.com/SomTambe/omniglot-bcs/raw/master/weights/decoder.pth\n",
        "# !wget https://github.com/SomTambe/omniglot-bcs/raw/master/weights/encoder.pth"
      ],
      "execution_count": null,
      "outputs": []
    },
    {
      "cell_type": "code",
      "metadata": {
        "id": "w2so16DwYCO9",
        "colab_type": "code",
        "colab": {}
      },
      "source": [
        "enc.load_state_dict(torch.load('encoder.pth'))\n",
        "dec.load_state_dict(torch.load('decoder.pth'))"
      ],
      "execution_count": null,
      "outputs": []
    },
    {
      "cell_type": "code",
      "metadata": {
        "id": "2PE7QbnPbUi8",
        "colab_type": "code",
        "colab": {}
      },
      "source": [
        "def eval_char(chr):\n",
        "    \"\"\"\n",
        "    Function to show decoded character to see how the encoder has been trained.\n",
        "\n",
        "    Args:\n",
        "        chr (numpy array): Character to be evaluated.\n",
        "    \"\"\"\n",
        "    # spline_prims['Grantha'][1][3][0]\n",
        "    pred=[]\n",
        "    enc.eval()\n",
        "    dec.eval()\n",
        "    for prim in chr :\n",
        "        prim=normalize(prim)\n",
        "        prim=torch.tensor(prim).to(device).reshape(-1).unsqueeze(0).float()\n",
        "        mu,var=enc(prim)\n",
        "        mid=gen_latent(mu,var)\n",
        "        out=dec(mid).squeeze().reshape(25,2) # generated primitive\n",
        "        pred.append(out.detach().cpu().numpy())\n",
        "\n",
        "    return splines.plot_char(pred)\n",
        "def normalize(arr):\n",
        "        mu_x=np.mean(arr[:,[0]])\n",
        "        mu_y=np.mean(arr[:,[1]])\n",
        "        std_x=np.std(arr[:,[0]])\n",
        "        std_y=np.std(arr[:,[1]])\n",
        "        return np.concatenate((((arr[:,0]-mu_x)).reshape(25,1),((arr[:,1]-mu_y)).reshape(25,1)),axis=1)"
      ],
      "execution_count": null,
      "outputs": []
    },
    {
      "cell_type": "code",
      "metadata": {
        "id": "iW4xFF8CbUTs",
        "colab_type": "code",
        "colab": {}
      },
      "source": [
        "CHAR=spline_prims['Sanskrit'][1][3][0]\n",
        "print(\"Decoded\")\n",
        "eval_char(CHAR)\n",
        "print(\"original\")\n",
        "splines.plot_char(CHAR)"
      ],
      "execution_count": null,
      "outputs": []
    },
    {
      "cell_type": "code",
      "metadata": {
        "id": "jg8-3D8Dzt_c",
        "colab_type": "code",
        "colab": {
          "base_uri": "https://localhost:8080/",
          "height": 265
        },
        "outputId": "b34605d2-fc9e-4405-dd58-ac75dfbf227d"
      },
      "source": [
        "# Comment out the .reshape(-1) part in the dataset class to test out this portion.\n",
        "# Randomly plotting strokes to see whether they are different.\n",
        "samp=[]\n",
        "for c,dat in enumerate(data_loader):\n",
        "    samp.append(dat)\n",
        "    if c>0 :\n",
        "        break\n",
        "for _,c in enumerate(samp):\n",
        "    # print(c.squeeze().detach().cpu().numpy().shape)\n",
        "    plt.plot(c.squeeze().detach().cpu().numpy()[:,0],c.squeeze().detach().cpu().numpy()[:,1],'')\n",
        "plt.axis('square')\n",
        "plt.show()\n",
        "# Just to make sure there is no problem with loading spline data"
      ],
      "execution_count": null,
      "outputs": [
        {
          "output_type": "display_data",
          "data": {
            "image/png": "[encoded data removed]",
            "text/plain": [
              "<Figure size 432x288 with 1 Axes>"
            ]
          },
          "metadata": {
            "tags": [],
            "needs_background": "light"
          }
        }
      ]
    },
    {
      "cell_type": "code",
      "metadata": {
        "id": "wsN5q6cLedw4",
        "colab_type": "code",
        "colab": {}
      },
      "source": [
        ""
      ],
      "execution_count": null,
      "outputs": []
    }
  ]
}