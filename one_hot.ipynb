{
  "nbformat": 4,
  "nbformat_minor": 0,
  "metadata": {
    "kernelspec": {
      "display_name": "Python 3",
      "language": "python",
      "name": "python3"
    },
    "language_info": {
      "codemirror_mode": {
        "name": "ipython",
        "version": 3
      },
      "file_extension": ".py",
      "mimetype": "text/x-python",
      "name": "python",
      "nbconvert_exporter": "python",
      "pygments_lexer": "ipython3",
      "version": "3.7.4"
    },
    "colab": {
      "name": "one_hot.ipynb",
      "provenance": [],
      "collapsed_sections": [],
      "include_colab_link": true
    },
    "accelerator": "GPU",
    "widgets": {
      "application/vnd.jupyter.widget-state+json": {
        "8aba461024f74500b886d6bf37d0e2c5": {
          "model_module": "@jupyter-widgets/controls",
          "model_name": "HBoxModel",
          "state": {
            "_view_name": "HBoxView",
            "_dom_classes": [],
            "_model_name": "HBoxModel",
            "_view_module": "@jupyter-widgets/controls",
            "_model_module_version": "1.5.0",
            "_view_count": null,
            "_view_module_version": "1.5.0",
            "box_style": "",
            "layout": "IPY_MODEL_73fabbdddf8d460a8b133a133b554ce1",
            "_model_module": "@jupyter-widgets/controls",
            "children": [
              "IPY_MODEL_b15b8a639b244e7787c96d4398dc3029",
              "IPY_MODEL_527cbf4c370941caaf1f69b4c6b6bcf9"
            ]
          }
        },
        "73fabbdddf8d460a8b133a133b554ce1": {
          "model_module": "@jupyter-widgets/base",
          "model_name": "LayoutModel",
          "state": {
            "_view_name": "LayoutView",
            "grid_template_rows": null,
            "right": null,
            "justify_content": null,
            "_view_module": "@jupyter-widgets/base",
            "overflow": null,
            "_model_module_version": "1.2.0",
            "_view_count": null,
            "flex_flow": null,
            "width": null,
            "min_width": null,
            "border": null,
            "align_items": null,
            "bottom": null,
            "_model_module": "@jupyter-widgets/base",
            "top": null,
            "grid_column": null,
            "overflow_y": null,
            "overflow_x": null,
            "grid_auto_flow": null,
            "grid_area": null,
            "grid_template_columns": null,
            "flex": null,
            "_model_name": "LayoutModel",
            "justify_items": null,
            "grid_row": null,
            "max_height": null,
            "align_content": null,
            "visibility": null,
            "align_self": null,
            "height": null,
            "min_height": null,
            "padding": null,
            "grid_auto_rows": null,
            "grid_gap": null,
            "max_width": null,
            "order": null,
            "_view_module_version": "1.2.0",
            "grid_template_areas": null,
            "object_position": null,
            "object_fit": null,
            "grid_auto_columns": null,
            "margin": null,
            "display": null,
            "left": null
          }
        },
        "b15b8a639b244e7787c96d4398dc3029": {
          "model_module": "@jupyter-widgets/controls",
          "model_name": "FloatProgressModel",
          "state": {
            "_view_name": "ProgressView",
            "style": "IPY_MODEL_79a67c28a62740729180cc57f6d89f9b",
            "_dom_classes": [],
            "description": "",
            "_model_name": "FloatProgressModel",
            "bar_style": "success",
            "max": 1,
            "_view_module": "@jupyter-widgets/controls",
            "_model_module_version": "1.5.0",
            "value": 1,
            "_view_count": null,
            "_view_module_version": "1.5.0",
            "orientation": "horizontal",
            "min": 0,
            "description_tooltip": null,
            "_model_module": "@jupyter-widgets/controls",
            "layout": "IPY_MODEL_2c865e916fa14bb58a273666df0e643b"
          }
        },
        "527cbf4c370941caaf1f69b4c6b6bcf9": {
          "model_module": "@jupyter-widgets/controls",
          "model_name": "HTMLModel",
          "state": {
            "_view_name": "HTMLView",
            "style": "IPY_MODEL_ab31a49e5381410e888c335362acc973",
            "_dom_classes": [],
            "description": "",
            "_model_name": "HTMLModel",
            "placeholder": "​",
            "_view_module": "@jupyter-widgets/controls",
            "_model_module_version": "1.5.0",
            "value": " 48762/? [00:55&lt;00:00, 882.55it/s]",
            "_view_count": null,
            "_view_module_version": "1.5.0",
            "description_tooltip": null,
            "_model_module": "@jupyter-widgets/controls",
            "layout": "IPY_MODEL_71f580ae32434c77bf4c67193dcf895c"
          }
        },
        "79a67c28a62740729180cc57f6d89f9b": {
          "model_module": "@jupyter-widgets/controls",
          "model_name": "ProgressStyleModel",
          "state": {
            "_view_name": "StyleView",
            "_model_name": "ProgressStyleModel",
            "description_width": "initial",
            "_view_module": "@jupyter-widgets/base",
            "_model_module_version": "1.5.0",
            "_view_count": null,
            "_view_module_version": "1.2.0",
            "bar_color": null,
            "_model_module": "@jupyter-widgets/controls"
          }
        },
        "2c865e916fa14bb58a273666df0e643b": {
          "model_module": "@jupyter-widgets/base",
          "model_name": "LayoutModel",
          "state": {
            "_view_name": "LayoutView",
            "grid_template_rows": null,
            "right": null,
            "justify_content": null,
            "_view_module": "@jupyter-widgets/base",
            "overflow": null,
            "_model_module_version": "1.2.0",
            "_view_count": null,
            "flex_flow": null,
            "width": null,
            "min_width": null,
            "border": null,
            "align_items": null,
            "bottom": null,
            "_model_module": "@jupyter-widgets/base",
            "top": null,
            "grid_column": null,
            "overflow_y": null,
            "overflow_x": null,
            "grid_auto_flow": null,
            "grid_area": null,
            "grid_template_columns": null,
            "flex": null,
            "_model_name": "LayoutModel",
            "justify_items": null,
            "grid_row": null,
            "max_height": null,
            "align_content": null,
            "visibility": null,
            "align_self": null,
            "height": null,
            "min_height": null,
            "padding": null,
            "grid_auto_rows": null,
            "grid_gap": null,
            "max_width": null,
            "order": null,
            "_view_module_version": "1.2.0",
            "grid_template_areas": null,
            "object_position": null,
            "object_fit": null,
            "grid_auto_columns": null,
            "margin": null,
            "display": null,
            "left": null
          }
        },
        "ab31a49e5381410e888c335362acc973": {
          "model_module": "@jupyter-widgets/controls",
          "model_name": "DescriptionStyleModel",
          "state": {
            "_view_name": "StyleView",
            "_model_name": "DescriptionStyleModel",
            "description_width": "",
            "_view_module": "@jupyter-widgets/base",
            "_model_module_version": "1.5.0",
            "_view_count": null,
            "_view_module_version": "1.2.0",
            "_model_module": "@jupyter-widgets/controls"
          }
        },
        "71f580ae32434c77bf4c67193dcf895c": {
          "model_module": "@jupyter-widgets/base",
          "model_name": "LayoutModel",
          "state": {
            "_view_name": "LayoutView",
            "grid_template_rows": null,
            "right": null,
            "justify_content": null,
            "_view_module": "@jupyter-widgets/base",
            "overflow": null,
            "_model_module_version": "1.2.0",
            "_view_count": null,
            "flex_flow": null,
            "width": null,
            "min_width": null,
            "border": null,
            "align_items": null,
            "bottom": null,
            "_model_module": "@jupyter-widgets/base",
            "top": null,
            "grid_column": null,
            "overflow_y": null,
            "overflow_x": null,
            "grid_auto_flow": null,
            "grid_area": null,
            "grid_template_columns": null,
            "flex": null,
            "_model_name": "LayoutModel",
            "justify_items": null,
            "grid_row": null,
            "max_height": null,
            "align_content": null,
            "visibility": null,
            "align_self": null,
            "height": null,
            "min_height": null,
            "padding": null,
            "grid_auto_rows": null,
            "grid_gap": null,
            "max_width": null,
            "order": null,
            "_view_module_version": "1.2.0",
            "grid_template_areas": null,
            "object_position": null,
            "object_fit": null,
            "grid_auto_columns": null,
            "margin": null,
            "display": null,
            "left": null
          }
        }
      }
    }
  },
  "cells": [
    {
      "cell_type": "markdown",
      "metadata": {
        "id": "view-in-github",
        "colab_type": "text"
      },
      "source": [
        "<a href=\"https://colab.research.google.com/github/SomTambe/omniglot-bcs/blob/master/one_hot.ipynb\" target=\"_parent\"><img src=\"https://colab.research.google.com/assets/colab-badge.svg\" alt=\"Open In Colab\"/></a>"
      ]
    },
    {
      "cell_type": "code",
      "metadata": {
        "id": "MQjLqqCh_3TN",
        "colab_type": "code",
        "colab": {}
      },
      "source": [
        "import warnings\n",
        "warnings.filterwarnings(\"ignore\")"
      ],
      "execution_count": 1,
      "outputs": []
    },
    {
      "cell_type": "code",
      "metadata": {
        "id": "Ta4g8aPfKo1u",
        "colab_type": "code",
        "colab": {
          "base_uri": "https://localhost:8080/",
          "height": 1000
        },
        "outputId": "906fe54a-94f0-4d81-ea61-1b671dd6c961"
      },
      "source": [
        "!wget https://github.com/SomTambe/omniglot-bcs/raw/master/splines.py\n",
        "!wget https://github.com/SomTambe/omniglot-bcs/raw/master/encoded.py\n",
        "!wget https://github.com/SomTambe/omniglot-bcs/raw/master/weights/2-d/decoder.pth\n",
        "!wget https://github.com/SomTambe/omniglot-bcs/raw/master/weights/2-d/encoder.pth\n",
        "!wget https://github.com/SomTambe/omniglot-bcs/raw/master/data_background.mat\n",
        "# !wget https://github.com/SomTambe/omniglot-bcs/raw/master/weights/one-hot/one_hot_wgts.pth"
      ],
      "execution_count": 2,
      "outputs": [
        {
          "output_type": "stream",
          "text": [
            "--2020-07-10 08:48:17--  https://github.com/SomTambe/omniglot-bcs/raw/master/splines.py\n",
            "Resolving github.com (github.com)... 140.82.118.4\n",
            "Connecting to github.com (github.com)|140.82.118.4|:443... connected.\n",
            "HTTP request sent, awaiting response... 302 Found\n",
            "Location: https://raw.githubusercontent.com/SomTambe/omniglot-bcs/master/splines.py [following]\n",
            "--2020-07-10 08:48:18--  https://raw.githubusercontent.com/SomTambe/omniglot-bcs/master/splines.py\n",
            "Resolving raw.githubusercontent.com (raw.githubusercontent.com)... 151.101.0.133, 151.101.64.133, 151.101.128.133, ...\n",
            "Connecting to raw.githubusercontent.com (raw.githubusercontent.com)|151.101.0.133|:443... connected.\n",
            "HTTP request sent, awaiting response... 200 OK\n",
            "Length: 4642 (4.5K) [text/plain]\n",
            "Saving to: ‘splines.py’\n",
            "\n",
            "\rsplines.py            0%[                    ]       0  --.-KB/s               \rsplines.py          100%[===================>]   4.53K  --.-KB/s    in 0s      \n",
            "\n",
            "2020-07-10 08:48:18 (41.6 MB/s) - ‘splines.py’ saved [4642/4642]\n",
            "\n",
            "--2020-07-10 08:48:24--  https://github.com/SomTambe/omniglot-bcs/raw/master/encoded.py\n",
            "Resolving github.com (github.com)... 140.82.118.4\n",
            "Connecting to github.com (github.com)|140.82.118.4|:443... connected.\n",
            "HTTP request sent, awaiting response... 302 Found\n",
            "Location: https://raw.githubusercontent.com/SomTambe/omniglot-bcs/master/encoded.py [following]\n",
            "--2020-07-10 08:48:24--  https://raw.githubusercontent.com/SomTambe/omniglot-bcs/master/encoded.py\n",
            "Resolving raw.githubusercontent.com (raw.githubusercontent.com)... 151.101.0.133, 151.101.64.133, 151.101.128.133, ...\n",
            "Connecting to raw.githubusercontent.com (raw.githubusercontent.com)|151.101.0.133|:443... connected.\n",
            "HTTP request sent, awaiting response... 200 OK\n",
            "Length: 4214 (4.1K) [text/plain]\n",
            "Saving to: ‘encoded.py’\n",
            "\n",
            "encoded.py          100%[===================>]   4.12K  --.-KB/s    in 0s      \n",
            "\n",
            "2020-07-10 08:48:25 (45.5 MB/s) - ‘encoded.py’ saved [4214/4214]\n",
            "\n",
            "--2020-07-10 08:48:30--  https://github.com/SomTambe/omniglot-bcs/raw/master/weights/2-d/decoder.pth\n",
            "Resolving github.com (github.com)... 140.82.118.3\n",
            "Connecting to github.com (github.com)|140.82.118.3|:443... connected.\n",
            "HTTP request sent, awaiting response... 302 Found\n",
            "Location: https://raw.githubusercontent.com/SomTambe/omniglot-bcs/master/weights/2-d/decoder.pth [following]\n",
            "--2020-07-10 08:48:31--  https://raw.githubusercontent.com/SomTambe/omniglot-bcs/master/weights/2-d/decoder.pth\n",
            "Resolving raw.githubusercontent.com (raw.githubusercontent.com)... 151.101.0.133, 151.101.64.133, 151.101.128.133, ...\n",
            "Connecting to raw.githubusercontent.com (raw.githubusercontent.com)|151.101.0.133|:443... connected.\n",
            "HTTP request sent, awaiting response... 200 OK\n",
            "Length: 4217359 (4.0M) [application/octet-stream]\n",
            "Saving to: ‘decoder.pth’\n",
            "\n",
            "decoder.pth         100%[===================>]   4.02M  --.-KB/s    in 0.1s    \n",
            "\n",
            "2020-07-10 08:48:32 (26.9 MB/s) - ‘decoder.pth’ saved [4217359/4217359]\n",
            "\n",
            "--2020-07-10 08:48:34--  https://github.com/SomTambe/omniglot-bcs/raw/master/weights/2-d/encoder.pth\n",
            "Resolving github.com (github.com)... 140.82.118.3\n",
            "Connecting to github.com (github.com)|140.82.118.3|:443... connected.\n",
            "HTTP request sent, awaiting response... 302 Found\n",
            "Location: https://raw.githubusercontent.com/SomTambe/omniglot-bcs/master/weights/2-d/encoder.pth [following]\n",
            "--2020-07-10 08:48:34--  https://raw.githubusercontent.com/SomTambe/omniglot-bcs/master/weights/2-d/encoder.pth\n",
            "Resolving raw.githubusercontent.com (raw.githubusercontent.com)... 151.101.0.133, 151.101.64.133, 151.101.128.133, ...\n",
            "Connecting to raw.githubusercontent.com (raw.githubusercontent.com)|151.101.0.133|:443... connected.\n",
            "HTTP request sent, awaiting response... 200 OK\n",
            "Length: 4225740 (4.0M) [application/octet-stream]\n",
            "Saving to: ‘encoder.pth’\n",
            "\n",
            "encoder.pth         100%[===================>]   4.03M  --.-KB/s    in 0.08s   \n",
            "\n",
            "2020-07-10 08:48:36 (49.9 MB/s) - ‘encoder.pth’ saved [4225740/4225740]\n",
            "\n",
            "--2020-07-10 08:48:38--  https://github.com/SomTambe/omniglot-bcs/raw/master/data_background.mat\n",
            "Resolving github.com (github.com)... 140.82.118.4\n",
            "Connecting to github.com (github.com)|140.82.118.4|:443... connected.\n",
            "HTTP request sent, awaiting response... 302 Found\n",
            "Location: https://raw.githubusercontent.com/SomTambe/omniglot-bcs/master/data_background.mat [following]\n",
            "--2020-07-10 08:48:38--  https://raw.githubusercontent.com/SomTambe/omniglot-bcs/master/data_background.mat\n",
            "Resolving raw.githubusercontent.com (raw.githubusercontent.com)... 151.101.0.133, 151.101.64.133, 151.101.128.133, ...\n",
            "Connecting to raw.githubusercontent.com (raw.githubusercontent.com)|151.101.0.133|:443... connected.\n",
            "HTTP request sent, awaiting response... 200 OK\n",
            "Length: 21514095 (21M) [application/octet-stream]\n",
            "Saving to: ‘data_background.mat’\n",
            "\n",
            "data_background.mat 100%[===================>]  20.52M   114MB/s    in 0.2s    \n",
            "\n",
            "2020-07-10 08:48:39 (114 MB/s) - ‘data_background.mat’ saved [21514095/21514095]\n",
            "\n"
          ],
          "name": "stdout"
        }
      ]
    },
    {
      "cell_type": "code",
      "metadata": {
        "id": "5F5qy4nhKmK8",
        "colab_type": "code",
        "colab": {
          "base_uri": "https://localhost:8080/",
          "height": 357
        },
        "outputId": "3b97da0b-e666-4864-cd41-3e5ed3237c7a"
      },
      "source": [
        "import splines\n",
        "import torch\n",
        "import glob\n",
        "import torchvision\n",
        "import numpy as np\n",
        "import torch.nn as nn\n",
        "import torch.nn.functional as F\n",
        "import torch.optim as optim\n",
        "import matplotlib.pyplot as plt\n",
        "import torchvision.transforms as transforms\n",
        "from torchsummary import summary\n",
        "import scipy\n",
        "from tqdm.notebook import tqdm\n",
        "import plotly.graph_objects as go\n",
        "import plotly.express as px\n",
        "import encoded\n",
        "from torch.utils.data import IterableDataset, DataLoader\n",
        "!nvidia-smi"
      ],
      "execution_count": 3,
      "outputs": [
        {
          "output_type": "stream",
          "text": [
            "Fri Jul 10 08:48:45 2020       \n",
            "+-----------------------------------------------------------------------------+\n",
            "| NVIDIA-SMI 450.36.06    Driver Version: 418.67       CUDA Version: 10.1     |\n",
            "|-------------------------------+----------------------+----------------------+\n",
            "| GPU  Name        Persistence-M| Bus-Id        Disp.A | Volatile Uncorr. ECC |\n",
            "| Fan  Temp  Perf  Pwr:Usage/Cap|         Memory-Usage | GPU-Util  Compute M. |\n",
            "|                               |                      |               MIG M. |\n",
            "|===============================+======================+======================|\n",
            "|   0  Tesla K80           Off  | 00000000:00:04.0 Off |                    0 |\n",
            "| N/A   37C    P8    28W / 149W |     11MiB / 11441MiB |      0%      Default |\n",
            "|                               |                      |                 ERR! |\n",
            "+-------------------------------+----------------------+----------------------+\n",
            "                                                                               \n",
            "+-----------------------------------------------------------------------------+\n",
            "| Processes:                                                                  |\n",
            "|  GPU   GI   CI        PID   Type   Process name                  GPU Memory |\n",
            "|        ID   ID                                                   Usage      |\n",
            "|=============================================================================|\n",
            "|  No running processes found                                                 |\n",
            "+-----------------------------------------------------------------------------+\n"
          ],
          "name": "stdout"
        }
      ]
    },
    {
      "cell_type": "code",
      "metadata": {
        "id": "UG63K2uxKmLI",
        "colab_type": "code",
        "colab": {
          "base_uri": "https://localhost:8080/",
          "height": 35
        },
        "outputId": "de48158b-3c94-41a3-e6e1-b60dd5e85802"
      },
      "source": [
        "device=\"cuda:0\" if torch.cuda.is_available() else \"cpu\"\n",
        "device"
      ],
      "execution_count": 4,
      "outputs": [
        {
          "output_type": "execute_result",
          "data": {
            "application/vnd.google.colaboratory.intrinsic": {
              "type": "string"
            },
            "text/plain": [
              "'cuda:0'"
            ]
          },
          "metadata": {
            "tags": []
          },
          "execution_count": 4
        }
      ]
    },
    {
      "cell_type": "code",
      "metadata": {
        "id": "NntTEbdlKmLV",
        "colab_type": "code",
        "colab": {}
      },
      "source": [
        "back_dict=splines.mat_to_dict()\n",
        "spline_prims=splines.spline_dict(back_dict)\n",
        "images=splines.dict_images()"
      ],
      "execution_count": 5,
      "outputs": []
    },
    {
      "cell_type": "code",
      "metadata": {
        "id": "Vb8gz-24KmLa",
        "colab_type": "code",
        "colab": {
          "base_uri": "https://localhost:8080/",
          "height": 34
        },
        "outputId": "57e8a09c-46a7-46c1-9e65-775cd20a5dd4"
      },
      "source": [
        "dataset=encoded.OmniglotData(spline_prims)\n",
        "data_loader=DataLoader(dataset,batch_size=1,shuffle=False) # Using batchsize 1 to get single primitive at a time.\n",
        "# Create instances of models\n",
        "enc=encoded.encoder(latent_dim=2).to(device)\n",
        "dec=encoded.decoder(latent_dim=2).to(device)\n",
        "# Loading weights\n",
        "# enc.load_state_dict(torch.load('./weights/2-d/encoder.pth',map_location=torch.device('cpu')))\n",
        "# dec.load_state_dict(torch.load('./weights/2-d/decoder.pth',map_location=torch.device('cpu')))\n",
        "enc.load_state_dict(torch.load('encoder.pth'))\n",
        "dec.load_state_dict(torch.load('decoder.pth'))"
      ],
      "execution_count": 6,
      "outputs": [
        {
          "output_type": "execute_result",
          "data": {
            "text/plain": [
              "<All keys matched successfully>"
            ]
          },
          "metadata": {
            "tags": []
          },
          "execution_count": 6
        }
      ]
    },
    {
      "cell_type": "code",
      "metadata": {
        "id": "U889d28aKmLh",
        "colab_type": "code",
        "colab": {
          "base_uri": "https://localhost:8080/",
          "height": 66,
          "referenced_widgets": [
            "8aba461024f74500b886d6bf37d0e2c5",
            "73fabbdddf8d460a8b133a133b554ce1",
            "b15b8a639b244e7787c96d4398dc3029",
            "527cbf4c370941caaf1f69b4c6b6bcf9",
            "79a67c28a62740729180cc57f6d89f9b",
            "2c865e916fa14bb58a273666df0e643b",
            "ab31a49e5381410e888c335362acc973",
            "71f580ae32434c77bf4c67193dcf895c"
          ]
        },
        "outputId": "2712070c-d176-4759-be28-eae67bd643a8"
      },
      "source": [
        "x_2d=[]\n",
        "y_2d=[]\n",
        "for i,data in tqdm(enumerate(data_loader)):\n",
        "    data=data.to(device)\n",
        "    mu,var=enc(data)\n",
        "    lat_var=encoded.gen_latent(mu,var).squeeze().detach().cpu().numpy()\n",
        "    x_2d.append(lat_var[0].item());y_2d.append(lat_var[1].item())"
      ],
      "execution_count": 7,
      "outputs": [
        {
          "output_type": "display_data",
          "data": {
            "application/vnd.jupyter.widget-view+json": {
              "model_id": "8aba461024f74500b886d6bf37d0e2c5",
              "version_minor": 0,
              "version_major": 2
            },
            "text/plain": [
              "HBox(children=(FloatProgress(value=1.0, bar_style='info', max=1.0), HTML(value='')))"
            ]
          },
          "metadata": {
            "tags": []
          }
        },
        {
          "output_type": "stream",
          "text": [
            "\n"
          ],
          "name": "stdout"
        }
      ]
    },
    {
      "cell_type": "code",
      "metadata": {
        "id": "4n3JTfVOKmLn",
        "colab_type": "code",
        "colab": {
          "base_uri": "https://localhost:8080/",
          "height": 34
        },
        "outputId": "4c5ec3d9-eec0-48c7-9076-1b293ee11b45"
      },
      "source": [
        "from sklearn.cluster import KMeans\n",
        "import time\n",
        "start=time.time()\n",
        "X=np.concatenate((np.reshape(x_2d,(-1,1)),np.reshape(y_2d,(-1,1))),axis=1)\n",
        "kmeans = KMeans(300, random_state=0)\n",
        "labels = kmeans.fit(X).predict(X)\n",
        "print(\"%d\"%(time.time()-start))"
      ],
      "execution_count": 8,
      "outputs": [
        {
          "output_type": "stream",
          "text": [
            "71\n"
          ],
          "name": "stdout"
        }
      ]
    },
    {
      "cell_type": "code",
      "metadata": {
        "id": "Te8zaFAwKmLr",
        "colab_type": "code",
        "colab": {
          "base_uri": "https://localhost:8080/",
          "height": 51
        },
        "outputId": "562c4ae2-8e1a-4994-990b-f5f455c3f599"
      },
      "source": [
        "print(len(labels))\n",
        "print('max: ',np.max(labels,0))"
      ],
      "execution_count": 9,
      "outputs": [
        {
          "output_type": "stream",
          "text": [
            "48762\n",
            "max:  299\n"
          ],
          "name": "stdout"
        }
      ]
    },
    {
      "cell_type": "code",
      "metadata": {
        "id": "ozNNfNh5KmL2",
        "colab_type": "code",
        "colab": {}
      },
      "source": [
        "# Let us now prepare the dataloader for the next model, for performing \n",
        "# supervised learning using the one-hot encoded vectors of a particular character.\n",
        "\n",
        "class OneHotDataset(IterableDataset):\n",
        "    \"\"\"\n",
        "    Iterable form dataset for providing one-hot encoded vectors for each character.\n",
        "    \n",
        "    Args:\n",
        "        data (dict): Just pass the spline_prims variable.\n",
        "        images (dict): Just pass the image dict.\n",
        "        labels (iterable type object): Labels for clustered data.\n",
        "        \n",
        "    Returns:\n",
        "        (Tensor) : One-hot encoded vector of length 300. (image,target)\n",
        "    \"\"\"\n",
        "    def __init__(self,data,images,labels,oh_len):\n",
        "        self.data=data\n",
        "        self.images=images\n",
        "        self.labels=labels\n",
        "        self.oh_len=oh_len\n",
        "    \n",
        "    def stream(self):\n",
        "        # spline_prims[lang][char][inst][0][primitive]\n",
        "        # images[lang][char][0]['image'][inst][0] -> (105,105) numpy ndarray\n",
        "        count=0\n",
        "        for lang in self.data:\n",
        "            for i,char in enumerate(self.data[lang]):\n",
        "                for j,inst in enumerate(char):\n",
        "                    vector=np.zeros((self.oh_len))\n",
        "                    for prim in inst[0]:\n",
        "                        # yield torch.tensor(prim.reshape(-1)).float()\n",
        "                        # yield torch.tensor(self.normalize(prim).reshape(-1)).float()\n",
        "                        idx=self.labels[count]\n",
        "                        # vector[idx]+=1.\n",
        "                        if vector[idx]==0:\n",
        "                            vector[idx]+=1.\n",
        "                        count+=1\n",
        "                    # yield [image,vector]\n",
        "                    img=self.images[lang][i][0]['image'][j][0]\n",
        "                    yield [torch.tensor(img).unsqueeze(0).float(),torch.tensor(vector).float()]\n",
        "                    \n",
        "    def __len__(self):\n",
        "        return int(19280) # Literally meaningless, hardcoded\n",
        "    \n",
        "    def __iter__(self):\n",
        "        return self.stream()\n",
        "        "
      ],
      "execution_count": 10,
      "outputs": []
    },
    {
      "cell_type": "code",
      "metadata": {
        "id": "l5vDui4kKmL8",
        "colab_type": "code",
        "colab": {}
      },
      "source": [
        "def which_cluster(vector):\n",
        "    \"\"\"\n",
        "    Dummy function to just give the indices of the clusters.\n",
        "    \n",
        "    Arg:\n",
        "        vector: You know what it is.\n",
        "    \"\"\"\n",
        "    vector=vector.reshape(-1)\n",
        "    which=[]\n",
        "    idx=0\n",
        "    for _ in vector:\n",
        "        # if vector[idx]==1:\n",
        "        #     which.append(idx)\n",
        "        # if vector[idx]>1:\n",
        "        #     which.append('{0},special'.format(idx))\n",
        "        if vector[idx]>0:\n",
        "            which.append(idx)\n",
        "        idx+=1\n",
        "    return which"
      ],
      "execution_count": 11,
      "outputs": []
    },
    {
      "cell_type": "code",
      "metadata": {
        "id": "WAB3pPVTKmMA",
        "colab_type": "code",
        "colab": {}
      },
      "source": [
        "dataset=OneHotDataset(data=spline_prims,images=images,labels=labels,oh_len=300)\n",
        "data_loader=DataLoader(dataset,batch_size=1)"
      ],
      "execution_count": 12,
      "outputs": []
    },
    {
      "cell_type": "code",
      "metadata": {
        "id": "reJSrvMwKmMG",
        "colab_type": "code",
        "colab": {
          "base_uri": "https://localhost:8080/",
          "height": 285
        },
        "outputId": "f28e56b7-eec5-44a8-c62f-e368fa769ed3"
      },
      "source": [
        "plot=96\n",
        "for k,i in enumerate(data_loader):\n",
        "#     print(i[0].shape,i[1].shape)\n",
        "    if plot==k:\n",
        "        print(which_cluster(i[1]))\n",
        "        plt.imshow(i[0].squeeze().detach().cpu().numpy(),cmap='gray')\n",
        "        break\n",
        "#     print(type(i[0]),type(i[1]))\n",
        "#     print(which_cluster(i[1]))\n",
        "plt.show()"
      ],
      "execution_count": 13,
      "outputs": [
        {
          "output_type": "stream",
          "text": [
            "[130, 173, 197, 234, 245]\n"
          ],
          "name": "stdout"
        },
        {
          "output_type": "display_data",
          "data": {
            "image/png": "[encoded data removed]",
            "text/plain": [
              "<Figure size 432x288 with 1 Axes>"
            ]
          },
          "metadata": {
            "tags": [],
            "needs_background": "light"
          }
        }
      ]
    },
    {
      "cell_type": "code",
      "metadata": {
        "id": "_zS1YNpuKmMM",
        "colab_type": "code",
        "colab": {
          "base_uri": "https://localhost:8080/",
          "height": 34
        },
        "outputId": "017538f1-da67-465a-e8eb-8fd81a389ead"
      },
      "source": [
        "len(data_loader)"
      ],
      "execution_count": 14,
      "outputs": [
        {
          "output_type": "execute_result",
          "data": {
            "text/plain": [
              "19280"
            ]
          },
          "metadata": {
            "tags": []
          },
          "execution_count": 14
        }
      ]
    },
    {
      "cell_type": "code",
      "metadata": {
        "id": "mUE_WD3mKmMW",
        "colab_type": "code",
        "colab": {}
      },
      "source": [
        "# Lets build the CNN now."
      ],
      "execution_count": 15,
      "outputs": []
    },
    {
      "cell_type": "code",
      "metadata": {
        "id": "HlBvXRcQKmMa",
        "colab_type": "code",
        "colab": {}
      },
      "source": [
        "class one_hot_network(nn.Module):\n",
        "    def __init__(self):\n",
        "        super().__init__()\n",
        "        self.block=nn.Sequential(\n",
        "            nn.Conv2d(1,32,(7,7),stride=2), # outputs 50x50 image\n",
        "            nn.BatchNorm2d(32),\n",
        "            nn.ReLU(True),\n",
        "            nn.Conv2d(32,32,(3,3),stride=1,padding=1),\n",
        "            nn.BatchNorm2d(32),\n",
        "            nn.ReLU(True),\n",
        "            nn.Conv2d(32,32,(3,3),stride=1,padding=1),\n",
        "            nn.BatchNorm2d(32),\n",
        "            nn.ReLU(True),\n",
        "            nn.Conv2d(32,64,(3,3),stride=2),\n",
        "            nn.BatchNorm2d(64),\n",
        "            nn.ReLU(True),\n",
        "            nn.Conv2d(64,64,(3,3),stride=1,padding=1),\n",
        "            nn.BatchNorm2d(64),\n",
        "            nn.ReLU(True),\n",
        "            nn.Conv2d(64,256,(3,3),stride=2),\n",
        "            nn.BatchNorm2d(256),\n",
        "            nn.ReLU(True),\n",
        "            nn.Conv2d(256,512,(3,3),stride=2), ##\n",
        "            nn.BatchNorm2d(512),\n",
        "            nn.ReLU(True),\n",
        "            nn.Conv2d(512,1024,(3,3),stride=2),\n",
        "            nn.BatchNorm2d(1024),\n",
        "            nn.ReLU(True),\n",
        "        )\n",
        "        self.fc=nn.Sequential(\n",
        "            nn.Linear(1024*2*2,300)\n",
        "        )\n",
        "\n",
        "    def forward(self,x):\n",
        "        bsize=x.size(0)\n",
        "        x=self.block(x)\n",
        "        x=x.view(bsize,-1)\n",
        "        x=self.fc(x)\n",
        "        return F.sigmoid(x)"
      ],
      "execution_count": 16,
      "outputs": []
    },
    {
      "cell_type": "code",
      "metadata": {
        "id": "zx1Nz10Oyx8U",
        "colab_type": "code",
        "colab": {}
      },
      "source": [
        "net=one_hot_network().to(device)"
      ],
      "execution_count": 17,
      "outputs": []
    },
    {
      "cell_type": "code",
      "metadata": {
        "id": "jq_CHBag6lnx",
        "colab_type": "code",
        "colab": {}
      },
      "source": [
        "# summary(net,(1,105,105))"
      ],
      "execution_count": 18,
      "outputs": []
    },
    {
      "cell_type": "code",
      "metadata": {
        "id": "EueISnrH6w3T",
        "colab_type": "code",
        "colab": {}
      },
      "source": [
        "num_epochs=100"
      ],
      "execution_count": 19,
      "outputs": []
    },
    {
      "cell_type": "code",
      "metadata": {
        "id": "jEDFimgb8rFG",
        "colab_type": "code",
        "colab": {}
      },
      "source": [
        "data_loader=DataLoader(dataset,batch_size=32)\n",
        "criterion=nn.BCELoss()\n",
        "opt=optim.Adam(net.parameters(),lr=5e-4)"
      ],
      "execution_count": 20,
      "outputs": []
    },
    {
      "cell_type": "code",
      "metadata": {
        "id": "ZZlAj9gx8ZvX",
        "colab_type": "code",
        "colab": {
          "base_uri": "https://localhost:8080/",
          "height": 1000
        },
        "outputId": "5c6207bc-a571-4401-f4c0-09eb4ba7aba2"
      },
      "source": [
        "net.train()\n",
        "losses=[]\n",
        "for epoch in range(num_epochs):\n",
        "    running_loss=.0\n",
        "    for i,data in enumerate(data_loader):\n",
        "        data,target=data[0].to(device),data[1].to(device)\n",
        "        out=net(data)\n",
        "        loss=criterion(out,target)\n",
        "\n",
        "        loss.backward()\n",
        "        opt.step()\n",
        "\n",
        "        running_loss+=loss.item()\n",
        "    losses.append(running_loss)\n",
        "    print(\"[%d/%d]  running_loss=%.3f\"%(epoch+1,num_epochs,running_loss))"
      ],
      "execution_count": 21,
      "outputs": [
        {
          "output_type": "stream",
          "text": [
            "[1/100]  running_loss=128.156\n",
            "[2/100]  running_loss=81.390\n",
            "[3/100]  running_loss=37.700\n",
            "[4/100]  running_loss=30.694\n",
            "[5/100]  running_loss=31.884\n",
            "[6/100]  running_loss=29.375\n",
            "[7/100]  running_loss=27.711\n",
            "[8/100]  running_loss=27.568\n",
            "[9/100]  running_loss=27.688\n",
            "[10/100]  running_loss=27.754\n",
            "[11/100]  running_loss=27.512\n",
            "[12/100]  running_loss=27.789\n",
            "[13/100]  running_loss=27.527\n",
            "[14/100]  running_loss=27.898\n",
            "[15/100]  running_loss=27.919\n",
            "[16/100]  running_loss=27.880\n",
            "[17/100]  running_loss=27.956\n",
            "[18/100]  running_loss=27.844\n",
            "[19/100]  running_loss=27.787\n",
            "[20/100]  running_loss=27.706\n",
            "[21/100]  running_loss=27.626\n",
            "[22/100]  running_loss=27.536\n",
            "[23/100]  running_loss=27.467\n",
            "[24/100]  running_loss=27.539\n",
            "[25/100]  running_loss=27.604\n",
            "[26/100]  running_loss=27.589\n",
            "[27/100]  running_loss=27.611\n",
            "[28/100]  running_loss=27.602\n",
            "[29/100]  running_loss=27.648\n",
            "[30/100]  running_loss=27.676\n",
            "[31/100]  running_loss=27.647\n",
            "[32/100]  running_loss=27.607\n",
            "[33/100]  running_loss=27.630\n",
            "[34/100]  running_loss=27.724\n",
            "[35/100]  running_loss=27.850\n",
            "[36/100]  running_loss=27.717\n",
            "[37/100]  running_loss=27.621\n",
            "[38/100]  running_loss=27.907\n",
            "[39/100]  running_loss=27.888\n",
            "[40/100]  running_loss=28.034\n",
            "[41/100]  running_loss=28.158\n",
            "[42/100]  running_loss=27.792\n",
            "[43/100]  running_loss=27.999\n",
            "[44/100]  running_loss=28.186\n",
            "[45/100]  running_loss=28.586\n",
            "[46/100]  running_loss=28.340\n",
            "[47/100]  running_loss=28.317\n",
            "[48/100]  running_loss=28.784\n",
            "[49/100]  running_loss=28.401\n",
            "[50/100]  running_loss=27.987\n",
            "[51/100]  running_loss=28.007\n",
            "[52/100]  running_loss=27.779\n",
            "[53/100]  running_loss=27.760\n",
            "[54/100]  running_loss=27.724\n",
            "[55/100]  running_loss=28.058\n",
            "[56/100]  running_loss=28.482\n",
            "[57/100]  running_loss=28.624\n",
            "[58/100]  running_loss=28.481\n",
            "[59/100]  running_loss=27.775\n",
            "[60/100]  running_loss=27.951\n",
            "[61/100]  running_loss=27.544\n",
            "[62/100]  running_loss=27.638\n",
            "[63/100]  running_loss=27.549\n",
            "[64/100]  running_loss=27.488\n",
            "[65/100]  running_loss=27.594\n",
            "[66/100]  running_loss=27.768\n",
            "[67/100]  running_loss=27.756\n",
            "[68/100]  running_loss=27.857\n",
            "[69/100]  running_loss=28.080\n",
            "[70/100]  running_loss=27.631\n",
            "[71/100]  running_loss=27.781\n",
            "[72/100]  running_loss=27.512\n",
            "[73/100]  running_loss=27.548\n",
            "[74/100]  running_loss=27.630\n",
            "[75/100]  running_loss=27.884\n",
            "[76/100]  running_loss=27.801\n",
            "[77/100]  running_loss=27.658\n",
            "[78/100]  running_loss=27.664\n",
            "[79/100]  running_loss=27.856\n",
            "[80/100]  running_loss=28.104\n",
            "[81/100]  running_loss=28.010\n",
            "[82/100]  running_loss=27.680\n",
            "[83/100]  running_loss=27.694\n",
            "[84/100]  running_loss=27.777\n",
            "[85/100]  running_loss=28.137\n",
            "[86/100]  running_loss=29.551\n",
            "[87/100]  running_loss=28.016\n",
            "[88/100]  running_loss=27.933\n",
            "[89/100]  running_loss=27.707\n",
            "[90/100]  running_loss=27.969\n",
            "[91/100]  running_loss=27.885\n",
            "[92/100]  running_loss=27.810\n",
            "[93/100]  running_loss=27.903\n",
            "[94/100]  running_loss=27.816\n",
            "[95/100]  running_loss=27.639\n",
            "[96/100]  running_loss=27.579\n",
            "[97/100]  running_loss=27.596\n",
            "[98/100]  running_loss=28.750\n",
            "[99/100]  running_loss=27.951\n",
            "[100/100]  running_loss=27.620\n"
          ],
          "name": "stdout"
        }
      ]
    },
    {
      "cell_type": "code",
      "metadata": {
        "id": "y9mDEhCv2aTc",
        "colab_type": "code",
        "colab": {
          "base_uri": "https://localhost:8080/",
          "height": 265
        },
        "outputId": "1a1cffa0-ce7b-431f-f555-65439e4276c9"
      },
      "source": [
        "plt.plot(losses)\n",
        "plt.show()"
      ],
      "execution_count": 22,
      "outputs": [
        {
          "output_type": "display_data",
          "data": {
            "image/png": "[encoded data removed]",
            "text/plain": [
              "<Figure size 432x288 with 1 Axes>"
            ]
          },
          "metadata": {
            "tags": [],
            "needs_background": "light"
          }
        }
      ]
    },
    {
      "cell_type": "code",
      "metadata": {
        "id": "9NPuUuJ4_0k7",
        "colab_type": "code",
        "colab": {}
      },
      "source": [
        "def eval_chr_vector(chr):\n",
        "    \"\"\"\n",
        "    Function to evaluate the one-hot vector of given chr index.\n",
        "    Args:\n",
        "        chr (int): Index of character you want to test. Must be lesser than 19280.\n",
        "    \"\"\"\n",
        "    dataset=OneHotDataset(data=spline_prims,images=images,labels=labels,oh_len=300)\n",
        "    d_loader=DataLoader(dataset,batch_size=1)\n",
        "\n",
        "    for i,data in enumerate(d_loader):\n",
        "        if i==chr:\n",
        "            og_vec=data[1]\n",
        "            d_vec=net(data[0].to(device))\n",
        "            print(which_cluster(og_vec.squeeze()))\n",
        "            # return (og_vec.squeeze()[which_cluster(og_vec.squeeze())],d_vec.squeeze()[which_cluster(og_vec.squeeze())])\n",
        "            return (og_vec.squeeze(),d_vec.squeeze())\n",
        "            # return (which_cluster(og_vec.squeeze()),which_cluster(d_vec.squeeze()))"
      ],
      "execution_count": 38,
      "outputs": []
    },
    {
      "cell_type": "code",
      "metadata": {
        "id": "0JJtmnYIMd5B",
        "colab_type": "code",
        "colab": {}
      },
      "source": [
        "NUM=1988"
      ],
      "execution_count": 58,
      "outputs": []
    },
    {
      "cell_type": "code",
      "metadata": {
        "id": "vfOmnro4Sv2q",
        "colab_type": "code",
        "colab": {
          "base_uri": "https://localhost:8080/",
          "height": 1000
        },
        "outputId": "aab82558-553d-42a3-974f-a70fb09f6771"
      },
      "source": [
        "eval_chr_vector(NUM)"
      ],
      "execution_count": 61,
      "outputs": [
        {
          "output_type": "stream",
          "text": [
            "[27]\n"
          ],
          "name": "stdout"
        },
        {
          "output_type": "execute_result",
          "data": {
            "text/plain": [
              "(tensor([0., 0., 0., 0., 0., 0., 0., 0., 0., 0., 0., 0., 0., 0., 0., 0., 0., 0.,\n",
              "         0., 0., 0., 0., 0., 0., 0., 0., 0., 1., 0., 0., 0., 0., 0., 0., 0., 0.,\n",
              "         0., 0., 0., 0., 0., 0., 0., 0., 0., 0., 0., 0., 0., 0., 0., 0., 0., 0.,\n",
              "         0., 0., 0., 0., 0., 0., 0., 0., 0., 0., 0., 0., 0., 0., 0., 0., 0., 0.,\n",
              "         0., 0., 0., 0., 0., 0., 0., 0., 0., 0., 0., 0., 0., 0., 0., 0., 0., 0.,\n",
              "         0., 0., 0., 0., 0., 0., 0., 0., 0., 0., 0., 0., 0., 0., 0., 0., 0., 0.,\n",
              "         0., 0., 0., 0., 0., 0., 0., 0., 0., 0., 0., 0., 0., 0., 0., 0., 0., 0.,\n",
              "         0., 0., 0., 0., 0., 0., 0., 0., 0., 0., 0., 0., 0., 0., 0., 0., 0., 0.,\n",
              "         0., 0., 0., 0., 0., 0., 0., 0., 0., 0., 0., 0., 0., 0., 0., 0., 0., 0.,\n",
              "         0., 0., 0., 0., 0., 0., 0., 0., 0., 0., 0., 0., 0., 0., 0., 0., 0., 0.,\n",
              "         0., 0., 0., 0., 0., 0., 0., 0., 0., 0., 0., 0., 0., 0., 0., 0., 0., 0.,\n",
              "         0., 0., 0., 0., 0., 0., 0., 0., 0., 0., 0., 0., 0., 0., 0., 0., 0., 0.,\n",
              "         0., 0., 0., 0., 0., 0., 0., 0., 0., 0., 0., 0., 0., 0., 0., 0., 0., 0.,\n",
              "         0., 0., 0., 0., 0., 0., 0., 0., 0., 0., 0., 0., 0., 0., 0., 0., 0., 0.,\n",
              "         0., 0., 0., 0., 0., 0., 0., 0., 0., 0., 0., 0., 0., 0., 0., 0., 0., 0.,\n",
              "         0., 0., 0., 0., 0., 0., 0., 0., 0., 0., 0., 0., 0., 0., 0., 0., 0., 0.,\n",
              "         0., 0., 0., 0., 0., 0., 0., 0., 0., 0., 0., 0.]),\n",
              " tensor([2.8856e-02, 2.4905e-02, 3.9314e-03, 7.2832e-03, 4.1272e-03, 1.8907e-02,\n",
              "         9.6762e-04, 5.3425e-03, 1.3643e-02, 7.1297e-03, 1.4632e-02, 1.6559e-03,\n",
              "         2.2600e-02, 2.4238e-08, 1.3302e-02, 8.5326e-03, 1.5317e-02, 2.8744e-14,\n",
              "         2.3111e-03, 4.3074e-03, 7.3267e-03, 2.9433e-14, 1.5826e-02, 4.0611e-03,\n",
              "         3.4638e-03, 2.0279e-03, 9.4591e-03, 6.5223e-03, 2.9056e-14, 3.7948e-04,\n",
              "         7.2510e-03, 2.5874e-03, 2.3487e-03, 3.1194e-03, 1.8268e-02, 2.0851e-02,\n",
              "         1.0176e-02, 6.2345e-03, 2.4178e-03, 1.6071e-03, 1.8775e-02, 1.9163e-02,\n",
              "         4.5624e-03, 9.6966e-03, 8.4435e-03, 2.9329e-03, 6.8214e-03, 8.9947e-03,\n",
              "         5.4453e-03, 1.0018e-02, 1.4065e-02, 5.2890e-03, 2.7115e-03, 7.6479e-03,\n",
              "         1.0768e-03, 1.6717e-02, 2.4312e-02, 2.8274e-14, 7.8490e-03, 5.2248e-03,\n",
              "         1.6246e-03, 2.1243e-03, 4.2860e-03, 3.9043e-03, 2.8922e-03, 1.3255e-03,\n",
              "         1.5148e-02, 1.6473e-02, 3.4560e-03, 3.7649e-03, 2.5104e-03, 4.0921e-04,\n",
              "         4.0000e-03, 2.3054e-02, 9.5692e-03, 5.6460e-03, 2.9974e-14, 4.7306e-03,\n",
              "         2.6168e-02, 1.5477e-02, 2.4644e-10, 2.6533e-02, 2.8864e-03, 6.9445e-03,\n",
              "         1.0708e-02, 6.6759e-04, 7.6280e-03, 9.5416e-03, 1.9571e-02, 2.8697e-03,\n",
              "         1.3727e-02, 2.4856e-03, 8.9921e-03, 3.4087e-03, 5.6669e-03, 4.5005e-03,\n",
              "         6.5356e-03, 2.6019e-03, 1.0199e-02, 9.4378e-03, 4.7683e-03, 2.1301e-02,\n",
              "         2.5852e-03, 3.4312e-02, 1.4900e-02, 1.8306e-03, 7.4759e-03, 8.0560e-03,\n",
              "         1.2270e-02, 7.3345e-03, 4.6117e-03, 3.8753e-05, 1.4722e-03, 9.8770e-04,\n",
              "         1.9868e-02, 1.3192e-02, 3.9580e-03, 6.9031e-03, 1.0716e-02, 1.2291e-02,\n",
              "         2.4765e-03, 8.7450e-03, 7.8247e-03, 9.8322e-03, 1.3948e-02, 2.8520e-14,\n",
              "         9.2626e-03, 2.6510e-02, 7.6244e-03, 9.7916e-03, 2.4460e-02, 3.2213e-14,\n",
              "         9.6147e-04, 4.2117e-03, 3.8911e-09, 1.1144e-03, 3.7546e-03, 2.9982e-03,\n",
              "         4.0275e-03, 2.2089e-03, 5.9131e-03, 8.1071e-03, 8.5375e-03, 1.2460e-02,\n",
              "         6.0178e-03, 1.1308e-02, 1.1486e-02, 3.6312e-03, 2.7431e-02, 7.4397e-03,\n",
              "         1.8525e-02, 1.0742e-02, 1.8994e-02, 4.4116e-03, 1.1799e-02, 2.7447e-02,\n",
              "         7.8722e-03, 3.5193e-03, 1.1351e-02, 6.6863e-03, 4.3883e-03, 8.2012e-03,\n",
              "         1.2144e-02, 2.9829e-03, 5.6431e-04, 7.8823e-04, 4.4861e-03, 5.7199e-03,\n",
              "         5.9941e-03, 1.2988e-02, 5.7545e-03, 3.3331e-04, 1.0497e-02, 2.5454e-02,\n",
              "         1.3057e-02, 2.2753e-03, 1.2264e-02, 3.2000e-03, 9.3192e-04, 3.8495e-03,\n",
              "         6.4554e-03, 1.7472e-02, 1.0949e-03, 5.1869e-03, 1.1195e-02, 2.9799e-14,\n",
              "         4.8435e-03, 2.0271e-03, 9.6784e-03, 2.2023e-03, 2.7142e-02, 6.2346e-03,\n",
              "         5.9981e-03, 1.2474e-02, 8.2182e-03, 1.8316e-02, 7.1191e-04, 3.4787e-02,\n",
              "         1.3216e-03, 4.5442e-03, 1.7298e-02, 2.7838e-03, 4.7329e-03, 1.4041e-02,\n",
              "         9.7117e-03, 3.4188e-03, 1.1720e-03, 6.9461e-03, 6.3106e-03, 1.0474e-02,\n",
              "         5.2294e-05, 1.7759e-02, 7.8355e-03, 2.6742e-03, 1.0704e-03, 2.3716e-02,\n",
              "         4.9294e-03, 2.3888e-04, 5.0348e-03, 1.2562e-02, 5.6684e-03, 1.9643e-03,\n",
              "         3.0067e-14, 1.3619e-03, 1.1696e-02, 1.7309e-02, 8.5731e-04, 3.6901e-03,\n",
              "         1.1353e-02, 1.1537e-02, 7.7634e-03, 4.9028e-03, 2.4382e-03, 2.0466e-02,\n",
              "         3.1059e-03, 6.2558e-03, 5.1237e-04, 1.5257e-02, 3.4980e-03, 3.0504e-03,\n",
              "         4.9091e-03, 9.1035e-03, 1.3741e-02, 2.7792e-03, 2.9927e-14, 1.5615e-02,\n",
              "         9.2613e-03, 4.7409e-03, 6.3293e-03, 1.0694e-02, 2.7719e-02, 7.6502e-03,\n",
              "         1.7672e-02, 2.0879e-02, 4.1605e-03, 2.6869e-05, 6.3226e-03, 5.6551e-03,\n",
              "         1.9020e-03, 1.4446e-02, 3.1106e-03, 1.1263e-02, 3.5080e-03, 9.7012e-03,\n",
              "         7.6196e-03, 7.1531e-03, 3.5210e-14, 5.0677e-03, 9.8525e-03, 1.0304e-02,\n",
              "         1.7248e-02, 7.0690e-03, 4.2250e-03, 6.2731e-03, 1.2239e-04, 2.3781e-02,\n",
              "         2.8099e-03, 7.4354e-03, 6.1346e-03, 9.2082e-03, 1.7831e-03, 1.0035e-02,\n",
              "         5.5881e-03, 9.4755e-03, 1.8012e-03, 7.5499e-03, 1.9906e-02, 4.4811e-04,\n",
              "         5.7868e-08, 5.6347e-03, 1.0306e-02, 5.9921e-03, 3.0019e-03, 2.9421e-03,\n",
              "         5.7687e-03, 9.5538e-04, 6.9349e-03, 5.1479e-03, 4.4728e-03, 1.8104e-02],\n",
              "        device='cuda:0', grad_fn=<SqueezeBackward0>))"
            ]
          },
          "metadata": {
            "tags": []
          },
          "execution_count": 61
        }
      ]
    },
    {
      "cell_type": "code",
      "metadata": {
        "id": "R-6kkXUACV7y",
        "colab_type": "code",
        "colab": {
          "base_uri": "https://localhost:8080/",
          "height": 34
        },
        "outputId": "ecb34b08-ca6f-44a5-cf7e-172d77e9ccdf"
      },
      "source": [
        "a,b=eval_chr_vector(NUM)"
      ],
      "execution_count": 59,
      "outputs": [
        {
          "output_type": "stream",
          "text": [
            "[27]\n"
          ],
          "name": "stdout"
        }
      ]
    },
    {
      "cell_type": "code",
      "metadata": {
        "id": "nmwavHBNMTOa",
        "colab_type": "code",
        "colab": {
          "base_uri": "https://localhost:8080/",
          "height": 34
        },
        "outputId": "6931821f-5a93-4f3c-bb15-bc01079f5a9a"
      },
      "source": [
        "torch.max(b)"
      ],
      "execution_count": 62,
      "outputs": [
        {
          "output_type": "execute_result",
          "data": {
            "text/plain": [
              "tensor(0.0348, device='cuda:0', grad_fn=<MaxBackward1>)"
            ]
          },
          "metadata": {
            "tags": []
          },
          "execution_count": 62
        }
      ]
    },
    {
      "cell_type": "code",
      "metadata": {
        "id": "4M1SpODm1XYK",
        "colab_type": "code",
        "colab": {}
      },
      "source": [
        "PATH='./one_hot_wgts.pth'"
      ],
      "execution_count": 53,
      "outputs": []
    },
    {
      "cell_type": "code",
      "metadata": {
        "id": "nAZ8idsRUdD0",
        "colab_type": "code",
        "colab": {}
      },
      "source": [
        "torch.save(net.state_dict(), PATH)"
      ],
      "execution_count": 48,
      "outputs": []
    },
    {
      "cell_type": "code",
      "metadata": {
        "id": "joH8orM6Dg-a",
        "colab_type": "code",
        "colab": {
          "base_uri": "https://localhost:8080/",
          "height": 17
        },
        "outputId": "9818b1e3-9781-49a0-8d50-c7215a4dea9e"
      },
      "source": [
        "from google.colab import files\n",
        "files.download(PATH)"
      ],
      "execution_count": 27,
      "outputs": [
        {
          "output_type": "display_data",
          "data": {
            "application/javascript": [
              "\n",
              "    async function download(id, filename, size) {\n",
              "      if (!google.colab.kernel.accessAllowed) {\n",
              "        return;\n",
              "      }\n",
              "      const div = document.createElement('div');\n",
              "      const label = document.createElement('label');\n",
              "      label.textContent = `Downloading \"${filename}\": `;\n",
              "      div.appendChild(label);\n",
              "      const progress = document.createElement('progress');\n",
              "      progress.max = size;\n",
              "      div.appendChild(progress);\n",
              "      document.body.appendChild(div);\n",
              "\n",
              "      const buffers = [];\n",
              "      let downloaded = 0;\n",
              "\n",
              "      const channel = await google.colab.kernel.comms.open(id);\n",
              "      // Send a message to notify the kernel that we're ready.\n",
              "      channel.send({})\n",
              "\n",
              "      for await (const message of channel.messages) {\n",
              "        // Send a message to notify the kernel that we're ready.\n",
              "        channel.send({})\n",
              "        if (message.buffers) {\n",
              "          for (const buffer of message.buffers) {\n",
              "            buffers.push(buffer);\n",
              "            downloaded += buffer.byteLength;\n",
              "            progress.value = downloaded;\n",
              "          }\n",
              "        }\n",
              "      }\n",
              "      const blob = new Blob(buffers, {type: 'application/binary'});\n",
              "      const a = document.createElement('a');\n",
              "      a.href = window.URL.createObjectURL(blob);\n",
              "      a.download = filename;\n",
              "      div.appendChild(a);\n",
              "      a.click();\n",
              "      div.remove();\n",
              "    }\n",
              "  "
            ],
            "text/plain": [
              "<IPython.core.display.Javascript object>"
            ]
          },
          "metadata": {
            "tags": []
          }
        },
        {
          "output_type": "display_data",
          "data": {
            "application/javascript": [
              "download(\"download_238e2a05-4cee-4d92-b9d8-9fb55fa6bccd\", \"one_hot_wgts.pth\", 29449729)"
            ],
            "text/plain": [
              "<IPython.core.display.Javascript object>"
            ]
          },
          "metadata": {
            "tags": []
          }
        }
      ]
    },
    {
      "cell_type": "code",
      "metadata": {
        "id": "-IG0_tr2Uti2",
        "colab_type": "code",
        "colab": {
          "base_uri": "https://localhost:8080/",
          "height": 544
        },
        "outputId": "401c466b-e95a-441b-a927-3dba480cb2c3"
      },
      "source": [
        "net.load_state_dict(torch.load(PATH))\n",
        "net.eval()"
      ],
      "execution_count": 28,
      "outputs": [
        {
          "output_type": "execute_result",
          "data": {
            "text/plain": [
              "one_hot_network(\n",
              "  (block): Sequential(\n",
              "    (0): Conv2d(1, 32, kernel_size=(7, 7), stride=(2, 2))\n",
              "    (1): BatchNorm2d(32, eps=1e-05, momentum=0.1, affine=True, track_running_stats=True)\n",
              "    (2): ReLU(inplace=True)\n",
              "    (3): Conv2d(32, 32, kernel_size=(3, 3), stride=(1, 1), padding=(1, 1))\n",
              "    (4): BatchNorm2d(32, eps=1e-05, momentum=0.1, affine=True, track_running_stats=True)\n",
              "    (5): ReLU(inplace=True)\n",
              "    (6): Conv2d(32, 32, kernel_size=(3, 3), stride=(1, 1), padding=(1, 1))\n",
              "    (7): BatchNorm2d(32, eps=1e-05, momentum=0.1, affine=True, track_running_stats=True)\n",
              "    (8): ReLU(inplace=True)\n",
              "    (9): Conv2d(32, 64, kernel_size=(3, 3), stride=(2, 2))\n",
              "    (10): BatchNorm2d(64, eps=1e-05, momentum=0.1, affine=True, track_running_stats=True)\n",
              "    (11): ReLU(inplace=True)\n",
              "    (12): Conv2d(64, 64, kernel_size=(3, 3), stride=(1, 1), padding=(1, 1))\n",
              "    (13): BatchNorm2d(64, eps=1e-05, momentum=0.1, affine=True, track_running_stats=True)\n",
              "    (14): ReLU(inplace=True)\n",
              "    (15): Conv2d(64, 256, kernel_size=(3, 3), stride=(2, 2))\n",
              "    (16): BatchNorm2d(256, eps=1e-05, momentum=0.1, affine=True, track_running_stats=True)\n",
              "    (17): ReLU(inplace=True)\n",
              "    (18): Conv2d(256, 512, kernel_size=(3, 3), stride=(2, 2))\n",
              "    (19): BatchNorm2d(512, eps=1e-05, momentum=0.1, affine=True, track_running_stats=True)\n",
              "    (20): ReLU(inplace=True)\n",
              "    (21): Conv2d(512, 1024, kernel_size=(3, 3), stride=(2, 2))\n",
              "    (22): BatchNorm2d(1024, eps=1e-05, momentum=0.1, affine=True, track_running_stats=True)\n",
              "    (23): ReLU(inplace=True)\n",
              "  )\n",
              "  (fc): Sequential(\n",
              "    (0): Linear(in_features=4096, out_features=300, bias=True)\n",
              "  )\n",
              ")"
            ]
          },
          "metadata": {
            "tags": []
          },
          "execution_count": 28
        }
      ]
    },
    {
      "cell_type": "code",
      "metadata": {
        "id": "yISu9khz1d5b",
        "colab_type": "code",
        "colab": {}
      },
      "source": [
        ""
      ],
      "execution_count": null,
      "outputs": []
    }
  ]
}