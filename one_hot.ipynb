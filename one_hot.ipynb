{
  "nbformat": 4,
  "nbformat_minor": 0,
  "metadata": {
    "kernelspec": {
      "display_name": "Python 3",
      "language": "python",
      "name": "python3"
    },
    "language_info": {
      "codemirror_mode": {
        "name": "ipython",
        "version": 3
      },
      "file_extension": ".py",
      "mimetype": "text/x-python",
      "name": "python",
      "nbconvert_exporter": "python",
      "pygments_lexer": "ipython3",
      "version": "3.7.4"
    },
    "colab": {
      "name": "one-hot.ipynb",
      "provenance": [],
      "collapsed_sections": [],
      "include_colab_link": true
    },
    "accelerator": "GPU",
    "widgets": {
      "application/vnd.jupyter.widget-state+json": {
        "4c4f211cd0b04209b651c3c9ee9cbf1b": {
          "model_module": "@jupyter-widgets/controls",
          "model_name": "HBoxModel",
          "state": {
            "_view_name": "HBoxView",
            "_dom_classes": [],
            "_model_name": "HBoxModel",
            "_view_module": "@jupyter-widgets/controls",
            "_model_module_version": "1.5.0",
            "_view_count": null,
            "_view_module_version": "1.5.0",
            "box_style": "",
            "layout": "IPY_MODEL_7c2f0f5669ae40f0937500d17026de33",
            "_model_module": "@jupyter-widgets/controls",
            "children": [
              "IPY_MODEL_71351218fe20422f85ffa2767c60fe18",
              "IPY_MODEL_e1db0974c5fa49498d62cdc4e207f18a"
            ]
          }
        },
        "7c2f0f5669ae40f0937500d17026de33": {
          "model_module": "@jupyter-widgets/base",
          "model_name": "LayoutModel",
          "state": {
            "_view_name": "LayoutView",
            "grid_template_rows": null,
            "right": null,
            "justify_content": null,
            "_view_module": "@jupyter-widgets/base",
            "overflow": null,
            "_model_module_version": "1.2.0",
            "_view_count": null,
            "flex_flow": null,
            "width": null,
            "min_width": null,
            "border": null,
            "align_items": null,
            "bottom": null,
            "_model_module": "@jupyter-widgets/base",
            "top": null,
            "grid_column": null,
            "overflow_y": null,
            "overflow_x": null,
            "grid_auto_flow": null,
            "grid_area": null,
            "grid_template_columns": null,
            "flex": null,
            "_model_name": "LayoutModel",
            "justify_items": null,
            "grid_row": null,
            "max_height": null,
            "align_content": null,
            "visibility": null,
            "align_self": null,
            "height": null,
            "min_height": null,
            "padding": null,
            "grid_auto_rows": null,
            "grid_gap": null,
            "max_width": null,
            "order": null,
            "_view_module_version": "1.2.0",
            "grid_template_areas": null,
            "object_position": null,
            "object_fit": null,
            "grid_auto_columns": null,
            "margin": null,
            "display": null,
            "left": null
          }
        },
        "71351218fe20422f85ffa2767c60fe18": {
          "model_module": "@jupyter-widgets/controls",
          "model_name": "FloatProgressModel",
          "state": {
            "_view_name": "ProgressView",
            "style": "IPY_MODEL_3279a65562f047b7bd179fa625e6bb96",
            "_dom_classes": [],
            "description": "",
            "_model_name": "FloatProgressModel",
            "bar_style": "success",
            "max": 1,
            "_view_module": "@jupyter-widgets/controls",
            "_model_module_version": "1.5.0",
            "value": 1,
            "_view_count": null,
            "_view_module_version": "1.5.0",
            "orientation": "horizontal",
            "min": 0,
            "description_tooltip": null,
            "_model_module": "@jupyter-widgets/controls",
            "layout": "IPY_MODEL_fd02ef67fa644e379a89a76b9fef0dc7"
          }
        },
        "e1db0974c5fa49498d62cdc4e207f18a": {
          "model_module": "@jupyter-widgets/controls",
          "model_name": "HTMLModel",
          "state": {
            "_view_name": "HTMLView",
            "style": "IPY_MODEL_2aaf459e6aa446c0ba21d35228ace243",
            "_dom_classes": [],
            "description": "",
            "_model_name": "HTMLModel",
            "placeholder": "​",
            "_view_module": "@jupyter-widgets/controls",
            "_model_module_version": "1.5.0",
            "value": " 48762/? [00:33&lt;00:00, 1471.17it/s]",
            "_view_count": null,
            "_view_module_version": "1.5.0",
            "description_tooltip": null,
            "_model_module": "@jupyter-widgets/controls",
            "layout": "IPY_MODEL_29acab4147bb47bab73d8addaceeef7a"
          }
        },
        "3279a65562f047b7bd179fa625e6bb96": {
          "model_module": "@jupyter-widgets/controls",
          "model_name": "ProgressStyleModel",
          "state": {
            "_view_name": "StyleView",
            "_model_name": "ProgressStyleModel",
            "description_width": "initial",
            "_view_module": "@jupyter-widgets/base",
            "_model_module_version": "1.5.0",
            "_view_count": null,
            "_view_module_version": "1.2.0",
            "bar_color": null,
            "_model_module": "@jupyter-widgets/controls"
          }
        },
        "fd02ef67fa644e379a89a76b9fef0dc7": {
          "model_module": "@jupyter-widgets/base",
          "model_name": "LayoutModel",
          "state": {
            "_view_name": "LayoutView",
            "grid_template_rows": null,
            "right": null,
            "justify_content": null,
            "_view_module": "@jupyter-widgets/base",
            "overflow": null,
            "_model_module_version": "1.2.0",
            "_view_count": null,
            "flex_flow": null,
            "width": null,
            "min_width": null,
            "border": null,
            "align_items": null,
            "bottom": null,
            "_model_module": "@jupyter-widgets/base",
            "top": null,
            "grid_column": null,
            "overflow_y": null,
            "overflow_x": null,
            "grid_auto_flow": null,
            "grid_area": null,
            "grid_template_columns": null,
            "flex": null,
            "_model_name": "LayoutModel",
            "justify_items": null,
            "grid_row": null,
            "max_height": null,
            "align_content": null,
            "visibility": null,
            "align_self": null,
            "height": null,
            "min_height": null,
            "padding": null,
            "grid_auto_rows": null,
            "grid_gap": null,
            "max_width": null,
            "order": null,
            "_view_module_version": "1.2.0",
            "grid_template_areas": null,
            "object_position": null,
            "object_fit": null,
            "grid_auto_columns": null,
            "margin": null,
            "display": null,
            "left": null
          }
        },
        "2aaf459e6aa446c0ba21d35228ace243": {
          "model_module": "@jupyter-widgets/controls",
          "model_name": "DescriptionStyleModel",
          "state": {
            "_view_name": "StyleView",
            "_model_name": "DescriptionStyleModel",
            "description_width": "",
            "_view_module": "@jupyter-widgets/base",
            "_model_module_version": "1.5.0",
            "_view_count": null,
            "_view_module_version": "1.2.0",
            "_model_module": "@jupyter-widgets/controls"
          }
        },
        "29acab4147bb47bab73d8addaceeef7a": {
          "model_module": "@jupyter-widgets/base",
          "model_name": "LayoutModel",
          "state": {
            "_view_name": "LayoutView",
            "grid_template_rows": null,
            "right": null,
            "justify_content": null,
            "_view_module": "@jupyter-widgets/base",
            "overflow": null,
            "_model_module_version": "1.2.0",
            "_view_count": null,
            "flex_flow": null,
            "width": null,
            "min_width": null,
            "border": null,
            "align_items": null,
            "bottom": null,
            "_model_module": "@jupyter-widgets/base",
            "top": null,
            "grid_column": null,
            "overflow_y": null,
            "overflow_x": null,
            "grid_auto_flow": null,
            "grid_area": null,
            "grid_template_columns": null,
            "flex": null,
            "_model_name": "LayoutModel",
            "justify_items": null,
            "grid_row": null,
            "max_height": null,
            "align_content": null,
            "visibility": null,
            "align_self": null,
            "height": null,
            "min_height": null,
            "padding": null,
            "grid_auto_rows": null,
            "grid_gap": null,
            "max_width": null,
            "order": null,
            "_view_module_version": "1.2.0",
            "grid_template_areas": null,
            "object_position": null,
            "object_fit": null,
            "grid_auto_columns": null,
            "margin": null,
            "display": null,
            "left": null
          }
        }
      }
    }
  },
  "cells": [
    {
      "cell_type": "markdown",
      "metadata": {
        "id": "view-in-github",
        "colab_type": "text"
      },
      "source": [
        "<a href=\"https://colab.research.google.com/github/SomTambe/omniglot-bcs/blob/master/one_hot.ipynb\" target=\"_parent\"><img src=\"https://colab.research.google.com/assets/colab-badge.svg\" alt=\"Open In Colab\"/></a>"
      ]
    },
    {
      "cell_type": "code",
      "metadata": {
        "id": "Ta4g8aPfKo1u",
        "colab_type": "code",
        "colab": {
          "base_uri": "https://localhost:8080/",
          "height": 1000
        },
        "outputId": "52c2fa9f-7466-4b35-8bfb-0071c33f9c27"
      },
      "source": [
        "!wget https://github.com/SomTambe/omniglot-bcs/raw/master/splines.py\n",
        "!wget https://github.com/SomTambe/omniglot-bcs/raw/master/encoded.py\n",
        "!wget https://github.com/SomTambe/omniglot-bcs/raw/master/weights/2-d/decoder.pth\n",
        "!wget https://github.com/SomTambe/omniglot-bcs/raw/master/weights/2-d/encoder.pth\n",
        "!wget https://github.com/SomTambe/omniglot-bcs/raw/master/data_background.mat"
      ],
      "execution_count": 1,
      "outputs": [
        {
          "output_type": "stream",
          "text": [
            "--2020-07-07 05:45:11--  https://github.com/SomTambe/omniglot-bcs/raw/master/splines.py\n",
            "Resolving github.com (github.com)... 140.82.113.3\n",
            "Connecting to github.com (github.com)|140.82.113.3|:443... connected.\n",
            "HTTP request sent, awaiting response... 302 Found\n",
            "Location: https://raw.githubusercontent.com/SomTambe/omniglot-bcs/master/splines.py [following]\n",
            "--2020-07-07 05:45:12--  https://raw.githubusercontent.com/SomTambe/omniglot-bcs/master/splines.py\n",
            "Resolving raw.githubusercontent.com (raw.githubusercontent.com)... 151.101.0.133, 151.101.64.133, 151.101.128.133, ...\n",
            "Connecting to raw.githubusercontent.com (raw.githubusercontent.com)|151.101.0.133|:443... connected.\n",
            "HTTP request sent, awaiting response... 200 OK\n",
            "Length: 4642 (4.5K) [text/plain]\n",
            "Saving to: ‘splines.py’\n",
            "\n",
            "\rsplines.py            0%[                    ]       0  --.-KB/s               \rsplines.py          100%[===================>]   4.53K  --.-KB/s    in 0s      \n",
            "\n",
            "2020-07-07 05:45:12 (67.9 MB/s) - ‘splines.py’ saved [4642/4642]\n",
            "\n",
            "--2020-07-07 05:45:16--  https://github.com/SomTambe/omniglot-bcs/raw/master/encoded.py\n",
            "Resolving github.com (github.com)... 140.82.113.3\n",
            "Connecting to github.com (github.com)|140.82.113.3|:443... connected.\n",
            "HTTP request sent, awaiting response... 302 Found\n",
            "Location: https://raw.githubusercontent.com/SomTambe/omniglot-bcs/master/encoded.py [following]\n",
            "--2020-07-07 05:45:16--  https://raw.githubusercontent.com/SomTambe/omniglot-bcs/master/encoded.py\n",
            "Resolving raw.githubusercontent.com (raw.githubusercontent.com)... 151.101.0.133, 151.101.64.133, 151.101.128.133, ...\n",
            "Connecting to raw.githubusercontent.com (raw.githubusercontent.com)|151.101.0.133|:443... connected.\n",
            "HTTP request sent, awaiting response... 200 OK\n",
            "Length: 4214 (4.1K) [text/plain]\n",
            "Saving to: ‘encoded.py’\n",
            "\n",
            "encoded.py          100%[===================>]   4.12K  --.-KB/s    in 0s      \n",
            "\n",
            "2020-07-07 05:45:17 (65.7 MB/s) - ‘encoded.py’ saved [4214/4214]\n",
            "\n",
            "--2020-07-07 05:45:20--  https://github.com/SomTambe/omniglot-bcs/raw/master/weights/2-d/decoder.pth\n",
            "Resolving github.com (github.com)... 140.82.113.3\n",
            "Connecting to github.com (github.com)|140.82.113.3|:443... connected.\n",
            "HTTP request sent, awaiting response... 302 Found\n",
            "Location: https://raw.githubusercontent.com/SomTambe/omniglot-bcs/master/weights/2-d/decoder.pth [following]\n",
            "--2020-07-07 05:45:21--  https://raw.githubusercontent.com/SomTambe/omniglot-bcs/master/weights/2-d/decoder.pth\n",
            "Resolving raw.githubusercontent.com (raw.githubusercontent.com)... 151.101.0.133, 151.101.64.133, 151.101.128.133, ...\n",
            "Connecting to raw.githubusercontent.com (raw.githubusercontent.com)|151.101.0.133|:443... connected.\n",
            "HTTP request sent, awaiting response... 200 OK\n",
            "Length: 4217359 (4.0M) [application/octet-stream]\n",
            "Saving to: ‘decoder.pth’\n",
            "\n",
            "decoder.pth         100%[===================>]   4.02M  26.3MB/s    in 0.2s    \n",
            "\n",
            "2020-07-07 05:45:22 (26.3 MB/s) - ‘decoder.pth’ saved [4217359/4217359]\n",
            "\n",
            "--2020-07-07 05:45:26--  https://github.com/SomTambe/omniglot-bcs/raw/master/weights/2-d/encoder.pth\n",
            "Resolving github.com (github.com)... 140.82.113.3\n",
            "Connecting to github.com (github.com)|140.82.113.3|:443... connected.\n",
            "HTTP request sent, awaiting response... 302 Found\n",
            "Location: https://raw.githubusercontent.com/SomTambe/omniglot-bcs/master/weights/2-d/encoder.pth [following]\n",
            "--2020-07-07 05:45:27--  https://raw.githubusercontent.com/SomTambe/omniglot-bcs/master/weights/2-d/encoder.pth\n",
            "Resolving raw.githubusercontent.com (raw.githubusercontent.com)... 151.101.0.133, 151.101.64.133, 151.101.128.133, ...\n",
            "Connecting to raw.githubusercontent.com (raw.githubusercontent.com)|151.101.0.133|:443... connected.\n",
            "HTTP request sent, awaiting response... 200 OK\n",
            "Length: 4225740 (4.0M) [application/octet-stream]\n",
            "Saving to: ‘encoder.pth’\n",
            "\n",
            "encoder.pth         100%[===================>]   4.03M  20.9MB/s    in 0.2s    \n",
            "\n",
            "2020-07-07 05:45:28 (20.9 MB/s) - ‘encoder.pth’ saved [4225740/4225740]\n",
            "\n",
            "--2020-07-07 05:45:32--  https://github.com/SomTambe/omniglot-bcs/raw/master/data_background.mat\n",
            "Resolving github.com (github.com)... 140.82.113.3\n",
            "Connecting to github.com (github.com)|140.82.113.3|:443... connected.\n",
            "HTTP request sent, awaiting response... 302 Found\n",
            "Location: https://raw.githubusercontent.com/SomTambe/omniglot-bcs/master/data_background.mat [following]\n",
            "--2020-07-07 05:45:33--  https://raw.githubusercontent.com/SomTambe/omniglot-bcs/master/data_background.mat\n",
            "Resolving raw.githubusercontent.com (raw.githubusercontent.com)... 151.101.0.133, 151.101.64.133, 151.101.128.133, ...\n",
            "Connecting to raw.githubusercontent.com (raw.githubusercontent.com)|151.101.0.133|:443... connected.\n",
            "HTTP request sent, awaiting response... 200 OK\n",
            "Length: 21514095 (21M) [application/octet-stream]\n",
            "Saving to: ‘data_background.mat’\n",
            "\n",
            "data_background.mat 100%[===================>]  20.52M  50.9MB/s    in 0.4s    \n",
            "\n",
            "2020-07-07 05:45:34 (50.9 MB/s) - ‘data_background.mat’ saved [21514095/21514095]\n",
            "\n"
          ],
          "name": "stdout"
        }
      ]
    },
    {
      "cell_type": "code",
      "metadata": {
        "id": "5F5qy4nhKmK8",
        "colab_type": "code",
        "colab": {
          "base_uri": "https://localhost:8080/",
          "height": 357
        },
        "outputId": "e18293db-caea-4e91-e879-0ad524e604eb"
      },
      "source": [
        "import splines\n",
        "import torch\n",
        "import glob\n",
        "import torchvision\n",
        "import numpy as np\n",
        "import torch.nn as nn\n",
        "import torch.nn.functional as F\n",
        "import torch.optim as optim\n",
        "import matplotlib.pyplot as plt\n",
        "import torchvision.transforms as transforms\n",
        "from torchsummary import summary\n",
        "import scipy\n",
        "from tqdm.notebook import tqdm\n",
        "import plotly.graph_objects as go\n",
        "import plotly.express as px\n",
        "import encoded\n",
        "from torch.utils.data import IterableDataset, DataLoader\n",
        "!nvidia-smi"
      ],
      "execution_count": 2,
      "outputs": [
        {
          "output_type": "stream",
          "text": [
            "Tue Jul  7 05:45:41 2020       \n",
            "+-----------------------------------------------------------------------------+\n",
            "| NVIDIA-SMI 450.36.06    Driver Version: 418.67       CUDA Version: 10.1     |\n",
            "|-------------------------------+----------------------+----------------------+\n",
            "| GPU  Name        Persistence-M| Bus-Id        Disp.A | Volatile Uncorr. ECC |\n",
            "| Fan  Temp  Perf  Pwr:Usage/Cap|         Memory-Usage | GPU-Util  Compute M. |\n",
            "|                               |                      |               MIG M. |\n",
            "|===============================+======================+======================|\n",
            "|   0  Tesla P100-PCIE...  Off  | 00000000:00:04.0 Off |                    0 |\n",
            "| N/A   36C    P0    27W / 250W |     10MiB / 16280MiB |      0%      Default |\n",
            "|                               |                      |                 ERR! |\n",
            "+-------------------------------+----------------------+----------------------+\n",
            "                                                                               \n",
            "+-----------------------------------------------------------------------------+\n",
            "| Processes:                                                                  |\n",
            "|  GPU   GI   CI        PID   Type   Process name                  GPU Memory |\n",
            "|        ID   ID                                                   Usage      |\n",
            "|=============================================================================|\n",
            "|  No running processes found                                                 |\n",
            "+-----------------------------------------------------------------------------+\n"
          ],
          "name": "stdout"
        }
      ]
    },
    {
      "cell_type": "code",
      "metadata": {
        "id": "UG63K2uxKmLI",
        "colab_type": "code",
        "colab": {
          "base_uri": "https://localhost:8080/",
          "height": 35
        },
        "outputId": "4d1faa68-5c11-41c2-e9d2-ea524eb8e8d0"
      },
      "source": [
        "device=\"cuda:0\" if torch.cuda.is_available() else \"cpu\"\n",
        "device"
      ],
      "execution_count": 3,
      "outputs": [
        {
          "output_type": "execute_result",
          "data": {
            "application/vnd.google.colaboratory.intrinsic": {
              "type": "string"
            },
            "text/plain": [
              "'cuda:0'"
            ]
          },
          "metadata": {
            "tags": []
          },
          "execution_count": 3
        }
      ]
    },
    {
      "cell_type": "code",
      "metadata": {
        "id": "NntTEbdlKmLV",
        "colab_type": "code",
        "colab": {}
      },
      "source": [
        "back_dict=splines.mat_to_dict()\n",
        "spline_prims=splines.spline_dict(back_dict)\n",
        "images=splines.dict_images()"
      ],
      "execution_count": 4,
      "outputs": []
    },
    {
      "cell_type": "code",
      "metadata": {
        "id": "Vb8gz-24KmLa",
        "colab_type": "code",
        "colab": {
          "base_uri": "https://localhost:8080/",
          "height": 34
        },
        "outputId": "99d6720d-098b-45a4-8b8b-c54dc3c17bff"
      },
      "source": [
        "dataset=encoded.OmniglotData(spline_prims)\n",
        "data_loader=DataLoader(dataset,batch_size=1,shuffle=False) # Using batchsize 1 to get single primitive at a time.\n",
        "# Create instances of models\n",
        "enc=encoded.encoder(latent_dim=2).to(device)\n",
        "dec=encoded.decoder(latent_dim=2).to(device)\n",
        "# Loading weights\n",
        "# enc.load_state_dict(torch.load('./weights/2-d/encoder.pth',map_location=torch.device('cpu')))\n",
        "# dec.load_state_dict(torch.load('./weights/2-d/decoder.pth',map_location=torch.device('cpu')))\n",
        "enc.load_state_dict(torch.load('encoder.pth'))\n",
        "dec.load_state_dict(torch.load('decoder.pth'))"
      ],
      "execution_count": 5,
      "outputs": [
        {
          "output_type": "execute_result",
          "data": {
            "text/plain": [
              "<All keys matched successfully>"
            ]
          },
          "metadata": {
            "tags": []
          },
          "execution_count": 5
        }
      ]
    },
    {
      "cell_type": "code",
      "metadata": {
        "id": "U889d28aKmLh",
        "colab_type": "code",
        "colab": {
          "base_uri": "https://localhost:8080/",
          "height": 66,
          "referenced_widgets": [
            "4c4f211cd0b04209b651c3c9ee9cbf1b",
            "7c2f0f5669ae40f0937500d17026de33",
            "71351218fe20422f85ffa2767c60fe18",
            "e1db0974c5fa49498d62cdc4e207f18a",
            "3279a65562f047b7bd179fa625e6bb96",
            "fd02ef67fa644e379a89a76b9fef0dc7",
            "2aaf459e6aa446c0ba21d35228ace243",
            "29acab4147bb47bab73d8addaceeef7a"
          ]
        },
        "outputId": "ffd2ce9e-2ce8-46f6-9def-2f17d78f996e"
      },
      "source": [
        "x_2d=[]\n",
        "y_2d=[]\n",
        "for i,data in tqdm(enumerate(data_loader)):\n",
        "    data=data.to(device)\n",
        "    mu,var=enc(data)\n",
        "    lat_var=encoded.gen_latent(mu,var).squeeze().detach().cpu().numpy()\n",
        "    x_2d.append(lat_var[0].item());y_2d.append(lat_var[1].item())"
      ],
      "execution_count": 6,
      "outputs": [
        {
          "output_type": "display_data",
          "data": {
            "application/vnd.jupyter.widget-view+json": {
              "model_id": "4c4f211cd0b04209b651c3c9ee9cbf1b",
              "version_minor": 0,
              "version_major": 2
            },
            "text/plain": [
              "HBox(children=(FloatProgress(value=1.0, bar_style='info', max=1.0), HTML(value='')))"
            ]
          },
          "metadata": {
            "tags": []
          }
        },
        {
          "output_type": "stream",
          "text": [
            "\n"
          ],
          "name": "stdout"
        }
      ]
    },
    {
      "cell_type": "code",
      "metadata": {
        "id": "4n3JTfVOKmLn",
        "colab_type": "code",
        "colab": {
          "base_uri": "https://localhost:8080/",
          "height": 34
        },
        "outputId": "983e73ed-e9c4-4a5b-c1e9-b14020d0e509"
      },
      "source": [
        "from sklearn.cluster import KMeans\n",
        "import time\n",
        "start=time.time()\n",
        "X=np.concatenate((np.reshape(x_2d,(-1,1)),np.reshape(y_2d,(-1,1))),axis=1)\n",
        "kmeans = KMeans(300, random_state=0)\n",
        "labels = kmeans.fit(X).predict(X)\n",
        "print(\"%d\"%(time.time()-start))"
      ],
      "execution_count": 7,
      "outputs": [
        {
          "output_type": "stream",
          "text": [
            "67\n"
          ],
          "name": "stdout"
        }
      ]
    },
    {
      "cell_type": "code",
      "metadata": {
        "id": "Te8zaFAwKmLr",
        "colab_type": "code",
        "colab": {
          "base_uri": "https://localhost:8080/",
          "height": 51
        },
        "outputId": "de3682f7-dd82-48c7-f735-d6177d9ecaf3"
      },
      "source": [
        "print(len(labels))\n",
        "print('max: ',np.max(labels,0))"
      ],
      "execution_count": 8,
      "outputs": [
        {
          "output_type": "stream",
          "text": [
            "48762\n",
            "max:  299\n"
          ],
          "name": "stdout"
        }
      ]
    },
    {
      "cell_type": "code",
      "metadata": {
        "id": "ozNNfNh5KmL2",
        "colab_type": "code",
        "colab": {}
      },
      "source": [
        "# Let us now prepare the dataloader for the next model, for performing \n",
        "# supervised learning using the one-hot encoded vectors of a particular character.\n",
        "\n",
        "class OneHotDataset(IterableDataset):\n",
        "    \"\"\"\n",
        "    Iterable form dataset for providing one-hot encoded vectors for each character.\n",
        "    \n",
        "    Args:\n",
        "        data (dict): Just pass the spline_prims variable.\n",
        "        images (dict): Just pass the image dict.\n",
        "        labels (iterable type object): Labels for clustered data.\n",
        "        \n",
        "    Returns:\n",
        "        (Tensor) : One-hot encoded vector of length 300. (image,target)\n",
        "    \"\"\"\n",
        "    def __init__(self,data,images,labels,oh_len):\n",
        "        self.data=data\n",
        "        self.images=images\n",
        "        self.labels=labels\n",
        "        self.oh_len=oh_len\n",
        "    \n",
        "    def stream(self):\n",
        "        # spline_prims[lang][char][inst][0][primitive]\n",
        "        # images[lang][char][0]['image'][inst][0] -> (105,105) numpy ndarray\n",
        "        count=0\n",
        "        for lang in self.data:\n",
        "            for i,char in enumerate(self.data[lang]):\n",
        "                for j,inst in enumerate(char):\n",
        "                    vector=np.zeros((self.oh_len))\n",
        "                    for prim in inst[0]:\n",
        "                        # yield torch.tensor(prim.reshape(-1)).float()\n",
        "                        # yield torch.tensor(self.normalize(prim).reshape(-1)).float()\n",
        "                        idx=self.labels[count]\n",
        "                        # vector[idx]+=1.\n",
        "                        if vector[idx]==0:\n",
        "                            vector[idx]+=1.\n",
        "                        count+=1\n",
        "                    # yield [image,vector]\n",
        "                    img=self.images[lang][i][0]['image'][j][0]\n",
        "                    yield [torch.tensor(img).unsqueeze(0).float(),torch.tensor(vector).float()]\n",
        "                    \n",
        "    def __len__(self):\n",
        "        return int(19280) # Literally meaningless, hardcoded\n",
        "    \n",
        "    def __iter__(self):\n",
        "        return self.stream()\n",
        "        "
      ],
      "execution_count": 38,
      "outputs": []
    },
    {
      "cell_type": "code",
      "metadata": {
        "id": "l5vDui4kKmL8",
        "colab_type": "code",
        "colab": {}
      },
      "source": [
        "def which_cluster(vector):\n",
        "    \"\"\"\n",
        "    Dummy function to just give the indices of the clusters.\n",
        "    \n",
        "    Arg:\n",
        "        vector: You know what it is.\n",
        "    \"\"\"\n",
        "    vector=vector.reshape(-1)\n",
        "    which=[]\n",
        "    idx=0\n",
        "    for _ in vector:\n",
        "        # if vector[idx]==1:\n",
        "        #     which.append(idx)\n",
        "        # if vector[idx]>1:\n",
        "        #     which.append('{0},special'.format(idx))\n",
        "        if vector[idx]>0:\n",
        "            which.append(idx)\n",
        "        idx+=1\n",
        "    return which"
      ],
      "execution_count": 75,
      "outputs": []
    },
    {
      "cell_type": "code",
      "metadata": {
        "id": "WAB3pPVTKmMA",
        "colab_type": "code",
        "colab": {}
      },
      "source": [
        "dataset=OneHotDataset(data=spline_prims,images=images,labels=labels,oh_len=300)\n",
        "data_loader=DataLoader(dataset,batch_size=1)"
      ],
      "execution_count": 40,
      "outputs": []
    },
    {
      "cell_type": "code",
      "metadata": {
        "id": "reJSrvMwKmMG",
        "colab_type": "code",
        "colab": {
          "base_uri": "https://localhost:8080/",
          "height": 285
        },
        "outputId": "e1fda90a-4c1f-47f1-aa23-99c26d362a56"
      },
      "source": [
        "plot=96\n",
        "for k,i in enumerate(data_loader):\n",
        "#     print(i[0].shape,i[1].shape)\n",
        "    if plot==k:\n",
        "        print(which_cluster(i[1]))\n",
        "        plt.imshow(i[0].squeeze().detach().cpu().numpy(),cmap='gray')\n",
        "        break\n",
        "#     print(type(i[0]),type(i[1]))\n",
        "#     print(which_cluster(i[1]))\n",
        "plt.show()"
      ],
      "execution_count": 43,
      "outputs": [
        {
          "output_type": "stream",
          "text": [
            "[22, 152, 172, 184, 236]\n"
          ],
          "name": "stdout"
        },
        {
          "output_type": "display_data",
          "data": {
            "image/png": "[encoded data removed]",
            "text/plain": [
              "<Figure size 432x288 with 1 Axes>"
            ]
          },
          "metadata": {
            "tags": [],
            "needs_background": "light"
          }
        }
      ]
    },
    {
      "cell_type": "code",
      "metadata": {
        "id": "_zS1YNpuKmMM",
        "colab_type": "code",
        "colab": {
          "base_uri": "https://localhost:8080/",
          "height": 34
        },
        "outputId": "fc562520-d6ff-4174-bb5e-e4be2b16a964"
      },
      "source": [
        "len(data_loader)"
      ],
      "execution_count": 44,
      "outputs": [
        {
          "output_type": "execute_result",
          "data": {
            "text/plain": [
              "19280"
            ]
          },
          "metadata": {
            "tags": []
          },
          "execution_count": 44
        }
      ]
    },
    {
      "cell_type": "code",
      "metadata": {
        "id": "mUE_WD3mKmMW",
        "colab_type": "code",
        "colab": {}
      },
      "source": [
        "# Lets build the CNN now."
      ],
      "execution_count": 45,
      "outputs": []
    },
    {
      "cell_type": "code",
      "metadata": {
        "id": "HlBvXRcQKmMa",
        "colab_type": "code",
        "colab": {}
      },
      "source": [
        "class one_hot_network(nn.Module):\n",
        "    def __init__(self):\n",
        "        super().__init__()\n",
        "        self.block=nn.Sequential(\n",
        "            nn.Conv2d(1,32,(7,7),stride=2), # outputs 50x50 image\n",
        "            nn.BatchNorm2d(32),\n",
        "            nn.ReLU(True),\n",
        "            nn.Conv2d(32,32,(3,3),stride=1,padding=1),\n",
        "            nn.BatchNorm2d(32),\n",
        "            nn.ReLU(True),\n",
        "            nn.Conv2d(32,32,(3,3),stride=1,padding=1),\n",
        "            nn.BatchNorm2d(32),\n",
        "            nn.ReLU(True),\n",
        "            nn.Conv2d(32,64,(3,3),stride=2),\n",
        "            nn.BatchNorm2d(64),\n",
        "            nn.ReLU(True),\n",
        "            nn.Conv2d(64,64,(3,3),stride=1,padding=1),\n",
        "            nn.BatchNorm2d(64),\n",
        "            nn.ReLU(True),\n",
        "            nn.Conv2d(64,256,(3,3),stride=2),\n",
        "            nn.BatchNorm2d(256),\n",
        "            nn.ReLU(True),\n",
        "            nn.Conv2d(256,512,(3,3),stride=2), ##\n",
        "            nn.BatchNorm2d(512),\n",
        "            nn.ReLU(True),\n",
        "            nn.Conv2d(512,1024,(3,3),stride=2),\n",
        "            nn.BatchNorm2d(1024),\n",
        "            nn.ReLU(True),\n",
        "        )\n",
        "        self.fc=nn.Sequential(\n",
        "            nn.Linear(1024*2*2,300)\n",
        "        )\n",
        "\n",
        "    def forward(self,x):\n",
        "        bsize=x.size(0)\n",
        "        x=self.block(x)\n",
        "        x=x.view(bsize,-1)\n",
        "        x=self.fc(x)\n",
        "        return F.sigmoid(x)"
      ],
      "execution_count": 54,
      "outputs": []
    },
    {
      "cell_type": "code",
      "metadata": {
        "id": "zx1Nz10Oyx8U",
        "colab_type": "code",
        "colab": {}
      },
      "source": [
        "net=one_hot_network().to(device)"
      ],
      "execution_count": 62,
      "outputs": []
    },
    {
      "cell_type": "code",
      "metadata": {
        "id": "jq_CHBag6lnx",
        "colab_type": "code",
        "colab": {
          "base_uri": "https://localhost:8080/",
          "height": 663
        },
        "outputId": "b47a145e-504f-4670-b297-84343d600d6a"
      },
      "source": [
        "summary(net,(1,105,105))"
      ],
      "execution_count": 63,
      "outputs": [
        {
          "output_type": "stream",
          "text": [
            "----------------------------------------------------------------\n",
            "        Layer (type)               Output Shape         Param #\n",
            "================================================================\n",
            "            Conv2d-1           [-1, 32, 50, 50]           1,600\n",
            "       BatchNorm2d-2           [-1, 32, 50, 50]              64\n",
            "              ReLU-3           [-1, 32, 50, 50]               0\n",
            "            Conv2d-4           [-1, 32, 50, 50]           9,248\n",
            "       BatchNorm2d-5           [-1, 32, 50, 50]              64\n",
            "              ReLU-6           [-1, 32, 50, 50]               0\n",
            "            Conv2d-7           [-1, 32, 50, 50]           9,248\n",
            "       BatchNorm2d-8           [-1, 32, 50, 50]              64\n",
            "              ReLU-9           [-1, 32, 50, 50]               0\n",
            "           Conv2d-10           [-1, 64, 24, 24]          18,496\n",
            "      BatchNorm2d-11           [-1, 64, 24, 24]             128\n",
            "             ReLU-12           [-1, 64, 24, 24]               0\n",
            "           Conv2d-13           [-1, 64, 24, 24]          36,928\n",
            "      BatchNorm2d-14           [-1, 64, 24, 24]             128\n",
            "             ReLU-15           [-1, 64, 24, 24]               0\n",
            "           Conv2d-16          [-1, 256, 11, 11]         147,712\n",
            "      BatchNorm2d-17          [-1, 256, 11, 11]             512\n",
            "             ReLU-18          [-1, 256, 11, 11]               0\n",
            "           Conv2d-19            [-1, 512, 5, 5]       1,180,160\n",
            "      BatchNorm2d-20            [-1, 512, 5, 5]           1,024\n",
            "             ReLU-21            [-1, 512, 5, 5]               0\n",
            "           Conv2d-22           [-1, 1024, 2, 2]       4,719,616\n",
            "      BatchNorm2d-23           [-1, 1024, 2, 2]           2,048\n",
            "             ReLU-24           [-1, 1024, 2, 2]               0\n",
            "           Linear-25                  [-1, 300]       1,229,100\n",
            "================================================================\n",
            "Total params: 7,356,140\n",
            "Trainable params: 7,356,140\n",
            "Non-trainable params: 0\n",
            "----------------------------------------------------------------\n",
            "Input size (MB): 0.04\n",
            "Forward/backward pass size (MB): 8.28\n",
            "Params size (MB): 28.06\n",
            "Estimated Total Size (MB): 36.38\n",
            "----------------------------------------------------------------\n"
          ],
          "name": "stdout"
        }
      ]
    },
    {
      "cell_type": "code",
      "metadata": {
        "id": "EueISnrH6w3T",
        "colab_type": "code",
        "colab": {}
      },
      "source": [
        "num_epochs=100"
      ],
      "execution_count": 64,
      "outputs": []
    },
    {
      "cell_type": "code",
      "metadata": {
        "id": "jEDFimgb8rFG",
        "colab_type": "code",
        "colab": {}
      },
      "source": [
        "data_loader=DataLoader(dataset,batch_size=32)\n",
        "criterion=nn.MSELoss()\n",
        "opt=optim.Adam(net.parameters(),lr=1e-5)"
      ],
      "execution_count": 65,
      "outputs": []
    },
    {
      "cell_type": "code",
      "metadata": {
        "id": "MQjLqqCh_3TN",
        "colab_type": "code",
        "colab": {}
      },
      "source": [
        "import warnings\n",
        "warnings.filterwarnings(\"ignore\")"
      ],
      "execution_count": 66,
      "outputs": []
    },
    {
      "cell_type": "code",
      "metadata": {
        "id": "ZZlAj9gx8ZvX",
        "colab_type": "code",
        "colab": {
          "base_uri": "https://localhost:8080/",
          "height": 868
        },
        "outputId": "f962e442-f85d-4754-9c23-bddb80d9d2c6"
      },
      "source": [
        "for epoch in range(num_epochs):\n",
        "    running_loss=.0\n",
        "    for i,data in enumerate(data_loader):\n",
        "        data,target=data[0].to(device),data[1].to(device)\n",
        "        out=net(data)\n",
        "        loss=criterion(out,target)\n",
        "\n",
        "        loss.backward()\n",
        "        opt.step()\n",
        "\n",
        "        running_loss+=loss.item()\n",
        "    print(\"[%d/%d]  running_loss=%.3f\"%(epoch+1,num_epochs,running_loss))"
      ],
      "execution_count": 67,
      "outputs": [
        {
          "output_type": "stream",
          "text": [
            "[1/100]  running_loss=13.242\n",
            "[2/100]  running_loss=4.932\n",
            "[3/100]  running_loss=4.932\n",
            "[4/100]  running_loss=4.932\n",
            "[5/100]  running_loss=4.932\n",
            "[6/100]  running_loss=4.932\n",
            "[7/100]  running_loss=4.932\n",
            "[8/100]  running_loss=4.932\n",
            "[9/100]  running_loss=4.932\n",
            "[10/100]  running_loss=4.932\n",
            "[11/100]  running_loss=4.932\n",
            "[12/100]  running_loss=4.932\n",
            "[13/100]  running_loss=4.932\n",
            "[14/100]  running_loss=4.932\n",
            "[15/100]  running_loss=4.932\n",
            "[16/100]  running_loss=4.932\n",
            "[17/100]  running_loss=4.932\n",
            "[18/100]  running_loss=4.932\n",
            "[19/100]  running_loss=4.932\n",
            "[20/100]  running_loss=4.932\n",
            "[21/100]  running_loss=4.932\n",
            "[22/100]  running_loss=4.932\n",
            "[23/100]  running_loss=4.932\n",
            "[24/100]  running_loss=4.932\n",
            "[25/100]  running_loss=4.932\n",
            "[26/100]  running_loss=4.932\n",
            "[27/100]  running_loss=4.932\n",
            "[28/100]  running_loss=4.932\n",
            "[29/100]  running_loss=4.932\n"
          ],
          "name": "stdout"
        },
        {
          "output_type": "error",
          "ename": "KeyboardInterrupt",
          "evalue": "ignored",
          "traceback": [
            "\u001b[0;31m---------------------------------------------------------------------------\u001b[0m",
            "\u001b[0;31mKeyboardInterrupt\u001b[0m                         Traceback (most recent call last)",
            "\u001b[0;32m<ipython-input-67-b4d5f9efb4f9>\u001b[0m in \u001b[0;36m<module>\u001b[0;34m()\u001b[0m\n\u001b[1;32m      6\u001b[0m         \u001b[0mloss\u001b[0m\u001b[0;34m=\u001b[0m\u001b[0mcriterion\u001b[0m\u001b[0;34m(\u001b[0m\u001b[0mout\u001b[0m\u001b[0;34m,\u001b[0m\u001b[0mtarget\u001b[0m\u001b[0;34m)\u001b[0m\u001b[0;34m\u001b[0m\u001b[0;34m\u001b[0m\u001b[0m\n\u001b[1;32m      7\u001b[0m \u001b[0;34m\u001b[0m\u001b[0m\n\u001b[0;32m----> 8\u001b[0;31m         \u001b[0mloss\u001b[0m\u001b[0;34m.\u001b[0m\u001b[0mbackward\u001b[0m\u001b[0;34m(\u001b[0m\u001b[0;34m)\u001b[0m\u001b[0;34m\u001b[0m\u001b[0;34m\u001b[0m\u001b[0m\n\u001b[0m\u001b[1;32m      9\u001b[0m         \u001b[0mopt\u001b[0m\u001b[0;34m.\u001b[0m\u001b[0mstep\u001b[0m\u001b[0;34m(\u001b[0m\u001b[0;34m)\u001b[0m\u001b[0;34m\u001b[0m\u001b[0;34m\u001b[0m\u001b[0m\n\u001b[1;32m     10\u001b[0m \u001b[0;34m\u001b[0m\u001b[0m\n",
            "\u001b[0;32m/usr/local/lib/python3.6/dist-packages/torch/tensor.py\u001b[0m in \u001b[0;36mbackward\u001b[0;34m(self, gradient, retain_graph, create_graph)\u001b[0m\n\u001b[1;32m    196\u001b[0m                 \u001b[0mproducts\u001b[0m\u001b[0;34m.\u001b[0m \u001b[0mDefaults\u001b[0m \u001b[0mto\u001b[0m\u001b[0;31m \u001b[0m\u001b[0;31m`\u001b[0m\u001b[0;31m`\u001b[0m\u001b[0;32mFalse\u001b[0m\u001b[0;31m`\u001b[0m\u001b[0;31m`\u001b[0m\u001b[0;34m.\u001b[0m\u001b[0;34m\u001b[0m\u001b[0;34m\u001b[0m\u001b[0m\n\u001b[1;32m    197\u001b[0m         \"\"\"\n\u001b[0;32m--> 198\u001b[0;31m         \u001b[0mtorch\u001b[0m\u001b[0;34m.\u001b[0m\u001b[0mautograd\u001b[0m\u001b[0;34m.\u001b[0m\u001b[0mbackward\u001b[0m\u001b[0;34m(\u001b[0m\u001b[0mself\u001b[0m\u001b[0;34m,\u001b[0m \u001b[0mgradient\u001b[0m\u001b[0;34m,\u001b[0m \u001b[0mretain_graph\u001b[0m\u001b[0;34m,\u001b[0m \u001b[0mcreate_graph\u001b[0m\u001b[0;34m)\u001b[0m\u001b[0;34m\u001b[0m\u001b[0;34m\u001b[0m\u001b[0m\n\u001b[0m\u001b[1;32m    199\u001b[0m \u001b[0;34m\u001b[0m\u001b[0m\n\u001b[1;32m    200\u001b[0m     \u001b[0;32mdef\u001b[0m \u001b[0mregister_hook\u001b[0m\u001b[0;34m(\u001b[0m\u001b[0mself\u001b[0m\u001b[0;34m,\u001b[0m \u001b[0mhook\u001b[0m\u001b[0;34m)\u001b[0m\u001b[0;34m:\u001b[0m\u001b[0;34m\u001b[0m\u001b[0;34m\u001b[0m\u001b[0m\n",
            "\u001b[0;32m/usr/local/lib/python3.6/dist-packages/torch/autograd/__init__.py\u001b[0m in \u001b[0;36mbackward\u001b[0;34m(tensors, grad_tensors, retain_graph, create_graph, grad_variables)\u001b[0m\n\u001b[1;32m     98\u001b[0m     Variable._execution_engine.run_backward(\n\u001b[1;32m     99\u001b[0m         \u001b[0mtensors\u001b[0m\u001b[0;34m,\u001b[0m \u001b[0mgrad_tensors\u001b[0m\u001b[0;34m,\u001b[0m \u001b[0mretain_graph\u001b[0m\u001b[0;34m,\u001b[0m \u001b[0mcreate_graph\u001b[0m\u001b[0;34m,\u001b[0m\u001b[0;34m\u001b[0m\u001b[0;34m\u001b[0m\u001b[0m\n\u001b[0;32m--> 100\u001b[0;31m         allow_unreachable=True)  # allow_unreachable flag\n\u001b[0m\u001b[1;32m    101\u001b[0m \u001b[0;34m\u001b[0m\u001b[0m\n\u001b[1;32m    102\u001b[0m \u001b[0;34m\u001b[0m\u001b[0m\n",
            "\u001b[0;31mKeyboardInterrupt\u001b[0m: "
          ]
        }
      ]
    },
    {
      "cell_type": "code",
      "metadata": {
        "id": "9NPuUuJ4_0k7",
        "colab_type": "code",
        "colab": {}
      },
      "source": [
        "def eval_chr_vector(chr):\n",
        "    \"\"\"\n",
        "    Function to evaluate the one-hot vector of given chr index.\n",
        "    Args:\n",
        "        chr (int): Index of character you want to test. Must be lesser than 19280.\n",
        "    \"\"\"\n",
        "    dataset=OneHotDataset(data=spline_prims,images=images,labels=labels,oh_len=300)\n",
        "    d_loader=DataLoader(dataset,batch_size=1)\n",
        "\n",
        "    for i,data in enumerate(d_loader):\n",
        "        if i==chr:\n",
        "            og_vec=data[1]\n",
        "            d_vec=net(data[0].to(device))\n",
        "            # print(which_cluster(og_vec.squeeze()),which_cluster(d_vec.squeeze()))\n",
        "            return (which_cluster(og_vec.squeeze()),which_cluster(d_vec.squeeze()))"
      ],
      "execution_count": 85,
      "outputs": []
    },
    {
      "cell_type": "code",
      "metadata": {
        "id": "R-6kkXUACV7y",
        "colab_type": "code",
        "colab": {
          "base_uri": "https://localhost:8080/",
          "height": 34
        },
        "outputId": "4cb95e6d-8b69-4d85-b9ea-23ac9133bed2"
      },
      "source": [
        "eval_chr_vector(1928)"
      ],
      "execution_count": 87,
      "outputs": [
        {
          "output_type": "execute_result",
          "data": {
            "text/plain": [
              "([128], [])"
            ]
          },
          "metadata": {
            "tags": []
          },
          "execution_count": 87
        }
      ]
    },
    {
      "cell_type": "code",
      "metadata": {
        "id": "joH8orM6Dg-a",
        "colab_type": "code",
        "colab": {}
      },
      "source": [
        ""
      ],
      "execution_count": null,
      "outputs": []
    }
  ]
}