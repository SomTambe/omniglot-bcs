{
 "cells": [
  {
   "cell_type": "code",
   "execution_count": 2,
   "metadata": {},
   "outputs": [
    {
     "name": "stdout",
     "output_type": "stream",
     "text": [
      "README.md              images_background.zip  splines.py\r\n",
      "\u001b[34m__pycache__\u001b[m\u001b[m/           models.ipynb           \u001b[34mweights\u001b[m\u001b[m/\r\n",
      "data_background.mat    own_model_bcs.ipynb\r\n",
      "evaluate.ipynb         rdp.py\r\n",
      "\r\n",
      "./__pycache__:\r\n",
      "splines.cpython-37.pyc\r\n",
      "\r\n",
      "./weights:\r\n",
      "decoder.pth  encoder.pth\r\n"
     ]
    }
   ],
   "source": [
    "ls -R"
   ]
  },
  {
   "cell_type": "code",
   "execution_count": 3,
   "metadata": {},
   "outputs": [
    {
     "name": "stdout",
     "output_type": "stream",
     "text": [
      "/bin/sh: nvidia-smi: command not found\r\n"
     ]
    }
   ],
   "source": [
    "import splines\n",
    "import torch\n",
    "import glob\n",
    "import torchvision\n",
    "import numpy as np\n",
    "import torch.nn as nn\n",
    "import torch.nn.functional as F\n",
    "import torch.optim as optim\n",
    "import matplotlib.pyplot as plt\n",
    "import torchvision.transforms as transforms\n",
    "from torchsummary import summary\n",
    "import scipy\n",
    "!nvidia-smi"
   ]
  },
  {
   "cell_type": "code",
   "execution_count": 4,
   "metadata": {},
   "outputs": [],
   "source": [
    "back_dict=splines.mat_to_dict()\n",
    "spline_prims=splines.spline_dict(back_dict)\n",
    "images=splines.dict_images()"
   ]
  },
  {
   "cell_type": "code",
   "execution_count": 5,
   "metadata": {},
   "outputs": [
    {
     "data": {
      "image/png": "[encoded data removed]",
      "text/plain": [
       "<Figure size 432x288 with 1 Axes>"
      ]
     },
     "metadata": {
      "needs_background": "light"
     },
     "output_type": "display_data"
    }
   ],
   "source": [
    "splines.plot_char(spline_prims['Grantha'][1][3][0])"
   ]
  },
  {
   "cell_type": "code",
   "execution_count": 6,
   "metadata": {},
   "outputs": [],
   "source": [
    "class encoder(nn.Module):\n",
    "    def __init__(self):\n",
    "        super().__init__()\n",
    "        self.encode=nn.Sequential(\n",
    "            nn.Linear(50,1000),\n",
    "            nn.ReLU(True),\n",
    "            nn.Linear(1000,1000),\n",
    "            nn.ReLU(True),\n",
    "            nn.Linear(1000,4),\n",
    "        )\n",
    "        self.mu=nn.Linear(4,2)\n",
    "        self.var=nn.Linear(4,2)\n",
    "        \n",
    "    def forward(self,x):\n",
    "        x=self.encode(x)\n",
    "        return [self.mu(x),self.var(x)]\n",
    "    \n",
    "class decoder(nn.Module):\n",
    "    def __init__(self):\n",
    "        super().__init__()\n",
    "        self.decode=nn.Sequential(\n",
    "            nn.Linear(2,1000),\n",
    "            nn.ReLU(),\n",
    "            nn.Linear(1000,1000),\n",
    "            nn.ReLU(),\n",
    "            nn.Linear(1000,50),\n",
    "        )\n",
    "        \n",
    "    def forward(self,x):\n",
    "        return self.decode(x)"
   ]
  },
  {
   "cell_type": "code",
   "execution_count": 7,
   "metadata": {},
   "outputs": [
    {
     "data": {
      "text/plain": [
       "'cpu'"
      ]
     },
     "execution_count": 7,
     "metadata": {},
     "output_type": "execute_result"
    }
   ],
   "source": [
    "device=\"cuda:0\" if torch.cuda.is_available() else \"cpu\"\n",
    "device"
   ]
  },
  {
   "cell_type": "code",
   "execution_count": 8,
   "metadata": {},
   "outputs": [],
   "source": [
    "def gen_latent(mu, logvar):\n",
    "        \"\"\"\n",
    "        Reparameterization trick to sample from N(mu, var) from\n",
    "        N(0,1).\n",
    "        :param mu: (Tensor) Mean of the latent Gaussian [B x D]\n",
    "        :param logvar: (Tensor) Standard deviation of the latent Gaussian [B x D]\n",
    "        :return: (Tensor) [B x D]\n",
    "        \"\"\"\n",
    "        std = torch.exp(0.5 * logvar)\n",
    "        eps = torch.randn_like(std)\n",
    "        return eps * std + mu"
   ]
  },
  {
   "cell_type": "code",
   "execution_count": 9,
   "metadata": {},
   "outputs": [],
   "source": [
    "enc=encoder().to(device)\n",
    "dec=decoder().to(device)"
   ]
  },
  {
   "cell_type": "code",
   "execution_count": 10,
   "metadata": {},
   "outputs": [
    {
     "data": {
      "text/plain": [
       "<All keys matched successfully>"
      ]
     },
     "execution_count": 10,
     "metadata": {},
     "output_type": "execute_result"
    }
   ],
   "source": [
    "# Model trained on gpu, therefore stored weights serialize on a cuda device\n",
    "# only. Since testing on local machine, using map_location=torch.device('cpu') to map on cpu.\n",
    "enc.load_state_dict(torch.load('./weights/encoder.pth',map_location=torch.device('cpu')))\n",
    "dec.load_state_dict(torch.load('./weights/decoder.pth',map_location=torch.device('cpu')))"
   ]
  },
  {
   "cell_type": "code",
   "execution_count": 11,
   "metadata": {},
   "outputs": [],
   "source": [
    "def normalize(arr):\n",
    "        mu_x=np.mean(arr[:,[0]])\n",
    "        mu_y=np.mean(arr[:,[1]])\n",
    "        std_x=np.std(arr[:,[0]])\n",
    "        std_y=np.std(arr[:,[1]])\n",
    "        return np.concatenate((((arr[:,0]-mu_x)).reshape(25,1),((arr[:,1]-mu_y)).reshape(25,1)),axis=1)\n",
    "def eval_char(chr):\n",
    "    \"\"\"\n",
    "    Function to show decoded character to see how the encoder has been trained.\n",
    "\n",
    "    Args:\n",
    "        chr (numpy array): Character to be evaluated.\n",
    "    \"\"\"\n",
    "    # spline_prims['Grantha'][1][3][0]\n",
    "    pred=[]\n",
    "    enc.eval()\n",
    "    dec.eval()\n",
    "    for prim in chr :\n",
    "        prim=normalize(prim)\n",
    "        prim=torch.tensor(prim).to(device).reshape(-1).unsqueeze(0).float()\n",
    "        mu,var=enc(prim)\n",
    "        mid=gen_latent(mu,var)\n",
    "        out=dec(mid).squeeze().reshape(25,2) # generated primitive\n",
    "        pred.append(out.detach().cpu().numpy())\n",
    "\n",
    "    return splines.plot_char(pred)"
   ]
  },
  {
   "cell_type": "code",
   "execution_count": 12,
   "metadata": {},
   "outputs": [
    {
     "name": "stdout",
     "output_type": "stream",
     "text": [
      "Decoded\n"
     ]
    },
    {
     "data": {
      "image/png": "[encoded data removed]",
      "text/plain": [
       "<Figure size 432x288 with 1 Axes>"
      ]
     },
     "metadata": {
      "needs_background": "light"
     },
     "output_type": "display_data"
    },
    {
     "name": "stdout",
     "output_type": "stream",
     "text": [
      "original\n"
     ]
    },
    {
     "data": {
      "image/png": "[encoded data removed]",
      "text/plain": [
       "<Figure size 432x288 with 1 Axes>"
      ]
     },
     "metadata": {
      "needs_background": "light"
     },
     "output_type": "display_data"
    },
    {
     "name": "stdout",
     "output_type": "stream",
     "text": [
      "original normalized\n"
     ]
    },
    {
     "data": {
      "image/png": "[encoded data removed]",
      "text/plain": [
       "<Figure size 432x288 with 1 Axes>"
      ]
     },
     "metadata": {
      "needs_background": "light"
     },
     "output_type": "display_data"
    }
   ],
   "source": [
    "CHAR=spline_prims['Gujarati'][9][3][0]\n",
    "# CHAR=spline_prims['Grantha'][1][3][0]\n",
    "print(\"Decoded\")\n",
    "eval_char(CHAR)\n",
    "print(\"original\")\n",
    "splines.plot_char(CHAR)\n",
    "print('original normalized')\n",
    "n=[]\n",
    "for p in CHAR:\n",
    "    n.append(normalize(p))\n",
    "splines.plot_char(n)"
   ]
  },
  {
   "cell_type": "code",
   "execution_count": null,
   "metadata": {},
   "outputs": [],
   "source": []
  },
  {
   "cell_type": "code",
   "execution_count": null,
   "metadata": {},
   "outputs": [],
   "source": []
  }
 ],
 "metadata": {
  "kernelspec": {
   "display_name": "Python 3",
   "language": "python",
   "name": "python3"
  },
  "language_info": {
   "codemirror_mode": {
    "name": "ipython",
    "version": 3
   },
   "file_extension": ".py",
   "mimetype": "text/x-python",
   "name": "python",
   "nbconvert_exporter": "python",
   "pygments_lexer": "ipython3",
   "version": "3.7.4"
  }
 },
 "nbformat": 4,
 "nbformat_minor": 2
}
